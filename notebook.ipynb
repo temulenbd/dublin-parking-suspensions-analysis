{
 "cells": [
  {
   "cell_type": "markdown",
   "id": "70dfa0f7",
   "metadata": {},
   "source": [
    "TEMUULEN Bulgan\n",
    "# [EXPLORATION AND ANALYSIS OF PUBLICLY AVAILABLE DATA: SUSPENSION OF PARKING BAYS IN DUBLIN CITY COUNCIL](https://github.com/temulenbd/pbs)"
   ]
  },
  {
   "cell_type": "markdown",
   "id": "1cfeb808",
   "metadata": {},
   "source": [
    "## 1. CREATING THE DATA FRAME AND UNDERSTANDING OF THE DATASET"
   ]
  },
  {
   "cell_type": "code",
   "execution_count": 1,
   "id": "90ab53e9",
   "metadata": {},
   "outputs": [],
   "source": [
    "# Load nessesary libraries.\n",
    "import chardet\n",
    "import numpy as np\n",
    "import pandas as pd\n",
    "import seaborn as sns\n",
    "import matplotlib.pyplot as plt\n",
    "from scipy.stats import poisson\n",
    "from numpy import random\n",
    "from datetime import timedelta\n",
    "from sklearn.model_selection import train_test_split, GridSearchCV\n",
    "from sklearn.preprocessing import StandardScaler, OneHotEncoder\n",
    "from sklearn.compose import ColumnTransformer\n",
    "from sklearn.pipeline import Pipeline\n",
    "from sklearn.linear_model import LinearRegression, Ridge, Lasso\n",
    "from sklearn.ensemble import RandomForestRegressor, GradientBoostingRegressor\n",
    "from sklearn.metrics import mean_absolute_error, mean_squared_error, r2_score\n",
    "import pandas as pd\n",
    "import numpy as np\n",
    "import matplotlib.pyplot as plt\n",
    "import warnings\n",
    "warnings.filterwarnings('ignore')"
   ]
  },
  {
   "cell_type": "markdown",
   "id": "292f9ac9",
   "metadata": {},
   "source": [
    "The file was causing errors in the default read mode. The entire dataset will be analyzed using 'chardet' to determine the encoding type. Afterward, the data will be read using the 'latin1' encoding."
   ]
  },
  {
   "cell_type": "code",
   "execution_count": 2,
   "id": "eee349e3",
   "metadata": {
    "scrolled": true
   },
   "outputs": [
    {
     "data": {
      "text/plain": [
       "{'encoding': 'ISO-8859-1', 'confidence': 0.73, 'language': ''}"
      ]
     },
     "execution_count": 2,
     "metadata": {},
     "output_type": "execute_result"
    }
   ],
   "source": [
    "# Detect the encoding of a file\n",
    "with open('dccparkingbaysuspensionsp20110930-1044.csv', 'rb') as rawdata:\n",
    "    result = chardet.detect(rawdata.read(-1))\n",
    "result"
   ]
  },
  {
   "cell_type": "code",
   "execution_count": 3,
   "id": "27dc5b5f",
   "metadata": {},
   "outputs": [],
   "source": [
    "# Load a CSV file into a DataFrame\n",
    "df = pd.read_csv('dccparkingbaysuspensionsp20110930-1044.csv', encoding='latin1')"
   ]
  },
  {
   "cell_type": "code",
   "execution_count": 4,
   "id": "11c613c1",
   "metadata": {},
   "outputs": [
    {
     "data": {
      "text/html": [
       "<div>\n",
       "<style scoped>\n",
       "    .dataframe tbody tr th:only-of-type {\n",
       "        vertical-align: middle;\n",
       "    }\n",
       "\n",
       "    .dataframe tbody tr th {\n",
       "        vertical-align: top;\n",
       "    }\n",
       "\n",
       "    .dataframe thead th {\n",
       "        text-align: right;\n",
       "    }\n",
       "</style>\n",
       "<table border=\"1\" class=\"dataframe\">\n",
       "  <thead>\n",
       "    <tr style=\"text-align: right;\">\n",
       "      <th></th>\n",
       "      <th>Id</th>\n",
       "      <th>Date</th>\n",
       "      <th>Location of Spaces</th>\n",
       "      <th>No of Spaces</th>\n",
       "      <th>Purpose</th>\n",
       "      <th>Date Suspended</th>\n",
       "      <th>Date Expired</th>\n",
       "      <th>Amount Paid</th>\n",
       "    </tr>\n",
       "  </thead>\n",
       "  <tbody>\n",
       "    <tr>\n",
       "      <th>0</th>\n",
       "      <td>1274</td>\n",
       "      <td>20-Jan-06</td>\n",
       "      <td>Commons Street (IFSC)</td>\n",
       "      <td>5</td>\n",
       "      <td>Parking Catering Vehicles</td>\n",
       "      <td>23-Jan-06</td>\n",
       "      <td>23-Jan-06</td>\n",
       "      <td>152.00</td>\n",
       "    </tr>\n",
       "    <tr>\n",
       "      <th>1</th>\n",
       "      <td>1275</td>\n",
       "      <td>18-Jan-06</td>\n",
       "      <td>St Stephens Green</td>\n",
       "      <td>3</td>\n",
       "      <td>Collection from KPMG</td>\n",
       "      <td>22-Jun-06</td>\n",
       "      <td>22-Jun-06</td>\n",
       "      <td>114.00</td>\n",
       "    </tr>\n",
       "  </tbody>\n",
       "</table>\n",
       "</div>"
      ],
      "text/plain": [
       "     Id       Date     Location of Spaces No of Spaces  \\\n",
       "0  1274  20-Jan-06  Commons Street (IFSC)            5   \n",
       "1  1275  18-Jan-06      St Stephens Green            3   \n",
       "\n",
       "                     Purpose Date Suspended Date Expired Amount Paid  \n",
       "0  Parking Catering Vehicles      23-Jan-06    23-Jan-06      152.00  \n",
       "1       Collection from KPMG      22-Jun-06    22-Jun-06      114.00  "
      ]
     },
     "execution_count": 4,
     "metadata": {},
     "output_type": "execute_result"
    }
   ],
   "source": [
    "# Check the DataFrame with head\n",
    "df.head(2)"
   ]
  },
  {
   "cell_type": "code",
   "execution_count": 5,
   "id": "37af2e7b",
   "metadata": {},
   "outputs": [
    {
     "data": {
      "text/html": [
       "<div>\n",
       "<style scoped>\n",
       "    .dataframe tbody tr th:only-of-type {\n",
       "        vertical-align: middle;\n",
       "    }\n",
       "\n",
       "    .dataframe tbody tr th {\n",
       "        vertical-align: top;\n",
       "    }\n",
       "\n",
       "    .dataframe thead th {\n",
       "        text-align: right;\n",
       "    }\n",
       "</style>\n",
       "<table border=\"1\" class=\"dataframe\">\n",
       "  <thead>\n",
       "    <tr style=\"text-align: right;\">\n",
       "      <th></th>\n",
       "      <th>Id</th>\n",
       "      <th>Date</th>\n",
       "      <th>Location of Spaces</th>\n",
       "      <th>No of Spaces</th>\n",
       "      <th>Purpose</th>\n",
       "      <th>Date Suspended</th>\n",
       "      <th>Date Expired</th>\n",
       "      <th>Amount Paid</th>\n",
       "    </tr>\n",
       "  </thead>\n",
       "  <tbody>\n",
       "    <tr>\n",
       "      <th>2090</th>\n",
       "      <td>4276</td>\n",
       "      <td>14-Jun-11</td>\n",
       "      <td>Fairview Strand</td>\n",
       "      <td>6</td>\n",
       "      <td>Roadhog</td>\n",
       "      <td>26-Jul-11</td>\n",
       "      <td>26-Jul-11</td>\n",
       "      <td>114.00</td>\n",
       "    </tr>\n",
       "    <tr>\n",
       "      <th>2091</th>\n",
       "      <td>4277</td>\n",
       "      <td>28-Jun-11</td>\n",
       "      <td>Marlborough Street</td>\n",
       "      <td>1</td>\n",
       "      <td>Shopfitters on Site at Sony Centre</td>\n",
       "      <td>28-Jun-11</td>\n",
       "      <td>01-Jul-11</td>\n",
       "      <td>200.00</td>\n",
       "    </tr>\n",
       "  </tbody>\n",
       "</table>\n",
       "</div>"
      ],
      "text/plain": [
       "        Id       Date  Location of Spaces No of Spaces  \\\n",
       "2090  4276  14-Jun-11     Fairview Strand            6   \n",
       "2091  4277  28-Jun-11  Marlborough Street            1   \n",
       "\n",
       "                                 Purpose Date Suspended Date Expired  \\\n",
       "2090                             Roadhog      26-Jul-11    26-Jul-11   \n",
       "2091  Shopfitters on Site at Sony Centre      28-Jun-11    01-Jul-11   \n",
       "\n",
       "     Amount Paid  \n",
       "2090      114.00  \n",
       "2091      200.00  "
      ]
     },
     "execution_count": 5,
     "metadata": {},
     "output_type": "execute_result"
    }
   ],
   "source": [
    "# Check the DataFrame with tail\n",
    "df.tail(2)"
   ]
  },
  {
   "cell_type": "code",
   "execution_count": 6,
   "id": "4ad82f05",
   "metadata": {},
   "outputs": [
    {
     "data": {
      "text/plain": [
       "Id                     int64\n",
       "Date                  object\n",
       "Location of Spaces    object\n",
       "No of Spaces          object\n",
       "Purpose               object\n",
       "Date Suspended        object\n",
       "Date Expired          object\n",
       "Amount Paid           object\n",
       "dtype: object"
      ]
     },
     "execution_count": 6,
     "metadata": {},
     "output_type": "execute_result"
    }
   ],
   "source": [
    "# Check the columns and data type\n",
    "df.dtypes"
   ]
  },
  {
   "cell_type": "code",
   "execution_count": 7,
   "id": "6140348d",
   "metadata": {},
   "outputs": [
    {
     "data": {
      "text/plain": [
       "(2092, 8)"
      ]
     },
     "execution_count": 7,
     "metadata": {},
     "output_type": "execute_result"
    }
   ],
   "source": [
    "# Check the shape of the DatafFame\n",
    "df.shape"
   ]
  },
  {
   "cell_type": "code",
   "execution_count": 8,
   "id": "50c6440d",
   "metadata": {
    "scrolled": true
   },
   "outputs": [
    {
     "name": "stdout",
     "output_type": "stream",
     "text": [
      "<class 'pandas.core.frame.DataFrame'>\n",
      "RangeIndex: 2092 entries, 0 to 2091\n",
      "Data columns (total 8 columns):\n",
      " #   Column              Non-Null Count  Dtype \n",
      "---  ------              --------------  ----- \n",
      " 0   Id                  2092 non-null   int64 \n",
      " 1   Date                2091 non-null   object\n",
      " 2   Location of Spaces  2091 non-null   object\n",
      " 3   No of Spaces        2087 non-null   object\n",
      " 4   Purpose             2090 non-null   object\n",
      " 5   Date Suspended      2088 non-null   object\n",
      " 6   Date Expired        2085 non-null   object\n",
      " 7   Amount Paid         2092 non-null   object\n",
      "dtypes: int64(1), object(7)\n",
      "memory usage: 130.9+ KB\n"
     ]
    }
   ],
   "source": [
    "# Display a concise summary of the DataFrame\n",
    "df.info()"
   ]
  },
  {
   "cell_type": "markdown",
   "id": "fe28f537",
   "metadata": {},
   "source": [
    "##   2. DATA CLEANING AND MANIPULATION"
   ]
  },
  {
   "cell_type": "markdown",
   "id": "8b3dbdb7",
   "metadata": {},
   "source": [
    "### **2.1. Renaming columns, adding new columns, and re-arranging them.**"
   ]
  },
  {
   "cell_type": "markdown",
   "id": "f1145701",
   "metadata": {},
   "source": [
    "The \"ID\" column will be removed, and number indexing will be used for data manipulation and mapping. Additionally, two new columns will be added."
   ]
  },
  {
   "cell_type": "code",
   "execution_count": 9,
   "id": "ffd079df",
   "metadata": {},
   "outputs": [],
   "source": [
    "# Drop the column\n",
    "df.drop(labels='Id', axis=1, inplace=True)\n",
    "\n",
    "# Add columns\n",
    "df['str_class'] = ''\n",
    "df['duration'] = ''"
   ]
  },
  {
   "cell_type": "markdown",
   "id": "143b8bc6",
   "metadata": {},
   "source": [
    "Rename the data frame's columns with all lower letters and underscores instead of spaces and case letters, and then rearrange them."
   ]
  },
  {
   "cell_type": "code",
   "execution_count": 10,
   "id": "e3c145fd",
   "metadata": {},
   "outputs": [
    {
     "data": {
      "text/html": [
       "<div>\n",
       "<style scoped>\n",
       "    .dataframe tbody tr th:only-of-type {\n",
       "        vertical-align: middle;\n",
       "    }\n",
       "\n",
       "    .dataframe tbody tr th {\n",
       "        vertical-align: top;\n",
       "    }\n",
       "\n",
       "    .dataframe thead th {\n",
       "        text-align: right;\n",
       "    }\n",
       "</style>\n",
       "<table border=\"1\" class=\"dataframe\">\n",
       "  <thead>\n",
       "    <tr style=\"text-align: right;\">\n",
       "      <th></th>\n",
       "      <th>location_of_spaces</th>\n",
       "      <th>str_class</th>\n",
       "      <th>purpose</th>\n",
       "      <th>date</th>\n",
       "      <th>date_suspended</th>\n",
       "      <th>date_expired</th>\n",
       "      <th>duration</th>\n",
       "      <th>no_of_spaces</th>\n",
       "      <th>amount_paid</th>\n",
       "    </tr>\n",
       "  </thead>\n",
       "  <tbody>\n",
       "    <tr>\n",
       "      <th>0</th>\n",
       "      <td>Commons Street (IFSC)</td>\n",
       "      <td></td>\n",
       "      <td>Parking Catering Vehicles</td>\n",
       "      <td>20-Jan-06</td>\n",
       "      <td>23-Jan-06</td>\n",
       "      <td>23-Jan-06</td>\n",
       "      <td></td>\n",
       "      <td>5</td>\n",
       "      <td>152.00</td>\n",
       "    </tr>\n",
       "    <tr>\n",
       "      <th>1</th>\n",
       "      <td>St Stephens Green</td>\n",
       "      <td></td>\n",
       "      <td>Collection from KPMG</td>\n",
       "      <td>18-Jan-06</td>\n",
       "      <td>22-Jun-06</td>\n",
       "      <td>22-Jun-06</td>\n",
       "      <td></td>\n",
       "      <td>3</td>\n",
       "      <td>114.00</td>\n",
       "    </tr>\n",
       "  </tbody>\n",
       "</table>\n",
       "</div>"
      ],
      "text/plain": [
       "      location_of_spaces str_class                    purpose       date  \\\n",
       "0  Commons Street (IFSC)            Parking Catering Vehicles  20-Jan-06   \n",
       "1      St Stephens Green                 Collection from KPMG  18-Jan-06   \n",
       "\n",
       "  date_suspended date_expired duration no_of_spaces amount_paid  \n",
       "0      23-Jan-06    23-Jan-06                     5      152.00  \n",
       "1      22-Jun-06    22-Jun-06                     3      114.00  "
      ]
     },
     "execution_count": 10,
     "metadata": {},
     "output_type": "execute_result"
    }
   ],
   "source": [
    "# Rename columns in the DataFrame to lowercase and replace spaces with underscores for better consistency and usability\n",
    "df.rename(columns={col: col.replace(' ', '_').lower() for col in df.columns}, inplace=True)\n",
    "\n",
    "# Reorder the columns in the DataFrame based on the specified index positions\n",
    "df = df.iloc[:, [1,7,3,0,4,5,8,2,6]]\n",
    "df.head(2)"
   ]
  },
  {
   "cell_type": "markdown",
   "id": "4829862c",
   "metadata": {},
   "source": [
    "### **2.2. Data type conversion of each column**"
   ]
  },
  {
   "cell_type": "markdown",
   "id": "90edf5a9",
   "metadata": {},
   "source": [
    "#### `location_of_spaces`\n",
    "\n",
    "A custom function will be created for the data type conversion of the \"location_of_spaces\" column, which will be applied using the 'apply()' function. Subsequently, all the values in the column will be converted to strings, with None values replaced by empty strings."
   ]
  },
  {
   "cell_type": "code",
   "execution_count": 11,
   "id": "0083fd86",
   "metadata": {},
   "outputs": [
    {
     "data": {
      "text/plain": [
       "dtype('O')"
      ]
     },
     "execution_count": 11,
     "metadata": {},
     "output_type": "execute_result"
    }
   ],
   "source": [
    "# Custom function to convert a value to a string, handling the case where the value is None\n",
    "def convert_to_str(val):         \n",
    "    if val == None:\n",
    "        return ''\n",
    "    else:\n",
    "        return str(val)\n",
    "\n",
    "# Applying the custom function to the 'location_of_spaces' column\n",
    "df['location_of_spaces'] = df['location_of_spaces'].apply(convert_to_str)\n",
    "df['location_of_spaces'].dtype"
   ]
  },
  {
   "cell_type": "markdown",
   "id": "d005e39d",
   "metadata": {},
   "source": [
    "#### `purpose`\n",
    "\n",
    "The same approach will be applied to the \"purpose\" column, converting all values to strings, while replacing None values with empty strings."
   ]
  },
  {
   "cell_type": "code",
   "execution_count": 12,
   "id": "d082c4cf",
   "metadata": {},
   "outputs": [
    {
     "data": {
      "text/plain": [
       "dtype('O')"
      ]
     },
     "execution_count": 12,
     "metadata": {},
     "output_type": "execute_result"
    }
   ],
   "source": [
    "# Applying the custom function to the 'purpose' column\n",
    "df['purpose'] = df['purpose'].apply(convert_to_str)\n",
    "\n",
    "df['purpose'].dtype"
   ]
  },
  {
   "cell_type": "markdown",
   "id": "d19abcaf",
   "metadata": {},
   "source": [
    "#### `date` `date_suspended` `date_expired`\n",
    "\n",
    "The data types of the 'date', 'date_suspended', and 'date_expired' columns will be converted from Object to DateTime format."
   ]
  },
  {
   "cell_type": "code",
   "execution_count": 13,
   "id": "a1ef5d41",
   "metadata": {},
   "outputs": [
    {
     "data": {
      "text/plain": [
       "location_of_spaces            object\n",
       "str_class                     object\n",
       "purpose                       object\n",
       "date                  datetime64[ns]\n",
       "date_suspended        datetime64[ns]\n",
       "date_expired          datetime64[ns]\n",
       "duration                      object\n",
       "no_of_spaces                  object\n",
       "amount_paid                   object\n",
       "dtype: object"
      ]
     },
     "execution_count": 13,
     "metadata": {},
     "output_type": "execute_result"
    }
   ],
   "source": [
    "# Convert the 'date', 'date_suspended', and 'date_expired' columns to datetime objects\n",
    "df['date'] = pd.to_datetime(df['date'])\n",
    "df['date_suspended'] = pd.to_datetime(df['date_suspended'])\n",
    "df['date_expired'] = pd.to_datetime(df['date_expired'])\n",
    "\n",
    "df.dtypes"
   ]
  },
  {
   "cell_type": "markdown",
   "id": "d94c5450",
   "metadata": {},
   "source": [
    "#### `no_of_spaces`\n",
    "\n",
    "The unique values in the 'no_of_space's column will be checked first. Any non-numeric values will be replaced with either Numeric or None, depending on the type."
   ]
  },
  {
   "cell_type": "code",
   "execution_count": 14,
   "id": "067dba58",
   "metadata": {},
   "outputs": [
    {
     "data": {
      "text/plain": [
       "no_of_spaces\n",
       "4                                           513\n",
       "2                                           314\n",
       "3                                           264\n",
       "6                                           258\n",
       "5                                           162\n",
       "8                                            99\n",
       "10                                           91\n",
       "7                                            84\n",
       "1                                            79\n",
       "12                                           44\n",
       "20                                           21\n",
       "15                                           21\n",
       "9                                            19\n",
       "13                                           16\n",
       "All                                          14\n",
       "16                                           13\n",
       "18                                            9\n",
       "25                                            7\n",
       "14                                            7\n",
       "22                                            6\n",
       "40                                            5\n",
       "30                                            4\n",
       "17                                            3\n",
       "32                                            3\n",
       "21                                            3\n",
       "34                                            3\n",
       "24                                            2\n",
       "38                                            2\n",
       "44                                            2\n",
       "29                                            1\n",
       "37                                            1\n",
       "35                                            1\n",
       "11                                            1\n",
       "150                                           1\n",
       "56                                            1\n",
       "72                                            1\n",
       "75                                            1\n",
       "15 (plus 10 parking spaces - Coach Area)      1\n",
       "47                                            1\n",
       "140                                           1\n",
       "26                                            1\n",
       "13 Bays                                       1\n",
       "An Additional 2                               1\n",
       "All spaces                                    1\n",
       "10 (Enitre Length)                            1\n",
       "15 (All)                                      1\n",
       "19                                            1\n",
       "27                                            1\n",
       "Name: count, dtype: int64"
      ]
     },
     "execution_count": 14,
     "metadata": {},
     "output_type": "execute_result"
    }
   ],
   "source": [
    "# Calculate the frequency of each unique value in the 'no_of_spaces' column\n",
    "df['no_of_spaces'].value_counts()"
   ]
  },
  {
   "cell_type": "code",
   "execution_count": 15,
   "id": "51e6f861",
   "metadata": {},
   "outputs": [
    {
     "data": {
      "text/plain": [
       "dtype('float64')"
      ]
     },
     "execution_count": 15,
     "metadata": {},
     "output_type": "execute_result"
    }
   ],
   "source": [
    "df['no_of_spaces'].replace(to_replace={'15 (plus 10 parking spaces - Coach Area)':25,\n",
    "                                       '13 Bays':13,\n",
    "                                       'An Additional 2':3,\n",
    "                                       '10 (Enitre Length)':10,\n",
    "                                       '15 (All)':15,\n",
    "                                       'All spaces':np.nan,\n",
    "                                       'All':np.nan}, inplace=True)\n",
    "\n",
    "df['no_of_spaces'] = pd.to_numeric(df['no_of_spaces'])\n",
    "df['no_of_spaces'].dtype"
   ]
  },
  {
   "cell_type": "markdown",
   "id": "94d7830a",
   "metadata": {},
   "source": [
    "#### `amount_paid`\n",
    "\n",
    "A custom function will be created for converting the data type of the \"amount_paid\" column, which will be applied using the 'apply()' function. All values in the column will be converted to Float, while None values will be replaced with NaN."
   ]
  },
  {
   "cell_type": "code",
   "execution_count": 16,
   "id": "32c7f4ab",
   "metadata": {},
   "outputs": [
    {
     "data": {
      "text/plain": [
       "dtype('float64')"
      ]
     },
     "execution_count": 16,
     "metadata": {},
     "output_type": "execute_result"
    }
   ],
   "source": [
    "# Custom function to convert a value to a float, handling commas and converting zeros to NaN\n",
    "def convert_to_float(val):     \n",
    "    new_val = val.replace(',','')\n",
    "    if float(new_val) == 0:\n",
    "        return float('Nan')\n",
    "    else:\n",
    "        return float(new_val)\n",
    "\n",
    "# Apply the custom function to the 'amount_paid' column\n",
    "df['amount_paid'] = df['amount_paid'].apply(convert_to_float)\n",
    "df['amount_paid'].dtype"
   ]
  },
  {
   "cell_type": "markdown",
   "id": "05d7440b",
   "metadata": {},
   "source": [
    "### 2.3. Accessing, modifying, and handling the values."
   ]
  },
  {
   "cell_type": "markdown",
   "id": "19181181",
   "metadata": {},
   "source": [
    "I am checking the total missing values of the DataFrame and missing values in each column."
   ]
  },
  {
   "cell_type": "code",
   "execution_count": 17,
   "id": "df5cfa08",
   "metadata": {},
   "outputs": [
    {
     "data": {
      "text/plain": [
       "379"
      ]
     },
     "execution_count": 17,
     "metadata": {},
     "output_type": "execute_result"
    }
   ],
   "source": [
    "# Calculate the total number of missing values in the DataFrame\n",
    "df.isnull().sum().sum()"
   ]
  },
  {
   "cell_type": "code",
   "execution_count": 18,
   "id": "7c24af17",
   "metadata": {},
   "outputs": [
    {
     "data": {
      "text/plain": [
       "location_of_spaces      0\n",
       "str_class               0\n",
       "purpose                 0\n",
       "date                    1\n",
       "date_suspended          4\n",
       "date_expired            7\n",
       "duration                0\n",
       "no_of_spaces           20\n",
       "amount_paid           347\n",
       "dtype: int64"
      ]
     },
     "execution_count": 18,
     "metadata": {},
     "output_type": "execute_result"
    }
   ],
   "source": [
    "# Calculate the number of missing values in each column of the DataFrame\n",
    "df.isnull().sum()"
   ]
  },
  {
   "cell_type": "markdown",
   "id": "8ee402ba",
   "metadata": {},
   "source": [
    "Duplicates are being checked and removed from the DataFrame."
   ]
  },
  {
   "cell_type": "code",
   "execution_count": 19,
   "id": "e693e708",
   "metadata": {},
   "outputs": [
    {
     "data": {
      "text/html": [
       "<div>\n",
       "<style scoped>\n",
       "    .dataframe tbody tr th:only-of-type {\n",
       "        vertical-align: middle;\n",
       "    }\n",
       "\n",
       "    .dataframe tbody tr th {\n",
       "        vertical-align: top;\n",
       "    }\n",
       "\n",
       "    .dataframe thead th {\n",
       "        text-align: right;\n",
       "    }\n",
       "</style>\n",
       "<table border=\"1\" class=\"dataframe\">\n",
       "  <thead>\n",
       "    <tr style=\"text-align: right;\">\n",
       "      <th></th>\n",
       "      <th>location_of_spaces</th>\n",
       "      <th>str_class</th>\n",
       "      <th>purpose</th>\n",
       "      <th>date</th>\n",
       "      <th>date_suspended</th>\n",
       "      <th>date_expired</th>\n",
       "      <th>duration</th>\n",
       "      <th>no_of_spaces</th>\n",
       "      <th>amount_paid</th>\n",
       "    </tr>\n",
       "  </thead>\n",
       "  <tbody>\n",
       "    <tr>\n",
       "      <th>604</th>\n",
       "      <td>St. Ignatius Road</td>\n",
       "      <td></td>\n",
       "      <td>Delivery</td>\n",
       "      <td>2006-12-21</td>\n",
       "      <td>2007-01-03</td>\n",
       "      <td>2007-01-05</td>\n",
       "      <td></td>\n",
       "      <td>NaN</td>\n",
       "      <td>556.6</td>\n",
       "    </tr>\n",
       "    <tr>\n",
       "      <th>1574</th>\n",
       "      <td>Parnell Square East</td>\n",
       "      <td></td>\n",
       "      <td>Filming in Rotunda (Pillar Room)</td>\n",
       "      <td>2009-06-08</td>\n",
       "      <td>2009-06-11</td>\n",
       "      <td>2009-06-11</td>\n",
       "      <td></td>\n",
       "      <td>8.0</td>\n",
       "      <td>400.0</td>\n",
       "    </tr>\n",
       "    <tr>\n",
       "      <th>1670</th>\n",
       "      <td>Lennox Street</td>\n",
       "      <td></td>\n",
       "      <td>Filming</td>\n",
       "      <td>2009-11-12</td>\n",
       "      <td>2009-11-18</td>\n",
       "      <td>2009-11-18</td>\n",
       "      <td></td>\n",
       "      <td>6.0</td>\n",
       "      <td>246.0</td>\n",
       "    </tr>\n",
       "  </tbody>\n",
       "</table>\n",
       "</div>"
      ],
      "text/plain": [
       "       location_of_spaces str_class                           purpose  \\\n",
       "604     St. Ignatius Road                                    Delivery   \n",
       "1574  Parnell Square East            Filming in Rotunda (Pillar Room)   \n",
       "1670        Lennox Street                                     Filming   \n",
       "\n",
       "           date date_suspended date_expired duration  no_of_spaces  \\\n",
       "604  2006-12-21     2007-01-03   2007-01-05                    NaN   \n",
       "1574 2009-06-08     2009-06-11   2009-06-11                    8.0   \n",
       "1670 2009-11-12     2009-11-18   2009-11-18                    6.0   \n",
       "\n",
       "      amount_paid  \n",
       "604         556.6  \n",
       "1574        400.0  \n",
       "1670        246.0  "
      ]
     },
     "execution_count": 19,
     "metadata": {},
     "output_type": "execute_result"
    }
   ],
   "source": [
    "# Identify and display duplicate rows in the DataFrame\n",
    "df[df.duplicated()]"
   ]
  },
  {
   "cell_type": "code",
   "execution_count": 20,
   "id": "4a7240e3",
   "metadata": {},
   "outputs": [
    {
     "data": {
      "text/plain": [
       "location_of_spaces    2092\n",
       "str_class             2092\n",
       "purpose               2092\n",
       "date                  2091\n",
       "date_suspended        2088\n",
       "date_expired          2085\n",
       "duration              2092\n",
       "no_of_spaces          2072\n",
       "amount_paid           1745\n",
       "dtype: int64"
      ]
     },
     "execution_count": 20,
     "metadata": {},
     "output_type": "execute_result"
    }
   ],
   "source": [
    "# Count the number of non-null values in each column of the DataFrame\n",
    "df.count()"
   ]
  },
  {
   "cell_type": "code",
   "execution_count": 21,
   "id": "cede7d2c",
   "metadata": {},
   "outputs": [
    {
     "data": {
      "text/plain": [
       "location_of_spaces    2089\n",
       "str_class             2089\n",
       "purpose               2089\n",
       "date                  2088\n",
       "date_suspended        2085\n",
       "date_expired          2082\n",
       "duration              2089\n",
       "no_of_spaces          2070\n",
       "amount_paid           1742\n",
       "dtype: int64"
      ]
     },
     "execution_count": 21,
     "metadata": {},
     "output_type": "execute_result"
    }
   ],
   "source": [
    "# Remove duplicate rows from the DataFrame\n",
    "df = df.drop_duplicates()\n",
    "df.count()"
   ]
  },
  {
   "cell_type": "markdown",
   "id": "cf1c144c",
   "metadata": {},
   "source": [
    "After removing three rows from the DataFrame, the index order will be reset to ensure continuity."
   ]
  },
  {
   "cell_type": "code",
   "execution_count": 22,
   "id": "4ce3128a",
   "metadata": {},
   "outputs": [],
   "source": [
    "# Reset the index of the DataFrame, adding a new default index\n",
    "df = df.reset_index()\n",
    "df = df.iloc[:, 1:]"
   ]
  },
  {
   "cell_type": "markdown",
   "id": "09f8a87c",
   "metadata": {},
   "source": [
    "#### `location_of_spaces`\n",
    "\n",
    "The 'location_of_spaces' column contains many errors due to manual input by random users, which leads to linguistic and spelling issues. Using these erroneous values directly would be challenging, and simply removing them is not a viable option. To address this, I plan to use a more reliable source: a CSV file containing standard street names, found in the Transport section of the government's <data.gov.ie> website. This file includes columns that categorize road and street names by street class, area code, area type, and sub-zone. I will use this dataset to replace the erroneous values with standardized street names."
   ]
  },
  {
   "cell_type": "code",
   "execution_count": 23,
   "id": "65b95d61",
   "metadata": {},
   "outputs": [
    {
     "name": "stdout",
     "output_type": "stream",
     "text": [
      "{'encoding': 'ISO-8859-1', 'confidence': 0.7295679673408915, 'language': ''}\n"
     ]
    }
   ],
   "source": [
    "# Opening the CSV file in binary mode and detecting the character encoding\n",
    "with open('DCC_DublincityRoadsandStreets.csv', 'rb') as rawdata:\n",
    "    result = chardet.detect(rawdata.read(-1))\n",
    "    \n",
    "print(result)"
   ]
  },
  {
   "cell_type": "code",
   "execution_count": 24,
   "id": "00977f37",
   "metadata": {},
   "outputs": [
    {
     "data": {
      "text/html": [
       "<div>\n",
       "<style scoped>\n",
       "    .dataframe tbody tr th:only-of-type {\n",
       "        vertical-align: middle;\n",
       "    }\n",
       "\n",
       "    .dataframe tbody tr th {\n",
       "        vertical-align: top;\n",
       "    }\n",
       "\n",
       "    .dataframe thead th {\n",
       "        text-align: right;\n",
       "    }\n",
       "</style>\n",
       "<table border=\"1\" class=\"dataframe\">\n",
       "  <thead>\n",
       "    <tr style=\"text-align: right;\">\n",
       "      <th></th>\n",
       "      <th>street_name</th>\n",
       "      <th>street_class_code</th>\n",
       "      <th>new_area_code</th>\n",
       "      <th>surface_type_code</th>\n",
       "      <th>Subarea</th>\n",
       "      <th>Subarea EA</th>\n",
       "      <th>line_length</th>\n",
       "      <th>route_no</th>\n",
       "      <th>year_built</th>\n",
       "      <th>os_sheets</th>\n",
       "      <th>road_start</th>\n",
       "      <th>road_finish</th>\n",
       "      <th>Irish</th>\n",
       "    </tr>\n",
       "  </thead>\n",
       "  <tbody>\n",
       "    <tr>\n",
       "      <th>0</th>\n",
       "      <td>ABBEY PARK</td>\n",
       "      <td>6.0</td>\n",
       "      <td>3</td>\n",
       "      <td>2.0</td>\n",
       "      <td>14</td>\n",
       "      <td>14</td>\n",
       "      <td>172.0</td>\n",
       "      <td>NaN</td>\n",
       "      <td>NaN</td>\n",
       "      <td>319805.0</td>\n",
       "      <td>KILLESTER AVE.</td>\n",
       "      <td>NaN</td>\n",
       "      <td>Páirc na Mainistreach</td>\n",
       "    </tr>\n",
       "    <tr>\n",
       "      <th>1</th>\n",
       "      <td>ABBEY STREET LOWER</td>\n",
       "      <td>3.0</td>\n",
       "      <td>1</td>\n",
       "      <td>1.0</td>\n",
       "      <td>15</td>\n",
       "      <td>15</td>\n",
       "      <td>315.0</td>\n",
       "      <td>NaN</td>\n",
       "      <td>NaN</td>\n",
       "      <td>326401.0</td>\n",
       "      <td>O'CONNELL ST.</td>\n",
       "      <td>BERESFORD PLACE</td>\n",
       "      <td>Sráid na Mainistreach íocht</td>\n",
       "    </tr>\n",
       "    <tr>\n",
       "      <th>2</th>\n",
       "      <td>ABBEY STREET MIDDLE</td>\n",
       "      <td>3.0</td>\n",
       "      <td>1</td>\n",
       "      <td>1.0</td>\n",
       "      <td>12</td>\n",
       "      <td>12</td>\n",
       "      <td>251.0</td>\n",
       "      <td>NaN</td>\n",
       "      <td>NaN</td>\n",
       "      <td>326305.0</td>\n",
       "      <td>LR. LIFFEY STREET</td>\n",
       "      <td>O'CONNELL STREET</td>\n",
       "      <td>Sráid Mheadhan na Mainistreach</td>\n",
       "    </tr>\n",
       "  </tbody>\n",
       "</table>\n",
       "</div>"
      ],
      "text/plain": [
       "           street_name  street_class_code  new_area_code  surface_type_code  \\\n",
       "0           ABBEY PARK                6.0              3                2.0   \n",
       "1   ABBEY STREET LOWER                3.0              1                1.0   \n",
       "2  ABBEY STREET MIDDLE                3.0              1                1.0   \n",
       "\n",
       "  Subarea Subarea EA  line_length route_no  year_built  os_sheets  \\\n",
       "0      14         14        172.0      NaN         NaN   319805.0   \n",
       "1      15         15        315.0      NaN         NaN   326401.0   \n",
       "2      12         12        251.0      NaN         NaN   326305.0   \n",
       "\n",
       "          road_start       road_finish                           Irish  \n",
       "0     KILLESTER AVE.               NaN           Páirc na Mainistreach  \n",
       "1      O'CONNELL ST.   BERESFORD PLACE     Sráid na Mainistreach íocht  \n",
       "2  LR. LIFFEY STREET  O'CONNELL STREET  Sráid Mheadhan na Mainistreach  "
      ]
     },
     "execution_count": 24,
     "metadata": {},
     "output_type": "execute_result"
    }
   ],
   "source": [
    "# Reading the CSV file containing Dublin city roads and streets data, using Latin-1 encoding\n",
    "df_standard_names = pd.read_csv('DCC_DublincityRoadsandStreets.csv', encoding='latin1')\n",
    "\n",
    "df_standard_names.head(3)"
   ]
  },
  {
   "cell_type": "code",
   "execution_count": 25,
   "id": "fdb9b653",
   "metadata": {},
   "outputs": [
    {
     "data": {
      "text/plain": [
       "(4771, 13)"
      ]
     },
     "execution_count": 25,
     "metadata": {},
     "output_type": "execute_result"
    }
   ],
   "source": [
    "# Checking the shape (number of rows and columns) of the DataFrame\n",
    "df_standard_names.shape"
   ]
  },
  {
   "cell_type": "markdown",
   "id": "40d772bf",
   "metadata": {},
   "source": [
    "The `for loop` will be used to scan all values in the \"street_name\" column of the \"df_standard_names\" DataFrame, as well as the \"location_of_spaces\" column in the main DataFrame. Afterward, each value will be compared, and user inputs will be replaced with standardized street names. The process will involve iterating forwards and backwards between the two DataFrames to ensure no common values are left unchanged. If a match is found and replaced in the primary DataFrame, it will be possible to differentiate lowercase values from those that remain unaffected."
   ]
  },
  {
   "cell_type": "code",
   "execution_count": 26,
   "id": "598a2063",
   "metadata": {},
   "outputs": [],
   "source": [
    "# Iterate over each row in df_standard_names to find matching street names in df\n",
    "for index1 in range(len(df_standard_names.index)):\n",
    "    standard_name = df_standard_names.loc[index1, 'street_name'].lower()\n",
    "    for index2 in range(len(df.index)):\n",
    "        name_to_change = df.loc[index2, 'location_of_spaces'].lower()\n",
    "        if standard_name in name_to_change:\n",
    "            df.loc[index2, 'location_of_spaces'] = standard_name"
   ]
  },
  {
   "cell_type": "code",
   "execution_count": 27,
   "id": "f5f88e5c",
   "metadata": {},
   "outputs": [],
   "source": [
    "# Iterate over each row in df to update 'location_of_spaces' if it matches a street name in df_standard_names\n",
    "for index1 in range(len(df.index)):\n",
    "    name_to_change = df.loc[index1, 'location_of_spaces'].lower()\n",
    "    for index2 in range(len(df.index)):\n",
    "        standard_name = df_standard_names.loc[index2, 'street_name'].lower()\n",
    "        if name_to_change in standard_name:\n",
    "            df.loc[index1, 'location_of_spaces'] = name_to_change"
   ]
  },
  {
   "cell_type": "markdown",
   "id": "440913af",
   "metadata": {},
   "source": [
    "At this point, it is possible to check the remaining values. If a value begins with a capital letter or a number, it indicates that the value is faulty."
   ]
  },
  {
   "cell_type": "code",
   "execution_count": 28,
   "id": "9d715746",
   "metadata": {
    "scrolled": true
   },
   "outputs": [
    {
     "name": "stdout",
     "output_type": "stream",
     "text": [
      "St. Stephens Green North\n",
      "Stephens Green North\n",
      "Stephens Green\n",
      "Stephens Green East\n",
      "Northwall Quay\n",
      "North Great Georges Street\n",
      "St. Stephens Green\n",
      "Prince's Street\n",
      "Princes Street\n",
      "South Anne Street\n",
      "Upper Mount Street\n",
      "Sir John Rogersons Quay\n",
      "Merrion Square\n",
      "St. Stephens Green West\n",
      "Northwall Quay, Dublin 1\n",
      "St. Stephens Green East\n",
      "Lower Mount Street\n",
      "St Stephens Green\n",
      "Sherrard Street\n",
      "Swifts Row\n",
      "Princes Street South\n",
      "St. Stephens Green South\n",
      "Upper Hatch Street\n",
      "Kenilworth Square\n",
      "Ship Street\n",
      "Serpintine Avenue\n",
      "Baggot Street (Outside Bank of Ireland)\n",
      "South Richmond Street\n",
      "Upper Drumcondra Road\n",
      "St. Annes Road North\n",
      "Drumcondra Road (Outside Quinns Pub)\n",
      "St. Stephen's Green North\n",
      "William Street South\n",
      "Parnell Square\n",
      "Stephens Green (Outside Dandelions)\n",
      "South Annes Street\n",
      "St Augustine Street\n",
      "Pleasant Street\n",
      "Palmerstown Road\n",
      "Lower Baggot Street\n",
      "St Stephens Green South\n",
      "Stephens Green North (Outside Topshop)\n",
      "Fitzwilliam Square (East Gate)\n",
      "St. Stevens Green North\n",
      "Stephens Green (Near Shelbourne Hotel)\n",
      "John Rogersons Quay\n",
      "Kevin Street\n",
      "St  Josephs Avenue\n",
      "Stephens Green (Near Unitarian Church)\n",
      "Sandwith Street\n",
      "Northwall Quay Road\n",
      "Mayor Street\n",
      "Stephens Green(outside Dandeloin)\n",
      "St. Stephens Green (Outside Dandelion Restaurant)\n",
      "St. Stephen's Green\n",
      "Greenville Street\n",
      "Gloucester Street (opposite Site)\n",
      "Various on Liffey Quayside\n",
      "Mountjoy Square\n",
      "Parnell St. Dublin 1\n",
      "Stephens Green(outside dandeloins)\n",
      "Townsend St\n",
      "King's Inns Street\n",
      "Mercer Street\n",
      "St. Stephens Green (Front of Dandeloin Bar)\n",
      "Stephens Green West\n",
      "Clanwilliam Terrace\n",
      "St Stephens Green East\n",
      "Portebello Road\n",
      "Swift Row\n",
      "St Patricks Close\n",
      "Georges Quay\n",
      "St. Stephens Green North (Outside Topshop)\n",
      "Georges Place\n",
      "Mountainview Road\n",
      "St Stephen's Green North\n",
      "Mount Shannon Road\n",
      "St. Marys Road South\n",
      "William Park, Rathmines\n",
      "Winsdor Terrace\n",
      "Hendricks Street\n",
      "King's Inn Street\n",
      "St Stephens Green North (Near Shelbourne Hotel)\n",
      "St Stephens Green North\n",
      "St. Stephens Green (Outside TGI Fridays)\n",
      "Fassaugh Avenue\n",
      "Kings Inn Street\n",
      "Kings Inn Street at the side of the Parnell Centre\n",
      "North Frederick Street\n",
      "Upper Sherrif Street\n",
      "2 spaces outside 12 Lower Mountpleasant Avenue\n",
      "Earlfort Terrace\n",
      "Johns Lane West\n",
      "Artane Roundabout\n",
      "Drumcondra Road, outside Hessions\n",
      "Eccles Stree, Dublin 7\n",
      "St. Stephen's Green West\n",
      "St Stephen's Green East\n",
      "Stephens Green (opposite the Shelbourne Hotel)\n",
      "Hatch Street @ Hibernian Aviva\n",
      "Inn's Quay\n",
      "St. Vincent St. South\n",
      "Leeson St. Upper\n",
      "Donnybrook Village (Outside the Mall)\n",
      "Wolfe Tone St\n",
      "Fosters Place South\n",
      "Health Centre Ratdown Rd.\n",
      "Stephen's Green North\n",
      "St.Stephen's Green North\n",
      "St. Stephen's Green Nth\n",
      "Sir John Rogerson's\n",
      "Saint Stephens Green\n",
      "Saint Stephen's Green South\n",
      "Kenilworth Sq/Leicester Ave\n",
      "Amien Street\n",
      "Stephens Green(opposite Sony Centre/Shelbourne Hotel)\n",
      "Mount St. Crescent\n",
      "Merrion Square  North\n",
      "St. Stephen's Green (opposite the Shelbourne Hotel)\n",
      "St Stephens Green West\n",
      "Liffey Street (side of Marks & Spencers)\n",
      "Merrion Square, South & West\n",
      "St. Stephens Green - Luas side (outside Unitarian Church)\n",
      "Fitzwilliam Square, North, South, East, West\n",
      "Merrion Square, North, South, East, West\n",
      "Donovans Lane\n",
      "Kennilworth Square, south and east\n",
      "Stephens Green (opp Shelbourne Hotel)\n",
      "Simmondscourt road\n",
      "Sir John Rogerson Quay\n",
      "Stephnes Green (spaces opposite Shelbourne Hotel)\n",
      "St. Stephens Green (opposite Shelbourne Hotel)\n",
      "St. Stephen's Green (44 spaces), St. Stephen's Green North (12 spaces)\n",
      "Mount Streeet Crescent\n",
      "Glengariff Parade\n",
      "Sean McDermott Street (at St. Marys Mansions)\n",
      "124 Stephens Green\n",
      "Drumcondra Road (Outside Fagans Pub)\n",
      "Drumcondra (outside Hession Hair Salon)\n",
      "Swifts Alley\n",
      "St. Patricks Close\n",
      "St. John's Road, Sandymount\n",
      "Stephens Green(Opposite the Shelbourne)\n",
      "Lower Grangegorman\n",
      "Dominic Street Flats\n",
      "Outside Rubicon Gallery/Pesto restaurant\n",
      "140, Parnell St. Dublin 1\n",
      "Baggott Street Upper\n",
      "Chantham Row\n",
      "Lower Dominic Street\n",
      "Lr. Dominic St\n",
      "Parnell Sq. East\n",
      "Montaque St\n",
      "146 Parnel St. Dublin 1\n",
      "49-53 Francis St. Dublin 8\n",
      "97-100 Francis St Dublin 8\n",
      "Fitzwilliam Square Upper\n",
      "Wolfe Tone Park\n",
      "26 Sth William St.\n",
      "Princes  Street\n",
      "Mount Street Cresent\n",
      "Innes Quay (Near Custom House)\n",
      "1 Lower Mount Street, Dublin 2\n",
      "St. Stephens Green(outside Bank of Scotland)\n",
      "Lower Baggot Street (Outside No. 40)\n",
      "Stephens Green (Outside Dandelion)\n",
      "21-26,St. Augustine Street\n",
      "Inchiciore  Road\n",
      "Peters Row\n",
      "Peters Street\n",
      "Outside 29 Vernon Ave\n",
      "Nassau  Street(Celtic Note)\n",
      "DIT Kevin Street\n",
      "South Anne Street, Dublin 2\n",
      "29 Upper Mount Street\n",
      "Merrion Square Park (outside Main Gate)\n",
      "37 Lower Baggot Street\n",
      "Merrion Square (outside 73 Merrion Square)\n",
      "Baggot Street (Bank of Ireland)\n",
      "Mercer  Street\n",
      "North Great Georges Street Upper\n",
      "Corner of Upper Merrion Street\n",
      "St. Stephens Green (Outside the Dandelion Restaurant)\n",
      "Nth. Gr. Georges Street\n",
      "Glouchester Street\n",
      "St. Stephens Green  North\n",
      "27 South  Frederick Street\n",
      "Hatch St.(Opp.RearEnt.to C.Hal)l\n",
      "Outside 122 Baggot Street\n",
      "St. Stephens Green, outside Rubicon Gallery & Il Pesto Restaurant\n",
      "Duke Lane of South Anne Street\n",
      "Mount St Crescent (Sp. Surrounding Peppercanister)\n",
      "Whitefriars\n",
      "Stephens Green (Loreto College)\n",
      "Nasseau St.(outside Celtic note)\n",
      "Merrion Square (outside 63 Merrion Square)\n",
      "Grosvenor  Road\n",
      "Mayors Square IFSC\n",
      "Stphens Green (Front of No. 16)\n",
      "Amien Street (Opposite Connelly Station)\n",
      "Werburgh Road\n",
      "St. Stephens Green (Outside Habitat)\n",
      "Opposite Connoly Station\n",
      "Merrion Sq. West\n",
      "Emmet  Road (Site office & Compund)\n",
      "St. Johns Road East\n",
      "Charlotte Quay\n",
      "Northwall Quay,Dublin 1\n",
      "Guild St, IFSC.\n",
      "Mayor St. Lower, IFSC\n",
      "Parnell Sq.North, (Op. Hugh Lane Gallery)\n",
      "John Dillion Street\n",
      "Mount St Upper\n",
      "Fredrick Street South\n",
      "Wolfe Tone  Street\n",
      "James' Street East\n",
      "Raheny Village(Nr. Supervalu)\n",
      "Fitzwilliam Square (Outside No. 45)\n",
      "Mercer Street  Upper\n",
      "Lower St Alphonsus Road\n",
      "Alphonsus Road,Drumcondra Dublin 9\n",
      "Parnell Square (Scoil Mhuire)\n",
      "Stephens Green South\n",
      "Herbert  Park Ballsbridge\n",
      "Wolfe Tone Road\n",
      "South Frederick Street(outside No 27)\n",
      "Castle  Street\n",
      "Stephens Green (Outside Eircom Building)\n",
      "5/6 Lombard Street  East\n",
      "Sussex  Road\n",
      "Fishamble  Street\n",
      "Princess Street South\n",
      "College Court / King's Inns Street\n",
      "St. Stephens Green (Outside Top Shop)\n",
      "Chantham Street\n",
      "Baggot Street (Outside Hospital)\n",
      "Claredon Row\n",
      "St. Stephens Green West (Pay & Display Bays only)\n",
      "St. Stevens Green West\n",
      "Mountjoy Sq. East\n",
      "St. Josephs Avenue\n",
      "St. Mary's Road South\n",
      "Fitzwilliam  Square West\n",
      "Stephens Green(Nr Eircom)\n",
      "St.  Stephens Green\n",
      "Stephens Green(on Green side)\n",
      "Stephens Green(Nr Leeson Street)\n",
      "Stephens Green(Beside Taxi Rank)\n",
      "Drumcondra Road (Outside Hession Salon)\n",
      "Lower Baggot Street (Outside No. 29)\n",
      "St Marys Road South\n",
      "Fitzwiliam Place (Outside No. 34)\n",
      "Lower Dorset Street\n",
      "Nassau Stree\n",
      "Mount St. Cresent\n",
      "Mount St. Upper\n",
      "Blackhall  Place\n",
      "At the Albany Clinic\n",
      "Common Street off Custom Hous Quay\n",
      "Artane Roundabout (Near AIB)\n",
      "St. Ignatius Road\n",
      "11-17 Exchequer St.\n",
      "Henerietta Street\n",
      "19 Parnell Square\n",
      "John's Lane Dublin (excluding loading Bay)\n",
      "Lower Baggot Street (Outside 66)\n",
      "Mayor Square  IFSC\n",
      "146 Parnell St  Dublin 1\n",
      "Moleswoth Street (Outside No. 20)\n",
      "St Benedicts Gardens\n",
      "Mountjoy Sqaure South\n",
      "St. Marys Place North\n",
      "North Wall  Quay\n",
      "Hatch Street(outside Office)\n",
      "75 St Stephens Green\n",
      "Stephens Green (Opp. Top Shop)\n",
      "Serpentine Ave.\n",
      "Fitzwilliam Sq.North (Square Side)\n",
      "Fitzwilliam Sq. West (Square Side)\n",
      "Fitzwilliam Sq. West (House Side)\n",
      "121-122 St. Stephens Green\n",
      "South Frederick Street\n",
      "St Marys Road (Ballsbridge)\n",
      "St Stephens Green North (Opposite Taxi Rank)\n",
      "Emmet  Road Dublin 8\n",
      "Prouds Lane(Off Stephens Green)\n",
      "Ann Street North\n"
     ]
    }
   ],
   "source": [
    "# Identify and print values in 'location_of_spaces' column that start with an uppercase letter or a digit\n",
    "unique_val = df['location_of_spaces'].value_counts()\n",
    "\n",
    "for faulty_value in unique_val.index:\n",
    "    if faulty_value[0].isupper():\n",
    "        print(faulty_value)\n",
    "    elif faulty_value[0].isdigit() :\n",
    "        print(faulty_value)"
   ]
  },
  {
   "cell_type": "code",
   "execution_count": 29,
   "id": "e7e887ca",
   "metadata": {},
   "outputs": [
    {
     "data": {
      "text/plain": [
       "655"
      ]
     },
     "execution_count": 29,
     "metadata": {},
     "output_type": "execute_result"
    }
   ],
   "source": [
    "# Show the length of unique values in the 'location_of_spaces' column\n",
    "len(unique_val.index)"
   ]
  },
  {
   "cell_type": "markdown",
   "id": "94a28ddb",
   "metadata": {},
   "source": [
    "A total of 655 values contained spelling errors or non-standard names. Various methods, including Sequence Matcher's string prediction, FuzzyWuzzy's processing, for loops, while loops, and regular expressions, were attempted to replace the incorrect values with standard terms, but all attempts were unsuccessful. It was determined that in cases where user input errors occur, manual checking is necessary. To address this, two list variables were created: one containing partial strings of the faulty cells and another with common names. By using a 'for loop', all mismatches were identified and replaced."
   ]
  },
  {
   "cell_type": "code",
   "execution_count": 30,
   "id": "af8c22da",
   "metadata": {},
   "outputs": [
    {
     "data": {
      "text/plain": [
       "114"
      ]
     },
     "execution_count": 30,
     "metadata": {},
     "output_type": "execute_result"
    }
   ],
   "source": [
    "# Create a list containing parts of the string that correspond to faulty values\n",
    "to_replace = ['stephens green', 'northwall', 'north great', 'prince\\'s', 'prince', 'south anne', 'mount', 'rogers', 'merrion', 'sherrard', 'swift', 'hatch', 'kenilworth', 'drumcondra', \n",
    "              'ship s', 'stephen', 'baggot', 'serpin', 'william', 'anne', 'parnell', 'richmond', 'mayor', 'mercer', 'glouce', 'sandwith', 'pleasant', 'inns', 'palmerst', 'steven', 'joseph', 'ville st', \n",
    "              'kevin', 'townsend', 'francis', 'rahen', 'herber', 'stphens', 'alphonsus', 'guild', 'wolfe', 'marys', 'fishamble', 'james', 'charlotte', 'stephnes', 'frederick', 'castle', 'lombard', \n",
    "              'sussex', 'north wall', 'emmet', 'benedict', 'moleswoth', 'fitzwil', 'connoly', 'nassau', 'blackhal', 'albany', 'serpent', 'ann s', 'dorset', 'custom hou', 'artane', 'ignatius', \n",
    "              'kings inn', 'exchequer', 'grangegorman', 'tham', 'claredon', 'amien', 'dillion', 'mary', 'johns r', 'nass', 'george','bello', 'king','ietta', 'vernon', 'john', 'fred', 'parnel', 'gros', 'monta', \n",
    "              'dominic', 'werburg', 'inchic', 'sher', 'gloucester', 'whit', 'augustine', 'peter', 'rubi', 'patrick', 'donnybrook', 'earl', 'leeson','inn', 'sim', 'foster', 'ratdown', 'kenilworth', \n",
    "              'eccles', 'vincent', 'glen', 'liffey', 'fa', 'donovan','glouc', 'hendrick', 'win', 'liffey', 'ken']\n",
    "\n",
    "len(to_replace)"
   ]
  },
  {
   "cell_type": "code",
   "execution_count": 31,
   "id": "d09dbc85",
   "metadata": {},
   "outputs": [
    {
     "data": {
      "text/plain": [
       "114"
      ]
     },
     "execution_count": 31,
     "metadata": {},
     "output_type": "execute_result"
    }
   ],
   "source": [
    "# Create a list of standard names\n",
    "replacement = ['saint stephens green east', 'north wall quay', 'north great george\\'s street', 'prince\\'s street', 'prince\\'s street', 'anne street south', 'mount street crescent', 'sir john rogerson\\'s quay', 'merrion square east', 'sherrard street lower', 'swift\\'s row', \n",
    "               'hatch street upper', 'kenilworth square east', 'drumcondra road', 'ship street great', 'saint stephens green east', 'baggot street lower', 'serpentine avenue', 'william street north', 'saint anne\\'s road', 'parnell street', 'richmond street south', 'mayor street lower', \n",
    "               'mercer street lower', 'gloucester street south', 'sandwith street lower','pleasants street', 'kings inns street','palmerston road', 'saint stephens green east','saint joseph\\'s avenue', 'grenville street', 'kevin street lower', 'townsend street', 'francis street', 'raheny road', \n",
    "               'herbert cottages', 'saint stephens green east', 'saint alphonsus road', 'guild street', 'wolfe tone street', 'saint mary\\'s avenue north', 'fishamble street', 'james\\'s street', 'charlotte way', 'saint stephens green east', 'frederick street south', 'castle street', 'lombard street east', \n",
    "               'sussex road','north wall quay', 'emmet road', 'saint benedict\\'s gardens', 'molesworth street', 'fitzwilliam place', 'amiens street', 'nassau street', 'blackhall place', 'albany road', 'serpentine avenue', 'anne street north', 'dorset street lower', 'custom house quay', \n",
    "               'artane castle service road', 'saint ignatius road', 'kings inns street', 'exchequer street', 'grangegorman lower', 'chatham street', 'johnson\\'s court', 'amiens street', 'john dillon street', 'saint mary\\'s avenue north', 'saint john\\'s road west', 'nassau street', 'north great george\\'s street', \n",
    "               'portobello', 'kings inns street', 'henrietta street', 'vernon avenue', 'john\\'s lane west', 'frederick court', 'parnell street', 'grosvenor road', 'montague street', 'dominick street lower', 'werburgh street', 'inchicore road', 'sheriff street upper', 'gloucester street south', 'whitefriar place',\n",
    "               'saint augustine street', 'peter street', 'saint stephens green', 'saint patrick\\'s close', 'donnybrook road', 'earlsfort terrace', 'leeson street upper', 'inns quay', 'simmonscourt avenue', 'foster place', 'rathdown road', 'kenilworth square east', 'eccles street', 'saint vincent street south', \n",
    "               'glengarriff parade', 'liffey street west', 'faussagh avenue', 'donovan lane', 'gloucester street south', 'hendrick street', 'windsor terrace', 'liffey bridge', 'kenilworth lane']\n",
    "\n",
    "len(replacement)"
   ]
  },
  {
   "cell_type": "code",
   "execution_count": 32,
   "id": "1d83454a",
   "metadata": {},
   "outputs": [],
   "source": [
    "# Iterate over each row in the DataFrame and replace specific values in 'location_of_spaces' if they start with a digit or uppercase letter\n",
    "for index in range(len(df.index)):\n",
    "    str_name = df.loc[index, 'location_of_spaces']\n",
    "    if str_name[0].isnumeric() or str_name[0].isupper():\n",
    "        faulty_val = str_name.lower()\n",
    "        for num in range(len(to_replace)):\n",
    "            if to_replace[num] in faulty_val:\n",
    "                df.loc[index, 'location_of_spaces'] = replacement[num]"
   ]
  },
  {
   "cell_type": "code",
   "execution_count": 33,
   "id": "dc46a5a7",
   "metadata": {},
   "outputs": [],
   "source": [
    "# Identify and print values in 'location_of_spaces' column that start with an uppercase letter or a digit\n",
    "unique_val = df['location_of_spaces'].value_counts()\n",
    "for faulty_value in unique_val.index:\n",
    "    if faulty_value[0].isupper():\n",
    "        print(faulty_value)\n",
    "    elif faulty_value[0].isdigit() :\n",
    "        print(faulty_value)"
   ]
  },
  {
   "cell_type": "markdown",
   "id": "2a37f3fb",
   "metadata": {},
   "source": [
    "No output to show, indicating that the desired result has been achieved."
   ]
  },
  {
   "cell_type": "code",
   "execution_count": 34,
   "id": "469a3ad9",
   "metadata": {},
   "outputs": [
    {
     "data": {
      "text/plain": [
       "0"
      ]
     },
     "execution_count": 34,
     "metadata": {},
     "output_type": "execute_result"
    }
   ],
   "source": [
    "# Count the number of missing values in the 'location_of_spaces' column\n",
    "df['location_of_spaces'].isnull().sum()"
   ]
  },
  {
   "cell_type": "code",
   "execution_count": 35,
   "id": "bdd0db0b",
   "metadata": {},
   "outputs": [
    {
     "data": {
      "text/plain": [
       "dtype('O')"
      ]
     },
     "execution_count": 35,
     "metadata": {},
     "output_type": "execute_result"
    }
   ],
   "source": [
    "# Get the data type of the 'location_of_spaces' column\n",
    "df['location_of_spaces'].dtype"
   ]
  },
  {
   "cell_type": "code",
   "execution_count": 36,
   "id": "2aa7c396",
   "metadata": {},
   "outputs": [
    {
     "name": "stdout",
     "output_type": "stream",
     "text": [
      "saint stephens green east\n",
      "north wall quay\n",
      "townsend street\n",
      "merrion road\n",
      "gloucester street\n",
      "temple street\n",
      "sandymount green\n",
      "mount street crescent\n",
      "fishamble street\n",
      "merrion square east\n",
      "nassau street\n",
      "clonmel street\n",
      "prince's street\n",
      "parnell street\n",
      "eccles street\n",
      "shelbourne road\n",
      "inchicore road\n",
      "molesworth street\n",
      "castle street\n",
      "hatch street\n",
      "north great george's street\n",
      "fitzwilliam place\n",
      "ballsbridge avenue\n",
      "wolfe tone street\n",
      "haddington road\n",
      "camden row\n",
      "baggot street lower\n",
      "henrietta street\n",
      "john's lane west\n",
      "francis street\n",
      "saint anne's road\n",
      "dame court\n",
      "fitzwilliam street\n",
      "smithfield\n",
      "deverell place\n",
      "lansdowne road\n",
      "merrion square west\n",
      "cabra road\n",
      "barrow street\n",
      "merrion square south\n",
      "cook street\n",
      "north circular road\n",
      "burlington road\n",
      "lotts\n",
      "inns quay\n",
      "serpentine avenue\n",
      "haymarket\n",
      "pembroke street\n",
      "wilton terrace\n",
      "fitzwilliam square east\n",
      "drumcondra road lower\n",
      "hatch street upper\n",
      "earlsfort terrace\n",
      "capel street\n",
      "palace street\n",
      "strand street\n",
      "charlemont\n",
      "camden street\n",
      "clarendon row\n",
      "d'olier street\n",
      "jervis street\n",
      "pembroke road\n",
      "adelaide\n",
      "ely place\n",
      "amiens street\n",
      "hume street\n",
      "drury street\n",
      "lennox street\n",
      "pearse street\n",
      "simmonscourt\n",
      "chatham street\n",
      "pleasants street\n",
      "wilton place\n",
      "william street north\n",
      "swift's row\n",
      "sandwith street lower\n",
      "drumcondra road\n",
      "anglesea road\n",
      "cardiff lane\n",
      "sheriff street upper\n",
      "york street\n",
      "mayor street lower\n",
      "parnell square north\n",
      "clarendon street\n",
      "fade street\n",
      "windsor terrace\n",
      "prince's street south\n",
      "merrion square north\n",
      "saint mary's avenue north\n",
      "hendrick street\n",
      "fitzwilliam square north\n",
      "mark street\n",
      "kenilworth lane\n",
      "bride street\n",
      "morehampton road\n",
      "guild street\n",
      "south william street\n",
      "grantham street\n",
      "luke street\n",
      "grenville street\n",
      "synge street\n",
      "eastmoreland place\n",
      "mespil road\n",
      "frederick court\n",
      "kevin street lower\n",
      "montague street\n",
      "herbert park\n",
      "thomas street\n",
      "gloucester street south\n",
      "blackpitts\n",
      "portobello\n",
      "ringsend road\n",
      "parnell square west\n",
      "grand canal quay\n",
      "richmond street south\n",
      "marlborough street\n",
      "raglan road\n",
      "drumcondra road upper\n",
      "ranelagh\n",
      "sir john rogerson's quay\n",
      "wexford street\n",
      "vicar street\n",
      "foster place\n",
      "fitzwilliam square south\n",
      "benson street\n",
      "exchequer street\n",
      "fairview\n",
      "parnell square east\n",
      "mountjoy square east\n",
      "emmet road\n",
      "hanover street\n",
      "emor street\n",
      "dawson street\n",
      "poolbeg street\n",
      "field avenue\n",
      "mill lane\n",
      "ballsbridge\n",
      "mercer street lower\n",
      "doris street\n",
      "elgin road\n",
      "donnybrook road\n",
      "meath street\n",
      "leinster square\n",
      "saint joseph's avenue\n",
      "saint augustine street\n",
      "dolphin avenue\n",
      "newmarket\n",
      "talbot street\n",
      "dame street\n",
      "fenian street\n",
      "city quay\n",
      "percy place\n",
      "mount street upper\n",
      "arbour hill\n",
      "strand road\n",
      "leeson street upper\n",
      "kenilworth road\n",
      "hanover quay\n",
      "dorset street\n",
      "parkgate street\n",
      "ship street little\n",
      "whitefriar street\n",
      "commons street\n",
      "ship street great\n",
      "victoria quay\n",
      "aston quay\n",
      "werburgh street\n",
      "kingsland parade\n",
      "cathedral street\n",
      "mary street\n",
      "beatty's avenue\n",
      "lime street\n",
      "ailesbury road\n",
      "liffey bridge\n",
      "fitzwilliam square\n",
      "dominick street lower\n",
      "burgh quay\n",
      "saint alphonsus road\n",
      "joy street\n",
      "quinns lane\n",
      "george's quay\n",
      "grand canal street lower\n",
      "creighton street\n",
      "waterloo road\n",
      "victoria street\n",
      "walworth road\n",
      "clontarf road\n",
      "peter street\n",
      "winton road\n",
      "clifton mews\n",
      "montague lane\n",
      "sussex road\n",
      "railway street\n",
      "mountjoy square north\n",
      "kenilworth square east\n",
      "grosvenor road\n",
      "crane street\n",
      "palmerston road\n",
      "liffey street west\n",
      "lombard street east\n",
      "o/s Fitzwilliam Hotel St Stephens Green\n",
      "home villas\n",
      "cumberland street south\n",
      "merton avenue\n",
      "foley street\n",
      "saint stephens green\n",
      "montague place\n",
      "western way\n",
      "infirmary road\n",
      "blessington street\n",
      "ashfield road\n",
      "heytesbury street\n",
      "hatch street lower\n",
      "earl street south\n",
      "cuffe lane\n",
      "saint patrick's close\n",
      "faussagh avenue\n",
      "bow street\n",
      "dufferin avenue\n",
      "ballyfermot road\n",
      "mount street lower\n",
      "saint ignatius road\n",
      "francis st\n",
      "leinster road\n",
      "herbert street\n",
      "kenilworth square west\n",
      "richmond hill\n",
      "longwood avenue\n",
      "somerset street\n",
      "blackhall place\n",
      "gordon street\n",
      "aungier street\n",
      "moss street\n",
      "macken street\n",
      "artane castle service road\n",
      "glengarriff parade\n",
      "sandwith street upper\n",
      "herbert place\n",
      "warrington place\n",
      "arran street east\n",
      "cathal brugha street\n",
      "dominick street\n",
      "vernon avenue\n",
      "sitric road\n",
      "warren street\n",
      "high street\n",
      "leeson lane\n",
      "greek street\n",
      "moore lane\n",
      "dominick place\n",
      "stamer street\n",
      "bow lane east\n",
      "tritonville road\n",
      "rathfarnham road\n",
      "ballygall road west\n",
      "armstrong street\n",
      "heytesbury lane\n",
      "conyngham road\n",
      "oxmantown road\n",
      "wilfrid road\n",
      "holyrood park\n",
      "eblana villas\n",
      "outside Anglo Irish Bank, St. Stephens Green\n",
      "harcourt terrace\n",
      "saint stephens green west\n",
      "ring street\n",
      "kenilworth square south\n",
      "highfield road\n",
      "dargle road\n",
      "boyne street\n",
      "richmond row\n",
      "villiers road\n",
      "hollybrook\n",
      "sandymount avenue\n",
      "leicester avenue\n",
      "cumberland road\n",
      "harcourt road\n",
      "camden street lower\n",
      "nan\n",
      "lennox place\n",
      "chancery street\n",
      "iona road\n",
      "james street east\n",
      "cornmarket\n",
      "simmonscourt avenue\n",
      "mountjoy square west\n",
      "rathdown road\n",
      "donovan lane\n",
      "pembroke cottages\n",
      "grosvenor place\n",
      "ormond quay upper\n",
      "kingram place\n",
      "lad lane\n",
      "effra road\n",
      "donnybrook\n",
      "rathmines road upper\n",
      "sandford avenue\n",
      " 27 Upper Mount Street\n",
      "bishop street\n",
      "brighton road\n",
      "sitric place\n",
      "saint vincent street south\n",
      "olaf road\n",
      "malahide road\n",
      "nutley lane\n",
      "swift's alley\n",
      "watling street\n",
      "outside John Schutte Associates & Teatime Express\n",
      "synnott row\n",
      "baggot street upper\n",
      "gloucester st\n",
      "beechwood avenue lower\n",
      "essex street west\n",
      "derrynane gardens\n",
      "wellington road\n",
      "kildare street\n",
      "ross road\n",
      "bond street\n",
      "mountpleasant square\n",
      "hope street\n",
      "aughrim street\n",
      "baggot st\n",
      "herbert st\n",
      "kilmainham lane\n",
      "harcourt street\n",
      "sandymount road\n",
      "custom house quay\n",
      "dorset lane\n",
      "albany road\n",
      "dorset street lower\n",
      "haddington place\n",
      "saint benedict's gardens\n",
      "grantham st\n",
      "hanover street east\n",
      "marlborough road\n",
      "temple lane\n",
      "whitefriar place\n",
      "military road\n",
      "nutley avenue\n",
      "enniskerry road\n",
      "nelson street\n",
      "hill street\n",
      "south circular road\n",
      "arran street west\n",
      "benburb street\n",
      "back lane\n",
      "richmond villas\n",
      "seafort avenue\n",
      "charlotte way\n",
      "bath avenue\n",
      "argyle road\n",
      "anne street\n",
      "halston street\n",
      "coleraine street\n",
      "shaw street\n",
      "leahy's terrace\n",
      "seafort villas\n",
      "fontenoy street\n",
      "anne street north\n",
      "john dillon street\n",
      "bull alley street\n",
      "church street\n",
      "pembroke lane\n",
      "college green\n",
      "main street\n",
      "grangegorman lower\n",
      "lombard street west\n",
      "arnott street\n",
      "emorville avenue\n",
      "ovoca road\n",
      "ormond quay lower\n",
      "jamestown road\n",
      "killeen road\n",
      "belgrave road\n",
      "john street west\n",
      "ballsbridge terrace\n",
      "yarnhall street\n",
      "frederick street south\n",
      "little britain street\n",
      "clanwilliam place\n",
      "wolseley street\n",
      "merville avenue\n",
      "henry street\n",
      "johnson's court\n",
      "collins avenue\n",
      "brunswick street\n",
      "carman's hall\n",
      "baggot street\n",
      "oaklands park\n",
      "nicholas avenue\n",
      "temple road\n",
      "stokes place\n",
      "northbrook road\n",
      "clanbrassil street\n",
      "herbert cottages\n",
      "castleforbes road\n",
      "ormond road\n",
      "phibsborough\n",
      "mayor street upper\n",
      "raheny road\n",
      "mercer street upper\n",
      "james's street\n",
      "golden lane\n",
      "arran quay\n",
      "chatham row\n",
      "frederick street\n",
      "barry road\n"
     ]
    }
   ],
   "source": [
    "# Iterate over unique values in the 'location_of_spaces' column and print each value\n",
    "unique_val = df['location_of_spaces'].value_counts()\n",
    "for faulty_value in unique_val.index:\n",
    "    print(faulty_value)"
   ]
  },
  {
   "cell_type": "markdown",
   "id": "337c9265",
   "metadata": {},
   "source": [
    "#### `str_class`\n",
    "\n",
    "The \"location_of_spaces\" column now contains the standardized street names. However, handling these values without generalization would be challenging. To address this, the 'for loop' will be run again to insert the corresponding values into the \"str_class\" column. The \"street_class_code\" column from the \"df_standard_names\" DataFrame will be used for classification."
   ]
  },
  {
   "cell_type": "code",
   "execution_count": 37,
   "id": "698b8bfe",
   "metadata": {},
   "outputs": [
    {
     "data": {
      "text/html": [
       "<div>\n",
       "<style scoped>\n",
       "    .dataframe tbody tr th:only-of-type {\n",
       "        vertical-align: middle;\n",
       "    }\n",
       "\n",
       "    .dataframe tbody tr th {\n",
       "        vertical-align: top;\n",
       "    }\n",
       "\n",
       "    .dataframe thead th {\n",
       "        text-align: right;\n",
       "    }\n",
       "</style>\n",
       "<table border=\"1\" class=\"dataframe\">\n",
       "  <thead>\n",
       "    <tr style=\"text-align: right;\">\n",
       "      <th></th>\n",
       "      <th>location_of_spaces</th>\n",
       "      <th>str_class</th>\n",
       "      <th>purpose</th>\n",
       "      <th>date</th>\n",
       "      <th>date_suspended</th>\n",
       "      <th>date_expired</th>\n",
       "      <th>duration</th>\n",
       "      <th>no_of_spaces</th>\n",
       "      <th>amount_paid</th>\n",
       "    </tr>\n",
       "  </thead>\n",
       "  <tbody>\n",
       "    <tr>\n",
       "      <th>0</th>\n",
       "      <td>commons street</td>\n",
       "      <td></td>\n",
       "      <td>Parking Catering Vehicles</td>\n",
       "      <td>2006-01-20</td>\n",
       "      <td>2006-01-23</td>\n",
       "      <td>2006-01-23</td>\n",
       "      <td></td>\n",
       "      <td>5.0</td>\n",
       "      <td>152.0</td>\n",
       "    </tr>\n",
       "    <tr>\n",
       "      <th>1</th>\n",
       "      <td>saint stephens green east</td>\n",
       "      <td></td>\n",
       "      <td>Collection from KPMG</td>\n",
       "      <td>2006-01-18</td>\n",
       "      <td>2006-06-22</td>\n",
       "      <td>2006-06-22</td>\n",
       "      <td></td>\n",
       "      <td>3.0</td>\n",
       "      <td>114.0</td>\n",
       "    </tr>\n",
       "    <tr>\n",
       "      <th>2</th>\n",
       "      <td>saint stephens green east</td>\n",
       "      <td></td>\n",
       "      <td>To facilate filiming</td>\n",
       "      <td>2006-01-05</td>\n",
       "      <td>2006-01-09</td>\n",
       "      <td>2006-01-09</td>\n",
       "      <td></td>\n",
       "      <td>4.0</td>\n",
       "      <td>152.0</td>\n",
       "    </tr>\n",
       "    <tr>\n",
       "      <th>3</th>\n",
       "      <td>saint stephens green east</td>\n",
       "      <td></td>\n",
       "      <td>Road Caster</td>\n",
       "      <td>2006-01-05</td>\n",
       "      <td>2006-01-09</td>\n",
       "      <td>2006-01-09</td>\n",
       "      <td></td>\n",
       "      <td>4.0</td>\n",
       "      <td>152.0</td>\n",
       "    </tr>\n",
       "    <tr>\n",
       "      <th>4</th>\n",
       "      <td>molesworth street</td>\n",
       "      <td></td>\n",
       "      <td>To facilate Filiming</td>\n",
       "      <td>2006-01-05</td>\n",
       "      <td>2006-01-09</td>\n",
       "      <td>2006-01-09</td>\n",
       "      <td></td>\n",
       "      <td>12.0</td>\n",
       "      <td>152.0</td>\n",
       "    </tr>\n",
       "  </tbody>\n",
       "</table>\n",
       "</div>"
      ],
      "text/plain": [
       "          location_of_spaces str_class                    purpose       date  \\\n",
       "0             commons street            Parking Catering Vehicles 2006-01-20   \n",
       "1  saint stephens green east                 Collection from KPMG 2006-01-18   \n",
       "2  saint stephens green east                 To facilate filiming 2006-01-05   \n",
       "3  saint stephens green east                          Road Caster 2006-01-05   \n",
       "4          molesworth street                 To facilate Filiming 2006-01-05   \n",
       "\n",
       "  date_suspended date_expired duration  no_of_spaces  amount_paid  \n",
       "0     2006-01-23   2006-01-23                    5.0        152.0  \n",
       "1     2006-06-22   2006-06-22                    3.0        114.0  \n",
       "2     2006-01-09   2006-01-09                    4.0        152.0  \n",
       "3     2006-01-09   2006-01-09                    4.0        152.0  \n",
       "4     2006-01-09   2006-01-09                   12.0        152.0  "
      ]
     },
     "execution_count": 37,
     "metadata": {},
     "output_type": "execute_result"
    }
   ],
   "source": [
    "# Check the DataFrame\n",
    "df.head()"
   ]
  },
  {
   "cell_type": "code",
   "execution_count": 38,
   "id": "0382ecd9",
   "metadata": {},
   "outputs": [],
   "source": [
    "# Iterate over each row in df and compare 'location_of_spaces' with 'street_name' in df_standard_names\n",
    "for index1 in range(len(df.index)):\n",
    "    road_street_name1 = df.loc[index1, 'location_of_spaces'].lower()\n",
    "    for index2 in range(len(df_standard_names.index)):\n",
    "        road_street_name2 = df_standard_names.loc[index2, 'street_name'].lower()\n",
    "        if road_street_name1 in road_street_name2:\n",
    "            df.loc[index1, 'str_class'] = df_standard_names.loc[index2, 'street_class_code']"
   ]
  },
  {
   "cell_type": "code",
   "execution_count": 39,
   "id": "bc4cb5ae",
   "metadata": {},
   "outputs": [
    {
     "data": {
      "text/plain": [
       "str_class\n",
       "4.0    710\n",
       "2.0    405\n",
       "1.0    357\n",
       "6.0    319\n",
       "5.0    131\n",
       "3.0    114\n",
       "7.0     44\n",
       "         5\n",
       "1.5      4\n",
       "Name: count, dtype: int64"
      ]
     },
     "execution_count": 39,
     "metadata": {},
     "output_type": "execute_result"
    }
   ],
   "source": [
    "# Count the occurrences of each street class code in the 'str_class' column\n",
    "df['str_class'].value_counts()"
   ]
  },
  {
   "cell_type": "markdown",
   "id": "e559212c",
   "metadata": {},
   "source": [
    "Five rows have no area codes. Check out these rows."
   ]
  },
  {
   "cell_type": "code",
   "execution_count": 40,
   "id": "e1716c5f",
   "metadata": {},
   "outputs": [
    {
     "data": {
      "text/html": [
       "<div>\n",
       "<style scoped>\n",
       "    .dataframe tbody tr th:only-of-type {\n",
       "        vertical-align: middle;\n",
       "    }\n",
       "\n",
       "    .dataframe tbody tr th {\n",
       "        vertical-align: top;\n",
       "    }\n",
       "\n",
       "    .dataframe thead th {\n",
       "        text-align: right;\n",
       "    }\n",
       "</style>\n",
       "<table border=\"1\" class=\"dataframe\">\n",
       "  <thead>\n",
       "    <tr style=\"text-align: right;\">\n",
       "      <th></th>\n",
       "      <th>location_of_spaces</th>\n",
       "      <th>str_class</th>\n",
       "      <th>purpose</th>\n",
       "      <th>date</th>\n",
       "      <th>date_suspended</th>\n",
       "      <th>date_expired</th>\n",
       "      <th>duration</th>\n",
       "      <th>no_of_spaces</th>\n",
       "      <th>amount_paid</th>\n",
       "    </tr>\n",
       "  </thead>\n",
       "  <tbody>\n",
       "    <tr>\n",
       "      <th>1003</th>\n",
       "      <td>o/s Fitzwilliam Hotel St Stephens Green</td>\n",
       "      <td></td>\n",
       "      <td>Roadhog</td>\n",
       "      <td>2007-11-28</td>\n",
       "      <td>2007-11-29</td>\n",
       "      <td>2007-11-29</td>\n",
       "      <td></td>\n",
       "      <td>4.0</td>\n",
       "      <td>164.0</td>\n",
       "    </tr>\n",
       "    <tr>\n",
       "      <th>1004</th>\n",
       "      <td>o/s Fitzwilliam Hotel St Stephens Green</td>\n",
       "      <td></td>\n",
       "      <td>Roadhog</td>\n",
       "      <td>2007-11-29</td>\n",
       "      <td>2007-12-19</td>\n",
       "      <td>2007-12-19</td>\n",
       "      <td></td>\n",
       "      <td>4.0</td>\n",
       "      <td>164.0</td>\n",
       "    </tr>\n",
       "    <tr>\n",
       "      <th>1698</th>\n",
       "      <td>outside John Schutte Associates &amp; Teatime Express</td>\n",
       "      <td></td>\n",
       "      <td>use of removal van</td>\n",
       "      <td>2009-12-15</td>\n",
       "      <td>2010-01-06</td>\n",
       "      <td>2010-01-06</td>\n",
       "      <td></td>\n",
       "      <td>1.0</td>\n",
       "      <td>50.0</td>\n",
       "    </tr>\n",
       "    <tr>\n",
       "      <th>1709</th>\n",
       "      <td>27 Upper Mount Street</td>\n",
       "      <td></td>\n",
       "      <td>office move</td>\n",
       "      <td>2010-01-22</td>\n",
       "      <td>2010-01-29</td>\n",
       "      <td>2010-01-29</td>\n",
       "      <td></td>\n",
       "      <td>1.0</td>\n",
       "      <td>50.0</td>\n",
       "    </tr>\n",
       "    <tr>\n",
       "      <th>1763</th>\n",
       "      <td>outside Anglo Irish Bank, St. Stephens Green</td>\n",
       "      <td></td>\n",
       "      <td>broadcast on 2FM</td>\n",
       "      <td>2010-05-06</td>\n",
       "      <td>2010-05-10</td>\n",
       "      <td>2010-05-10</td>\n",
       "      <td></td>\n",
       "      <td>3.0</td>\n",
       "      <td>150.0</td>\n",
       "    </tr>\n",
       "  </tbody>\n",
       "</table>\n",
       "</div>"
      ],
      "text/plain": [
       "                                     location_of_spaces str_class  \\\n",
       "1003            o/s Fitzwilliam Hotel St Stephens Green             \n",
       "1004            o/s Fitzwilliam Hotel St Stephens Green             \n",
       "1698  outside John Schutte Associates & Teatime Express             \n",
       "1709                              27 Upper Mount Street             \n",
       "1763       outside Anglo Irish Bank, St. Stephens Green             \n",
       "\n",
       "                 purpose       date date_suspended date_expired duration  \\\n",
       "1003             Roadhog 2007-11-28     2007-11-29   2007-11-29            \n",
       "1004             Roadhog 2007-11-29     2007-12-19   2007-12-19            \n",
       "1698  use of removal van 2009-12-15     2010-01-06   2010-01-06            \n",
       "1709         office move 2010-01-22     2010-01-29   2010-01-29            \n",
       "1763    broadcast on 2FM 2010-05-06     2010-05-10   2010-05-10            \n",
       "\n",
       "      no_of_spaces  amount_paid  \n",
       "1003           4.0        164.0  \n",
       "1004           4.0        164.0  \n",
       "1698           1.0         50.0  \n",
       "1709           1.0         50.0  \n",
       "1763           3.0        150.0  "
      ]
     },
     "execution_count": 40,
     "metadata": {},
     "output_type": "execute_result"
    }
   ],
   "source": [
    "# Filter rows where the 'str_class' column is empty\n",
    "df.loc[(df['str_class'] == '')]"
   ]
  },
  {
   "cell_type": "markdown",
   "id": "1c3b4d6b",
   "metadata": {},
   "source": [
    "The non-standard values in the \"location_of_spaces\" column were missed by the 'for loop' due to the strings starting with a lowercase letter and a space. To correct this, the \"to_replace\" method from pandas will be used to replace the values. Afterward, the loop for 'str_class' values will be run again."
   ]
  },
  {
   "cell_type": "code",
   "execution_count": 41,
   "id": "273aff0b",
   "metadata": {},
   "outputs": [],
   "source": [
    "# Replace specific values in the 'location_of_spaces' column with predefined replacements\n",
    "df = df.replace(to_replace={'location_of_spaces':{\n",
    "    'o/s Fitzwilliam Hotel St Stephens Green': 'saint stephens green east',\n",
    "    'outside John Schutte Associates & Teatime Express': 'cecilia street',\n",
    "    ' 27 Upper Mount Street': 'mount street upper',\n",
    "    'outside Anglo Irish Bank, St. Stephens Green': 'saint stephens green east'\n",
    "}})"
   ]
  },
  {
   "cell_type": "code",
   "execution_count": 42,
   "id": "b846f7fa",
   "metadata": {},
   "outputs": [],
   "source": [
    "# Iterate over each row in df and compare 'location_of_spaces' with 'street_name' in df_standard_names\n",
    "for index1 in range(len(df.index)):\n",
    "    road_street_name1 = df.loc[index1, 'location_of_spaces'].lower()\n",
    "    for index2 in range(len(df_standard_names.index)):\n",
    "        road_street_name2 = df_standard_names.loc[index2, 'street_name'].lower()\n",
    "        if road_street_name1 in road_street_name2:\n",
    "            df.loc[index1, 'str_class'] = df_standard_names.loc[index2, 'street_class_code']"
   ]
  },
  {
   "cell_type": "code",
   "execution_count": 43,
   "id": "371d984a",
   "metadata": {},
   "outputs": [
    {
     "data": {
      "text/plain": [
       "str_class\n",
       "4.0    711\n",
       "2.0    405\n",
       "1.0    360\n",
       "6.0    319\n",
       "5.0    132\n",
       "3.0    114\n",
       "7.0     44\n",
       "1.5      4\n",
       "Name: count, dtype: int64"
      ]
     },
     "execution_count": 43,
     "metadata": {},
     "output_type": "execute_result"
    }
   ],
   "source": [
    "# Count the occurrences of each street class code in the 'str_class' column\n",
    "df['str_class'].value_counts()"
   ]
  },
  {
   "cell_type": "markdown",
   "id": "3726e965",
   "metadata": {},
   "source": [
    "There are four unique values with a street class code of 1.5. Logically, a half-number classification is not valid, indicating an error or incorrect input. These values will be replaced with the mode value, as the column is based on ordinal data."
   ]
  },
  {
   "cell_type": "code",
   "execution_count": 44,
   "id": "6b5cf07c",
   "metadata": {},
   "outputs": [
    {
     "data": {
      "text/html": [
       "<div>\n",
       "<style scoped>\n",
       "    .dataframe tbody tr th:only-of-type {\n",
       "        vertical-align: middle;\n",
       "    }\n",
       "\n",
       "    .dataframe tbody tr th {\n",
       "        vertical-align: top;\n",
       "    }\n",
       "\n",
       "    .dataframe thead th {\n",
       "        text-align: right;\n",
       "    }\n",
       "</style>\n",
       "<table border=\"1\" class=\"dataframe\">\n",
       "  <thead>\n",
       "    <tr style=\"text-align: right;\">\n",
       "      <th></th>\n",
       "      <th>location_of_spaces</th>\n",
       "      <th>str_class</th>\n",
       "      <th>purpose</th>\n",
       "      <th>date</th>\n",
       "      <th>date_suspended</th>\n",
       "      <th>date_expired</th>\n",
       "      <th>duration</th>\n",
       "      <th>no_of_spaces</th>\n",
       "      <th>amount_paid</th>\n",
       "    </tr>\n",
       "  </thead>\n",
       "  <tbody>\n",
       "    <tr>\n",
       "      <th>695</th>\n",
       "      <td>dame street</td>\n",
       "      <td>1.5</td>\n",
       "      <td>Roadhog</td>\n",
       "      <td>2007-03-22</td>\n",
       "      <td>2007-03-31</td>\n",
       "      <td>2007-03-31</td>\n",
       "      <td></td>\n",
       "      <td>4.0</td>\n",
       "      <td>152.0</td>\n",
       "    </tr>\n",
       "    <tr>\n",
       "      <th>722</th>\n",
       "      <td>dame street</td>\n",
       "      <td>1.5</td>\n",
       "      <td>Site Compound</td>\n",
       "      <td>2007-04-24</td>\n",
       "      <td>2007-05-01</td>\n",
       "      <td>2007-06-20</td>\n",
       "      <td></td>\n",
       "      <td>4.0</td>\n",
       "      <td>NaN</td>\n",
       "    </tr>\n",
       "    <tr>\n",
       "      <th>801</th>\n",
       "      <td>clanbrassil street</td>\n",
       "      <td>1.5</td>\n",
       "      <td>Filming</td>\n",
       "      <td>2007-06-08</td>\n",
       "      <td>2007-06-12</td>\n",
       "      <td>2007-06-12</td>\n",
       "      <td></td>\n",
       "      <td>4.0</td>\n",
       "      <td>121.6</td>\n",
       "    </tr>\n",
       "    <tr>\n",
       "      <th>1102</th>\n",
       "      <td>dame street</td>\n",
       "      <td>1.5</td>\n",
       "      <td>FM104 Roadhog</td>\n",
       "      <td>2008-03-13</td>\n",
       "      <td>2008-04-06</td>\n",
       "      <td>2008-04-06</td>\n",
       "      <td></td>\n",
       "      <td>4.0</td>\n",
       "      <td>164.0</td>\n",
       "    </tr>\n",
       "  </tbody>\n",
       "</table>\n",
       "</div>"
      ],
      "text/plain": [
       "      location_of_spaces str_class        purpose       date date_suspended  \\\n",
       "695          dame street       1.5        Roadhog 2007-03-22     2007-03-31   \n",
       "722          dame street       1.5  Site Compound 2007-04-24     2007-05-01   \n",
       "801   clanbrassil street       1.5        Filming 2007-06-08     2007-06-12   \n",
       "1102         dame street       1.5  FM104 Roadhog 2008-03-13     2008-04-06   \n",
       "\n",
       "     date_expired duration  no_of_spaces  amount_paid  \n",
       "695    2007-03-31                    4.0        152.0  \n",
       "722    2007-06-20                    4.0          NaN  \n",
       "801    2007-06-12                    4.0        121.6  \n",
       "1102   2008-04-06                    4.0        164.0  "
      ]
     },
     "execution_count": 44,
     "metadata": {},
     "output_type": "execute_result"
    }
   ],
   "source": [
    "# Filter rows where the 'str_class' column equals 1.5\n",
    "df.loc[(df['str_class'] == 1.5)]"
   ]
  },
  {
   "cell_type": "code",
   "execution_count": 45,
   "id": "4e7e19be",
   "metadata": {},
   "outputs": [
    {
     "data": {
      "text/plain": [
       "0    4.0\n",
       "Name: str_class, dtype: object"
      ]
     },
     "execution_count": 45,
     "metadata": {},
     "output_type": "execute_result"
    }
   ],
   "source": [
    "# Calculate the mode (most common value) of the 'str_class' column\n",
    "df['str_class'].mode()"
   ]
  },
  {
   "cell_type": "code",
   "execution_count": 46,
   "id": "e95a1dda",
   "metadata": {},
   "outputs": [],
   "source": [
    "# Replace all occurrences of 1.5 with 4 in the 'str_class' column, modifying the DataFrame in place\n",
    "df['str_class'].replace(1.5, 4, inplace=True)"
   ]
  },
  {
   "cell_type": "markdown",
   "id": "14a38d27",
   "metadata": {},
   "source": [
    "### 2.4. Missing values of the dataframe."
   ]
  },
  {
   "cell_type": "markdown",
   "id": "42d07683",
   "metadata": {},
   "source": [
    "#### `amount_paid`\n",
    "\n",
    "In this section, the value-handling process will continue, with a focus on addressing missing values for each column. For the \"amount_paid\" column, we previously converted 0 values to None and changed object values to float in cell 16. Now, the next step will be to replace the None values with 0 and logically investigate the reason behind the 0 payments."
   ]
  },
  {
   "cell_type": "code",
   "execution_count": 47,
   "id": "166c7de8",
   "metadata": {},
   "outputs": [
    {
     "data": {
      "text/plain": [
       "0"
      ]
     },
     "execution_count": 47,
     "metadata": {},
     "output_type": "execute_result"
    }
   ],
   "source": [
    "# Replace missing values (NaN or None) in the 'amount_paid' column with 0 and check the count of null values\n",
    "df.replace({'amount_paid': {np.nan:0, None:0}}, inplace=True)\n",
    "\n",
    "df['amount_paid'].isnull().sum()"
   ]
  },
  {
   "cell_type": "code",
   "execution_count": 48,
   "id": "a47d01c1",
   "metadata": {
    "scrolled": true
   },
   "outputs": [
    {
     "name": "stdout",
     "output_type": "stream",
     "text": [
      "Blood Donation Clinic\n",
      "Site Compound\n",
      "Outside Broadcast\n",
      "Marshell's Office for the Exhibition\n",
      "Blood Donations\n",
      "Filming\n",
      "Filiming Vehicles\n",
      "Broadcast\n",
      "Completion of Contract to Reinforce River Wall\n",
      "blood donation clinic @ Mater Hospital\n",
      "To locate the Marshall who will be available to exhibitors\n",
      "Adidas Dublin City Marathon\n",
      "Blood donation clinic\n",
      "St. Patrick's Festival\n",
      "Fundraising\n",
      "Charity Drive (Roadcaster)\n",
      "Mobile Unit (Irish Blood Tansfusion Service)\n",
      "Construction of Granite Footpath on Drumcondra Rd\n",
      "Marshell's Office For Exhibition\n",
      "To Facilate Filiming\n",
      "Mars Hell's Office for the Exhibition\n",
      "Dublin City Marathon\n",
      "blood donation clinic @ Eirgrid\n",
      "To facilitate Crane\n",
      "Maintenance of bridge lights\n",
      "Unloading & loading of bikes for Bloomsday Charity bicycle rally\n",
      "restoration work\n",
      "Office Move\n",
      "blood donation clinic\n",
      "Mobile Information Unit\n",
      "LUAS Extension Works\n",
      "Parade Float\n",
      "Office Relocation\n",
      "Loading and unloading equipment into Merrion Square Park\n",
      "Parking of Parade Floats and access\n",
      "Portakabin for Festival equipment\n",
      "Bikes delivery & pick up for the Charity Bloomsday Bike Rally\n",
      "Fund Raising\n",
      "Charity work\n",
      "Parking of Mobile Library\n",
      "Contractors compound(Dorset Street)\n",
      "Compound for Site Storage for Capel Street\n",
      "Repair of Boardwalk\n",
      "Information service to the public\n",
      "Delivery Vehicles\n",
      "Facilitate Works\n",
      "Cannonball Run for Barretstown Camp\n",
      "Blood donation clinic @ Pioneer investments\n",
      "Breast Screening Vehicle\n",
      "to facilitate surfacing of carriageway\n",
      "Charity fundraising campaign - Holly Days\n",
      "City Chase Event\n",
      "Blood donation clinic @ Mater Hospital\n",
      "Restoration Work\n",
      "Charity Cannonball Run for Barretstown\n",
      "Blood donations\n",
      "Temporary Site Compound\n",
      "Location of Units\n",
      "Visit of Ship to Dublin\n",
      "For loading and unloading equipment\n",
      "Portakabin\n",
      "Daffodil Day - Charity Fundraiser\n",
      "Provide Traffic Lane around Roadworks\n",
      "To assist with fundraising Event\n",
      "Care 4 Kids Radiothon\n",
      "Laying sewer connection\n",
      "Dublin's 98 Radiothon\n",
      "Liffey Works\n",
      "Repair of damaged sewer\n",
      "Blood Donations @ Willis Insurance Company\n",
      "Compound for site storage for Capel Street\n",
      "For Site Compound\n",
      "blood donation clinic @ BOI Global Markets\n",
      "site compound\n",
      "nan\n",
      "using car parking spaces to extend the footpath\n",
      "Health & Safety Zone\n",
      "Liffey Swim\n",
      "Community Day\n",
      "Wreath laying Ceremony\n",
      "repair of Liffey boardwalk\n",
      "Footpath repair\n",
      "News feed for RTE\n",
      "Delivery & Collection\n",
      "Outside Braodcast Unit\n",
      "St. Patricks Day Festival\n",
      "Bord Gais will replace dangerous damaged meter box\n",
      "Film Unit\n",
      "Outside Braodcast Unit (Kid's Radiothon)\n",
      "to position 2FM roadcaster to promote Irish Heart Foundation's Happy Heart Weekend appeal\n",
      "To extend the footpath on Merrion Square North by using the car parking spaces\n",
      "blood donation clinic @Mater Hospital\n",
      "festival\n",
      "OBU\n",
      "blood donation clinic @ Irish Med. Board\n",
      "blood donation clinic @ probation services Smithfield\n",
      "blood donation clinic @ Delotte & Touche\n",
      "blood donation clinic @ DIT mountjoy\n",
      "blood donation clinic @ Bank of Scotland\n",
      "blood donation clinic @ International Fund Services\n",
      "blood donation clinic @ FGS (accountancy consultants)\n",
      "blood donation clinic @ Brown Thomas\n",
      "blood donation clinic @ DIT Aungier Street\n",
      "public lighting repair works\n",
      "blood donation clinic @ Irish Medicines Board\n",
      "blood donation clinic @ Hibernian  Aviva\n",
      "Maire Keating Info Bus\n",
      "blood donation clinic @ RBC Dexia\n",
      "to park Viking Splash Tour vehicle for the purpose of promotiong Daffodil Day\n",
      "blood donation clinic @ Marsh Ireland\n",
      "blood donation clinic @Willis Ins. Company\n",
      "blood donation clinic @ FGS\n",
      "Events Day\n",
      "Mini Bus\n",
      "Dorset Street Improvement Scheme\n",
      "Loading and Storage\n",
      "The Footpath Enhancement Project\n",
      "Bastille Festival (Delivery and take down)\n",
      "Work containers for Capel Street works\n",
      "Vehicle to support Maintenance on Bridge Lights\n",
      "Afro Carnival in association with D.C.C.\n",
      "Grand opening of Pearse House\n",
      "Pink Ribbon Day\n",
      "To Facilate Parking of film vehicles\n",
      "Site Storage Area\n",
      "Construction of Driveway\n",
      "Outside Broadcast(World Animal Week)\n",
      "Parking of Filiming Vehicles\n",
      "Eqipment -Packing and deliveries\n",
      "Marathon Run\n",
      "Halloween Event\n",
      "Delivery and off Loading\n",
      "Christmas Market\n",
      "Lithuanian Christmas Tree Cermony\n",
      "Live Broadcast\n",
      "Bloomsday Pageant\n",
      "Joyo Bonito Nike Tournament\n",
      "Park Vintage Bus\n",
      "Outside Broadcast Unit\n",
      "Store Granite\n",
      "Y.O.Festival\n",
      "Site Compund and Storage Area\n",
      "Storage for Roadworks\n",
      "Storage\n",
      "Footpath Reinstatement\n",
      "outside broadcast unit\n",
      "Storage of Equipment\n",
      "Install Cables & Wall Lights\n",
      "Storage,and Site Caravan\n",
      "Outside Broadcast Unit,\n",
      "Charity Broadcast,(HB Ice Cream)\n",
      "Site office\n",
      "Parking of Film Vehicles\n",
      "To Facilate Bloomsday Pagent\n",
      "Park Vintage Bus for DCC\n",
      "Allow traffic to enter and exit Dorset Lane\n",
      "Vehicle Access to Venue\n",
      "To facilitate laying of new water mains\n",
      "T.D.'s and HSE Dignitaries for the Celebration of 30 years since founding of the service\n",
      "Provide access for Film Crew to location\n",
      "FM104 Help a Dublin Child Flag Day\n",
      "FM104 Cd Launch\n",
      "Charity Collection\n",
      "Site Compound (Storage of Materials, Site Hut etc.)\n",
      "Safe movement of Vehicles\n",
      "Road works\n",
      "98FM Care 4 Kids Radiothon\n",
      "Caravan Art work for St. Patricks Festival in association with DCC\n",
      "Location of Contractors Compound\n",
      "For Site Company\n",
      "State Funeral\n",
      "Site compund for works on the Malahide QBC Enhancements Scheme\n",
      "Reconstruction of footpath\n",
      "For construction of scheme\n",
      "Portakabin for festival equipment\n",
      "Loading and unloading of equipment into Merrion Park\n",
      "Site compound\n",
      "Boradcast (Goal Charity)\n",
      "Car Free Day(To 19.00 on 22/09/2007)\n",
      "Car Free Day(19.00 on21/09/2007 19.00 on 22/09/07)\n",
      "Car Free Day(19.00-21 to 19.00-19.00 Sat.22nd)\n",
      "Survey of city wall\n",
      "Site Compund\n",
      "Vehicles and Stage for Street Event\n",
      "Contractors Store\n",
      "For Roadworks\n",
      "Construction of Foothpath(Site Compound)\n",
      "Construction of Foothpath\n",
      "World Golf Croquet Championship\n",
      "Geophysical Survey\n",
      "Facilitate Fundraising\n",
      "Mobile Cancer Unit(Information)\n",
      "Market Traders  Parking\n",
      "Market  Traders Parking\n",
      "Market Traders Parking\n",
      "Location of Float and Festival  Vehicles\n",
      "Loc. of Float and Festival Vehicles\n",
      "Pedestrianisation of Carriageway\n",
      "Information Service to the public\n"
     ]
    }
   ],
   "source": [
    "# Filter rows where 'amount_paid' is 0 and count occurrences of each unique 'purpose'\n",
    "nopay = df.loc[(df['amount_paid'] == 0)]\n",
    "nopay_purpose = nopay['purpose'].value_counts()\n",
    "\n",
    "# Print each unique purpose for rows with 'amount_paid' equal to 0\n",
    "for each_purpose in nopay_purpose.index:\n",
    "    print(each_purpose)"
   ]
  },
  {
   "cell_type": "markdown",
   "id": "62bc5dfd",
   "metadata": {},
   "source": [
    "Rows with 0 payments will be dropped because most activities are public-related and government-dependent, such as blood donations, marathons, fundraising, exhibitions, festivals, ceremonies, and the restoration of state-owned buildings. In other words, these activities, which are organized by the government, are unlikely to receive payment."
   ]
  },
  {
   "cell_type": "code",
   "execution_count": 49,
   "id": "fe71d171",
   "metadata": {},
   "outputs": [
    {
     "name": "stdout",
     "output_type": "stream",
     "text": [
      "<class 'pandas.core.frame.DataFrame'>\n",
      "Index: 1742 entries, 0 to 2088\n",
      "Data columns (total 9 columns):\n",
      " #   Column              Non-Null Count  Dtype         \n",
      "---  ------              --------------  -----         \n",
      " 0   location_of_spaces  1742 non-null   object        \n",
      " 1   str_class           1742 non-null   float64       \n",
      " 2   purpose             1742 non-null   object        \n",
      " 3   date                1742 non-null   datetime64[ns]\n",
      " 4   date_suspended      1739 non-null   datetime64[ns]\n",
      " 5   date_expired        1737 non-null   datetime64[ns]\n",
      " 6   duration            1742 non-null   object        \n",
      " 7   no_of_spaces        1739 non-null   float64       \n",
      " 8   amount_paid         1742 non-null   float64       \n",
      "dtypes: datetime64[ns](3), float64(3), object(3)\n",
      "memory usage: 136.1+ KB\n"
     ]
    }
   ],
   "source": [
    "# Filter out rows where 'amount_paid' is not equal to 0\n",
    "df = df.loc[df['amount_paid'] != 0]\n",
    "df.info()"
   ]
  },
  {
   "cell_type": "markdown",
   "id": "bdd48536",
   "metadata": {},
   "source": [
    "Any negative payment values will be corrected, as payments cannot be negative. These values will be replaced with the appropriate value, ensuring they reflect valid payment amounts."
   ]
  },
  {
   "cell_type": "code",
   "execution_count": 50,
   "id": "8e62a20a",
   "metadata": {},
   "outputs": [
    {
     "data": {
      "text/html": [
       "<div>\n",
       "<style scoped>\n",
       "    .dataframe tbody tr th:only-of-type {\n",
       "        vertical-align: middle;\n",
       "    }\n",
       "\n",
       "    .dataframe tbody tr th {\n",
       "        vertical-align: top;\n",
       "    }\n",
       "\n",
       "    .dataframe thead th {\n",
       "        text-align: right;\n",
       "    }\n",
       "</style>\n",
       "<table border=\"1\" class=\"dataframe\">\n",
       "  <thead>\n",
       "    <tr style=\"text-align: right;\">\n",
       "      <th></th>\n",
       "      <th>location_of_spaces</th>\n",
       "      <th>str_class</th>\n",
       "      <th>purpose</th>\n",
       "      <th>date</th>\n",
       "      <th>date_suspended</th>\n",
       "      <th>date_expired</th>\n",
       "      <th>duration</th>\n",
       "      <th>no_of_spaces</th>\n",
       "      <th>amount_paid</th>\n",
       "    </tr>\n",
       "  </thead>\n",
       "  <tbody>\n",
       "    <tr>\n",
       "      <th>1471</th>\n",
       "      <td>drumcondra road</td>\n",
       "      <td>1.0</td>\n",
       "      <td>FM104 Roadhog</td>\n",
       "      <td>2009-01-27</td>\n",
       "      <td>2009-02-17</td>\n",
       "      <td>2009-02-17</td>\n",
       "      <td></td>\n",
       "      <td>4.0</td>\n",
       "      <td>-76.0</td>\n",
       "    </tr>\n",
       "  </tbody>\n",
       "</table>\n",
       "</div>"
      ],
      "text/plain": [
       "     location_of_spaces  str_class        purpose       date date_suspended  \\\n",
       "1471    drumcondra road        1.0  FM104 Roadhog 2009-01-27     2009-02-17   \n",
       "\n",
       "     date_expired duration  no_of_spaces  amount_paid  \n",
       "1471   2009-02-17                    4.0        -76.0  "
      ]
     },
     "execution_count": 50,
     "metadata": {},
     "output_type": "execute_result"
    }
   ],
   "source": [
    "# Filter rows where 'amount_paid' is less than 0\n",
    "df.loc[df['amount_paid'] < 0]"
   ]
  },
  {
   "cell_type": "code",
   "execution_count": 51,
   "id": "7cd674ff",
   "metadata": {},
   "outputs": [],
   "source": [
    "# Replace -76 with 76 in the 'amount_paid' column, modifying the DataFrame in place\n",
    "df.replace(to_replace={'amount_paid' : {-76 : 76}}, inplace=True)"
   ]
  },
  {
   "cell_type": "code",
   "execution_count": 52,
   "id": "578da2ef",
   "metadata": {},
   "outputs": [],
   "source": [
    "# Reset the index of the DataFrame and remove the old index column\n",
    "df = df.reset_index()\n",
    "df = df.iloc[:, 1:]"
   ]
  },
  {
   "cell_type": "markdown",
   "id": "7b663503",
   "metadata": {},
   "source": [
    "#### `duration`\n",
    "\n",
    "Based on information from the official government website, the duration of parking bay suspensions is calculated in days, and charges differ by location zone. The \"duration\" column can be derived by calculating the time period between the \"date_expired\" and \"date_suspended\" columns. These two date columns will be used to compute the total number of days each suspension lasts.\n",
    "(Source: Dublin City Council – Parking Suspensions)"
   ]
  },
  {
   "cell_type": "code",
   "execution_count": 53,
   "id": "d8930be7",
   "metadata": {},
   "outputs": [],
   "source": [
    "# Calculate duration for each row based on 'date_expired' and 'date_suspended' columns\n",
    "for x in range(len(df.index)):\n",
    "    if df.loc[x, 'date_expired'] == 0:\n",
    "        df.loc[x, 'duration'] = None\n",
    "    elif df.loc[x, 'date_suspended'] == 0:\n",
    "        df.loc[x, 'duration'] = None\n",
    "    else:\n",
    "        duration = df.loc[x, 'date_expired'] - df.loc[x, 'date_suspended']\n",
    "        df.loc[x, 'duration'] = duration.days + 1"
   ]
  },
  {
   "cell_type": "code",
   "execution_count": 54,
   "id": "93b65858",
   "metadata": {},
   "outputs": [
    {
     "data": {
      "text/plain": [
       "5"
      ]
     },
     "execution_count": 54,
     "metadata": {},
     "output_type": "execute_result"
    }
   ],
   "source": [
    "# Count the number of missing values in the 'duration' column\n",
    "df['duration'].isnull().sum()"
   ]
  },
  {
   "cell_type": "markdown",
   "id": "4fa1437f",
   "metadata": {},
   "source": [
    "The column contains a few None values, and the corresponding full rows with these missing entries are to be examined."
   ]
  },
  {
   "cell_type": "code",
   "execution_count": 55,
   "id": "6a690761",
   "metadata": {},
   "outputs": [
    {
     "data": {
      "text/html": [
       "<div>\n",
       "<style scoped>\n",
       "    .dataframe tbody tr th:only-of-type {\n",
       "        vertical-align: middle;\n",
       "    }\n",
       "\n",
       "    .dataframe tbody tr th {\n",
       "        vertical-align: top;\n",
       "    }\n",
       "\n",
       "    .dataframe thead th {\n",
       "        text-align: right;\n",
       "    }\n",
       "</style>\n",
       "<table border=\"1\" class=\"dataframe\">\n",
       "  <thead>\n",
       "    <tr style=\"text-align: right;\">\n",
       "      <th></th>\n",
       "      <th>location_of_spaces</th>\n",
       "      <th>str_class</th>\n",
       "      <th>purpose</th>\n",
       "      <th>date</th>\n",
       "      <th>date_suspended</th>\n",
       "      <th>date_expired</th>\n",
       "      <th>duration</th>\n",
       "      <th>no_of_spaces</th>\n",
       "      <th>amount_paid</th>\n",
       "    </tr>\n",
       "  </thead>\n",
       "  <tbody>\n",
       "    <tr>\n",
       "      <th>155</th>\n",
       "      <td>bath avenue</td>\n",
       "      <td>6.0</td>\n",
       "      <td>Permanent removal of parking space</td>\n",
       "      <td>2006-05-17</td>\n",
       "      <td>NaT</td>\n",
       "      <td>NaT</td>\n",
       "      <td>NaN</td>\n",
       "      <td>1.0</td>\n",
       "      <td>1400.0</td>\n",
       "    </tr>\n",
       "    <tr>\n",
       "      <th>203</th>\n",
       "      <td>argyle road</td>\n",
       "      <td>6.0</td>\n",
       "      <td>Permanent removal of parking space</td>\n",
       "      <td>2026-06-07</td>\n",
       "      <td>NaT</td>\n",
       "      <td>NaT</td>\n",
       "      <td>NaN</td>\n",
       "      <td>1.0</td>\n",
       "      <td>1400.0</td>\n",
       "    </tr>\n",
       "    <tr>\n",
       "      <th>339</th>\n",
       "      <td>derrynane gardens</td>\n",
       "      <td>6.0</td>\n",
       "      <td>Permanent removal of parking space</td>\n",
       "      <td>2006-08-31</td>\n",
       "      <td>NaT</td>\n",
       "      <td>NaT</td>\n",
       "      <td>NaN</td>\n",
       "      <td>1.0</td>\n",
       "      <td>2100.0</td>\n",
       "    </tr>\n",
       "    <tr>\n",
       "      <th>389</th>\n",
       "      <td>vernon avenue</td>\n",
       "      <td>2.0</td>\n",
       "      <td>Permanent Removal of Parking Space</td>\n",
       "      <td>2006-09-26</td>\n",
       "      <td>2006-10-26</td>\n",
       "      <td>NaT</td>\n",
       "      <td>NaN</td>\n",
       "      <td>1.0</td>\n",
       "      <td>2100.0</td>\n",
       "    </tr>\n",
       "    <tr>\n",
       "      <th>1430</th>\n",
       "      <td>anglesea road</td>\n",
       "      <td>2.0</td>\n",
       "      <td>Roadhog</td>\n",
       "      <td>2009-12-01</td>\n",
       "      <td>2009-12-19</td>\n",
       "      <td>NaT</td>\n",
       "      <td>NaN</td>\n",
       "      <td>4.0</td>\n",
       "      <td>164.0</td>\n",
       "    </tr>\n",
       "  </tbody>\n",
       "</table>\n",
       "</div>"
      ],
      "text/plain": [
       "     location_of_spaces  str_class                             purpose  \\\n",
       "155         bath avenue        6.0  Permanent removal of parking space   \n",
       "203         argyle road        6.0  Permanent removal of parking space   \n",
       "339   derrynane gardens        6.0  Permanent removal of parking space   \n",
       "389       vernon avenue        2.0  Permanent Removal of Parking Space   \n",
       "1430      anglesea road        2.0                             Roadhog   \n",
       "\n",
       "           date date_suspended date_expired duration  no_of_spaces  \\\n",
       "155  2006-05-17            NaT          NaT      NaN           1.0   \n",
       "203  2026-06-07            NaT          NaT      NaN           1.0   \n",
       "339  2006-08-31            NaT          NaT      NaN           1.0   \n",
       "389  2006-09-26     2006-10-26          NaT      NaN           1.0   \n",
       "1430 2009-12-01     2009-12-19          NaT      NaN           4.0   \n",
       "\n",
       "      amount_paid  \n",
       "155        1400.0  \n",
       "203        1400.0  \n",
       "339        2100.0  \n",
       "389        2100.0  \n",
       "1430        164.0  "
      ]
     },
     "execution_count": 55,
     "metadata": {},
     "output_type": "execute_result"
    }
   ],
   "source": [
    "# Filter rows where 'duration' column contains missing values (NaNs)\n",
    "none_value = df[df['duration'].isnull() == True]\n",
    "\n",
    "none_value"
   ]
  },
  {
   "cell_type": "markdown",
   "id": "3590babb",
   "metadata": {},
   "source": [
    "Rows 155 and 203 show a suspension payment of 1400, while the \"date suspended\" and \"date expired\" columns are blank. However, the \"date\" column provides a starting point. In such cases, the duration can be estimated by dividing the total paid amount by the average current suspension rate per day.\n",
    "\n",
    "Since the \"date suspended\" and \"date expired\" fields may be needed later, the value in the \"date\" column will be assigned as the suspension date. The expiration date can then be calculated by adding the estimated duration (in days) to this suspension date."
   ]
  },
  {
   "cell_type": "code",
   "execution_count": 56,
   "id": "8130a2e9",
   "metadata": {},
   "outputs": [
    {
     "name": "stdout",
     "output_type": "stream",
     "text": [
      "Daily payment mean is: 29.9\n",
      "Approximate duration of the days for parking removal was: 46\n"
     ]
    }
   ],
   "source": [
    "# Calculate the approximate duration for parking removal based on mean daily payment\n",
    "amount_paid1 = df.loc[155, 'amount_paid']\n",
    "mean_payment_daily = (50+41+27+19+12.5)/5\n",
    "print('Daily payment mean is:', mean_payment_daily)\n",
    "duration_1400 = int(amount_paid1/mean_payment_daily)\n",
    "print('Approximate duration of the days for parking removal was:', duration_1400)\n",
    "\n",
    "df.loc[[155, 203], 'duration'] = duration_1400\n",
    "df.loc[155, 'date_suspended'] = df.loc[155, 'date']\n",
    "df.loc[155, 'date_expired'] = pd.to_datetime(df.loc[155, 'date']) + timedelta(days=duration_1400)\n",
    "df.loc[203, 'date_suspended'] = df.loc[203, 'date']\n",
    "df.loc[203, 'date_expired'] = pd.to_datetime(df.loc[203, 'date']) + timedelta(days=duration_1400)"
   ]
  },
  {
   "cell_type": "markdown",
   "id": "efbf4ffb",
   "metadata": {},
   "source": [
    "Rows 339 and 389 follow the same pattern, with a payment of 2100 for each suspension and missing values in both the \"expiration date\" and \"suspension date\" columns. The same estimation method will be applied to calculate the duration and infer the missing dates accordingly."
   ]
  },
  {
   "cell_type": "code",
   "execution_count": 57,
   "id": "5feb42c9",
   "metadata": {},
   "outputs": [
    {
     "name": "stdout",
     "output_type": "stream",
     "text": [
      "Daily payment mean is: 29.9\n",
      "Approximate duration of the days for parking removal was: 70\n"
     ]
    }
   ],
   "source": [
    "# Calculate the approximate duration for parking removal based on mean daily payment\n",
    "amount_paid2 = 2100\n",
    "mean_payment_daily = (50+41+27+19+12.5)/5\n",
    "print('Daily payment mean is:', mean_payment_daily)\n",
    "duration_2100 = int(amount_paid2/mean_payment_daily)\n",
    "print('Approximate duration of the days for parking removal was:', duration_2100)\n",
    "\n",
    "df.loc[[339, 389], 'duration'] = duration_2100\n",
    "df.loc[339, 'date_suspended'] = df.loc[339, 'date']\n",
    "df.loc[339, 'date_expired'] = pd.to_datetime(df.loc[339, 'date']) + timedelta(days=duration_2100)\n",
    "df.loc[389, 'date_expired'] = pd.to_datetime(df.loc[389, 'date_suspended']) + timedelta(days=duration_2100)"
   ]
  },
  {
   "cell_type": "markdown",
   "id": "f2b29455",
   "metadata": {},
   "source": [
    "Identical method for row 1430."
   ]
  },
  {
   "cell_type": "code",
   "execution_count": 58,
   "id": "7c374b3d",
   "metadata": {},
   "outputs": [
    {
     "name": "stdout",
     "output_type": "stream",
     "text": [
      "Daily payment mean is: 29.9\n",
      "Approximate duration of the days for roadhog was: 5\n"
     ]
    }
   ],
   "source": [
    "# Calculate the approximate duration for parking removal based on mean daily payment\n",
    "amount_paid3 = 164\n",
    "mean_payment_daily = (50+41+27+19+12.5)/5\n",
    "print('Daily payment mean is:', mean_payment_daily)\n",
    "duration_164 = int(amount_paid3/mean_payment_daily)\n",
    "print('Approximate duration of the days for roadhog was:', duration_164)\n",
    "\n",
    "df.loc[1430, 'duration'] = duration_164\n",
    "df.loc[1430, 'date_expired'] = pd.to_datetime(df.loc[1430, 'date_suspended']) + timedelta(days=duration_164)"
   ]
  },
  {
   "cell_type": "markdown",
   "id": "c1acd382",
   "metadata": {},
   "source": [
    "With all missing data now addressed, a quick review of the column can be conducted to ensure consistency and correctness."
   ]
  },
  {
   "cell_type": "code",
   "execution_count": 59,
   "id": "55b709d9",
   "metadata": {},
   "outputs": [
    {
     "data": {
      "text/plain": [
       "dtype('int64')"
      ]
     },
     "execution_count": 59,
     "metadata": {},
     "output_type": "execute_result"
    }
   ],
   "source": [
    "# Convert the 'duration' column to numeric data type\n",
    "df['duration'] = pd.to_numeric(df['duration'])\n",
    "df['duration'].dtype"
   ]
  },
  {
   "cell_type": "code",
   "execution_count": 60,
   "id": "417e7995",
   "metadata": {
    "scrolled": true
   },
   "outputs": [
    {
     "data": {
      "text/plain": [
       "duration\n",
       " 1        1283\n",
       " 2         157\n",
       " 5          90\n",
       " 3          71\n",
       " 4          32\n",
       " 7          19\n",
       " 6          13\n",
       " 8           7\n",
       " 9           6\n",
       " 26          5\n",
       " 22          5\n",
       " 46          3\n",
       " 11          3\n",
       " 60          3\n",
       " 21          3\n",
       " 30          2\n",
       " 33          2\n",
       " 10          2\n",
       " 15          2\n",
       " 70          2\n",
       " 19          2\n",
       " 55          2\n",
       " 32          2\n",
       " 31          2\n",
       " 10959       1\n",
       " 52          1\n",
       " 367         1\n",
       " 3288        1\n",
       "-9           1\n",
       " 29          1\n",
       " 24          1\n",
       " 25          1\n",
       " 45          1\n",
       " 61          1\n",
       " 150         1\n",
       " 50          1\n",
       " 27          1\n",
       " 40          1\n",
       " 12          1\n",
       " 112         1\n",
       "-58          1\n",
       " 123         1\n",
       "-1092        1\n",
       " 13          1\n",
       " 62          1\n",
       " 370         1\n",
       "-29          1\n",
       " 486         1\n",
       "Name: count, dtype: int64"
      ]
     },
     "execution_count": 60,
     "metadata": {},
     "output_type": "execute_result"
    }
   ],
   "source": [
    "# Count the occurrences of each duration value in the 'duration' column\n",
    "df['duration'].value_counts()"
   ]
  },
  {
   "cell_type": "markdown",
   "id": "921c5d1d",
   "metadata": {},
   "source": [
    "Some entries seem to contain unusually high numerical values. The next step is to examine the data points with the largest values to identify and correct potential input errors."
   ]
  },
  {
   "cell_type": "code",
   "execution_count": 61,
   "id": "7f427aac",
   "metadata": {
    "scrolled": true
   },
   "outputs": [
    {
     "data": {
      "text/html": [
       "<div>\n",
       "<style scoped>\n",
       "    .dataframe tbody tr th:only-of-type {\n",
       "        vertical-align: middle;\n",
       "    }\n",
       "\n",
       "    .dataframe tbody tr th {\n",
       "        vertical-align: top;\n",
       "    }\n",
       "\n",
       "    .dataframe thead th {\n",
       "        text-align: right;\n",
       "    }\n",
       "</style>\n",
       "<table border=\"1\" class=\"dataframe\">\n",
       "  <thead>\n",
       "    <tr style=\"text-align: right;\">\n",
       "      <th></th>\n",
       "      <th>location_of_spaces</th>\n",
       "      <th>str_class</th>\n",
       "      <th>purpose</th>\n",
       "      <th>date</th>\n",
       "      <th>date_suspended</th>\n",
       "      <th>date_expired</th>\n",
       "      <th>duration</th>\n",
       "      <th>no_of_spaces</th>\n",
       "      <th>amount_paid</th>\n",
       "    </tr>\n",
       "  </thead>\n",
       "  <tbody>\n",
       "    <tr>\n",
       "      <th>6</th>\n",
       "      <td>townsend street</td>\n",
       "      <td>2.0</td>\n",
       "      <td>To allow access to loading Bay</td>\n",
       "      <td>2006-01-05</td>\n",
       "      <td>2005-01-09</td>\n",
       "      <td>2006-01-13</td>\n",
       "      <td>370</td>\n",
       "      <td>2.0</td>\n",
       "      <td>456.0</td>\n",
       "    </tr>\n",
       "    <tr>\n",
       "      <th>30</th>\n",
       "      <td>parnell square north</td>\n",
       "      <td>4.0</td>\n",
       "      <td>Compound Area to store spoil</td>\n",
       "      <td>2006-01-25</td>\n",
       "      <td>2006-02-04</td>\n",
       "      <td>2006-03-30</td>\n",
       "      <td>55</td>\n",
       "      <td>5.0</td>\n",
       "      <td>10400.0</td>\n",
       "    </tr>\n",
       "    <tr>\n",
       "      <th>75</th>\n",
       "      <td>shelbourne road</td>\n",
       "      <td>2.0</td>\n",
       "      <td>Access to Site</td>\n",
       "      <td>2006-03-07</td>\n",
       "      <td>2006-03-08</td>\n",
       "      <td>2006-04-28</td>\n",
       "      <td>52</td>\n",
       "      <td>5.0</td>\n",
       "      <td>8550.0</td>\n",
       "    </tr>\n",
       "    <tr>\n",
       "      <th>301</th>\n",
       "      <td>lennox street</td>\n",
       "      <td>4.0</td>\n",
       "      <td>Film Vehicles</td>\n",
       "      <td>2006-08-14</td>\n",
       "      <td>2006-08-18</td>\n",
       "      <td>2036-08-18</td>\n",
       "      <td>10959</td>\n",
       "      <td>6.0</td>\n",
       "      <td>182.4</td>\n",
       "    </tr>\n",
       "    <tr>\n",
       "      <th>339</th>\n",
       "      <td>derrynane gardens</td>\n",
       "      <td>6.0</td>\n",
       "      <td>Permanent removal of parking space</td>\n",
       "      <td>2006-08-31</td>\n",
       "      <td>2006-08-31</td>\n",
       "      <td>2006-11-09</td>\n",
       "      <td>70</td>\n",
       "      <td>1.0</td>\n",
       "      <td>2100.0</td>\n",
       "    </tr>\n",
       "    <tr>\n",
       "      <th>389</th>\n",
       "      <td>vernon avenue</td>\n",
       "      <td>2.0</td>\n",
       "      <td>Permanent Removal of Parking Space</td>\n",
       "      <td>2006-09-26</td>\n",
       "      <td>2006-10-26</td>\n",
       "      <td>2007-01-04</td>\n",
       "      <td>70</td>\n",
       "      <td>1.0</td>\n",
       "      <td>2100.0</td>\n",
       "    </tr>\n",
       "    <tr>\n",
       "      <th>415</th>\n",
       "      <td>fitzwilliam street</td>\n",
       "      <td>4.0</td>\n",
       "      <td>Access to Site</td>\n",
       "      <td>2006-10-13</td>\n",
       "      <td>2006-10-12</td>\n",
       "      <td>2006-12-12</td>\n",
       "      <td>62</td>\n",
       "      <td>4.0</td>\n",
       "      <td>4082.0</td>\n",
       "    </tr>\n",
       "    <tr>\n",
       "      <th>515</th>\n",
       "      <td>fitzwilliam street</td>\n",
       "      <td>4.0</td>\n",
       "      <td>Access to Site</td>\n",
       "      <td>2006-12-21</td>\n",
       "      <td>2006-12-12</td>\n",
       "      <td>2007-02-09</td>\n",
       "      <td>60</td>\n",
       "      <td>4.0</td>\n",
       "      <td>3344.0</td>\n",
       "    </tr>\n",
       "    <tr>\n",
       "      <th>543</th>\n",
       "      <td>fitzwilliam street</td>\n",
       "      <td>4.0</td>\n",
       "      <td>Access to site</td>\n",
       "      <td>2007-02-08</td>\n",
       "      <td>2007-02-10</td>\n",
       "      <td>2007-04-05</td>\n",
       "      <td>55</td>\n",
       "      <td>4.0</td>\n",
       "      <td>3572.0</td>\n",
       "    </tr>\n",
       "    <tr>\n",
       "      <th>596</th>\n",
       "      <td>serpentine avenue</td>\n",
       "      <td>4.0</td>\n",
       "      <td>Clear Access to Site</td>\n",
       "      <td>2007-03-28</td>\n",
       "      <td>2007-03-31</td>\n",
       "      <td>2007-07-31</td>\n",
       "      <td>123</td>\n",
       "      <td>3.0</td>\n",
       "      <td>9302.4</td>\n",
       "    </tr>\n",
       "    <tr>\n",
       "      <th>682</th>\n",
       "      <td>fitzwilliam street</td>\n",
       "      <td>4.0</td>\n",
       "      <td>Access to site</td>\n",
       "      <td>2007-02-08</td>\n",
       "      <td>2007-04-06</td>\n",
       "      <td>2007-07-26</td>\n",
       "      <td>112</td>\n",
       "      <td>4.0</td>\n",
       "      <td>7448.0</td>\n",
       "    </tr>\n",
       "    <tr>\n",
       "      <th>881</th>\n",
       "      <td>cardiff lane</td>\n",
       "      <td>2.0</td>\n",
       "      <td>Construction of an Extension to the Quality Hotel</td>\n",
       "      <td>2007-12-19</td>\n",
       "      <td>2008-01-03</td>\n",
       "      <td>2008-05-31</td>\n",
       "      <td>150</td>\n",
       "      <td>5.0</td>\n",
       "      <td>17201.0</td>\n",
       "    </tr>\n",
       "    <tr>\n",
       "      <th>913</th>\n",
       "      <td>sandymount green</td>\n",
       "      <td>3.0</td>\n",
       "      <td>Position of Pump and Builders Trucks</td>\n",
       "      <td>2008-01-24</td>\n",
       "      <td>2007-10-15</td>\n",
       "      <td>2007-12-14</td>\n",
       "      <td>61</td>\n",
       "      <td>3.0</td>\n",
       "      <td>2508.0</td>\n",
       "    </tr>\n",
       "    <tr>\n",
       "      <th>921</th>\n",
       "      <td>camden row</td>\n",
       "      <td>4.0</td>\n",
       "      <td>Station Upgrading</td>\n",
       "      <td>2008-02-06</td>\n",
       "      <td>2008-02-01</td>\n",
       "      <td>2008-03-31</td>\n",
       "      <td>60</td>\n",
       "      <td>1.0</td>\n",
       "      <td>2460.0</td>\n",
       "    </tr>\n",
       "    <tr>\n",
       "      <th>1166</th>\n",
       "      <td>parkgate street</td>\n",
       "      <td>2.0</td>\n",
       "      <td>Removal and replacement of Pay and Display mac...</td>\n",
       "      <td>2008-10-08</td>\n",
       "      <td>2008-02-01</td>\n",
       "      <td>2008-03-31</td>\n",
       "      <td>60</td>\n",
       "      <td>13.0</td>\n",
       "      <td>11521.0</td>\n",
       "    </tr>\n",
       "    <tr>\n",
       "      <th>1508</th>\n",
       "      <td>creighton street</td>\n",
       "      <td>4.0</td>\n",
       "      <td>Filming</td>\n",
       "      <td>2010-06-30</td>\n",
       "      <td>2001-07-05</td>\n",
       "      <td>2010-07-05</td>\n",
       "      <td>3288</td>\n",
       "      <td>6.0</td>\n",
       "      <td>246.0</td>\n",
       "    </tr>\n",
       "    <tr>\n",
       "      <th>1512</th>\n",
       "      <td>sir john rogerson's quay</td>\n",
       "      <td>4.0</td>\n",
       "      <td>Filming</td>\n",
       "      <td>2010-07-05</td>\n",
       "      <td>2009-07-12</td>\n",
       "      <td>2010-07-13</td>\n",
       "      <td>367</td>\n",
       "      <td>5.0</td>\n",
       "      <td>324.0</td>\n",
       "    </tr>\n",
       "    <tr>\n",
       "      <th>1656</th>\n",
       "      <td>nutley lane</td>\n",
       "      <td>4.0</td>\n",
       "      <td>Temporary Site Access</td>\n",
       "      <td>2010-12-15</td>\n",
       "      <td>2011-01-05</td>\n",
       "      <td>2012-05-04</td>\n",
       "      <td>486</td>\n",
       "      <td>2.0</td>\n",
       "      <td>10000.0</td>\n",
       "    </tr>\n",
       "  </tbody>\n",
       "</table>\n",
       "</div>"
      ],
      "text/plain": [
       "            location_of_spaces  str_class  \\\n",
       "6              townsend street        2.0   \n",
       "30        parnell square north        4.0   \n",
       "75             shelbourne road        2.0   \n",
       "301              lennox street        4.0   \n",
       "339          derrynane gardens        6.0   \n",
       "389              vernon avenue        2.0   \n",
       "415         fitzwilliam street        4.0   \n",
       "515         fitzwilliam street        4.0   \n",
       "543         fitzwilliam street        4.0   \n",
       "596          serpentine avenue        4.0   \n",
       "682         fitzwilliam street        4.0   \n",
       "881               cardiff lane        2.0   \n",
       "913           sandymount green        3.0   \n",
       "921                 camden row        4.0   \n",
       "1166           parkgate street        2.0   \n",
       "1508          creighton street        4.0   \n",
       "1512  sir john rogerson's quay        4.0   \n",
       "1656               nutley lane        4.0   \n",
       "\n",
       "                                                purpose       date  \\\n",
       "6                        To allow access to loading Bay 2006-01-05   \n",
       "30                         Compound Area to store spoil 2006-01-25   \n",
       "75                                       Access to Site 2006-03-07   \n",
       "301                                       Film Vehicles 2006-08-14   \n",
       "339                  Permanent removal of parking space 2006-08-31   \n",
       "389                  Permanent Removal of Parking Space 2006-09-26   \n",
       "415                                      Access to Site 2006-10-13   \n",
       "515                                      Access to Site 2006-12-21   \n",
       "543                                      Access to site 2007-02-08   \n",
       "596                                Clear Access to Site 2007-03-28   \n",
       "682                                      Access to site 2007-02-08   \n",
       "881   Construction of an Extension to the Quality Hotel 2007-12-19   \n",
       "913                Position of Pump and Builders Trucks 2008-01-24   \n",
       "921                                   Station Upgrading 2008-02-06   \n",
       "1166  Removal and replacement of Pay and Display mac... 2008-10-08   \n",
       "1508                                            Filming 2010-06-30   \n",
       "1512                                            Filming 2010-07-05   \n",
       "1656                              Temporary Site Access 2010-12-15   \n",
       "\n",
       "     date_suspended date_expired  duration  no_of_spaces  amount_paid  \n",
       "6        2005-01-09   2006-01-13       370           2.0        456.0  \n",
       "30       2006-02-04   2006-03-30        55           5.0      10400.0  \n",
       "75       2006-03-08   2006-04-28        52           5.0       8550.0  \n",
       "301      2006-08-18   2036-08-18     10959           6.0        182.4  \n",
       "339      2006-08-31   2006-11-09        70           1.0       2100.0  \n",
       "389      2006-10-26   2007-01-04        70           1.0       2100.0  \n",
       "415      2006-10-12   2006-12-12        62           4.0       4082.0  \n",
       "515      2006-12-12   2007-02-09        60           4.0       3344.0  \n",
       "543      2007-02-10   2007-04-05        55           4.0       3572.0  \n",
       "596      2007-03-31   2007-07-31       123           3.0       9302.4  \n",
       "682      2007-04-06   2007-07-26       112           4.0       7448.0  \n",
       "881      2008-01-03   2008-05-31       150           5.0      17201.0  \n",
       "913      2007-10-15   2007-12-14        61           3.0       2508.0  \n",
       "921      2008-02-01   2008-03-31        60           1.0       2460.0  \n",
       "1166     2008-02-01   2008-03-31        60          13.0      11521.0  \n",
       "1508     2001-07-05   2010-07-05      3288           6.0        246.0  \n",
       "1512     2009-07-12   2010-07-13       367           5.0        324.0  \n",
       "1656     2011-01-05   2012-05-04       486           2.0      10000.0  "
      ]
     },
     "execution_count": 61,
     "metadata": {},
     "output_type": "execute_result"
    }
   ],
   "source": [
    "# Filter rows where 'duration' is greater than 50\n",
    "df.loc[(df['duration'] > 50)]"
   ]
  },
  {
   "cell_type": "markdown",
   "id": "934bb5e9",
   "metadata": {},
   "source": [
    "The issue was identified by comparing the date values with the corresponding payment amounts. The rows with indexes 6, 362, 1818, and 1822 contain typographical errors in the date entries. These will be corrected by replacing them with the appropriate values."
   ]
  },
  {
   "cell_type": "code",
   "execution_count": 62,
   "id": "ef0ec3d0",
   "metadata": {},
   "outputs": [],
   "source": [
    "df.loc[6, 'duration'] = 5         # the row 6 is 2005.01.09 - 2005.01.13\n",
    "df.loc[301, 'duration'] = 1       # the row 301 is 2006.08.18 - 2006.08.18\n",
    "df.loc[1508, 'duration'] = 1      # the row 1508 is 2001.07.05 - 2010.07.05\n",
    "df.loc[1512, 'duration'] = 2      # the row 1512 is 2009.07.12 - 2009.07.13"
   ]
  },
  {
   "cell_type": "markdown",
   "id": "d8ba827a",
   "metadata": {},
   "source": [
    "Next, the focus shifts to inspecting the column for any negative numbers."
   ]
  },
  {
   "cell_type": "code",
   "execution_count": 63,
   "id": "918064f3",
   "metadata": {},
   "outputs": [
    {
     "data": {
      "text/html": [
       "<div>\n",
       "<style scoped>\n",
       "    .dataframe tbody tr th:only-of-type {\n",
       "        vertical-align: middle;\n",
       "    }\n",
       "\n",
       "    .dataframe tbody tr th {\n",
       "        vertical-align: top;\n",
       "    }\n",
       "\n",
       "    .dataframe thead th {\n",
       "        text-align: right;\n",
       "    }\n",
       "</style>\n",
       "<table border=\"1\" class=\"dataframe\">\n",
       "  <thead>\n",
       "    <tr style=\"text-align: right;\">\n",
       "      <th></th>\n",
       "      <th>location_of_spaces</th>\n",
       "      <th>str_class</th>\n",
       "      <th>purpose</th>\n",
       "      <th>date</th>\n",
       "      <th>date_suspended</th>\n",
       "      <th>date_expired</th>\n",
       "      <th>duration</th>\n",
       "      <th>no_of_spaces</th>\n",
       "      <th>amount_paid</th>\n",
       "    </tr>\n",
       "  </thead>\n",
       "  <tbody>\n",
       "    <tr>\n",
       "      <th>194</th>\n",
       "      <td>townsend street</td>\n",
       "      <td>2.0</td>\n",
       "      <td>To allow traffic to flow while loading</td>\n",
       "      <td>2006-06-01</td>\n",
       "      <td>2009-06-06</td>\n",
       "      <td>2006-06-09</td>\n",
       "      <td>-1092</td>\n",
       "      <td>2.0</td>\n",
       "      <td>304.0</td>\n",
       "    </tr>\n",
       "    <tr>\n",
       "      <th>376</th>\n",
       "      <td>mayor street lower</td>\n",
       "      <td>5.0</td>\n",
       "      <td>To Facilate Filiming</td>\n",
       "      <td>2006-09-18</td>\n",
       "      <td>2006-10-03</td>\n",
       "      <td>2006-09-03</td>\n",
       "      <td>-29</td>\n",
       "      <td>4.0</td>\n",
       "      <td>152.0</td>\n",
       "    </tr>\n",
       "    <tr>\n",
       "      <th>630</th>\n",
       "      <td>palace street</td>\n",
       "      <td>5.0</td>\n",
       "      <td>Audience Egress from Concerts</td>\n",
       "      <td>2007-05-03</td>\n",
       "      <td>2007-07-05</td>\n",
       "      <td>2007-05-07</td>\n",
       "      <td>-58</td>\n",
       "      <td>4.0</td>\n",
       "      <td>152.0</td>\n",
       "    </tr>\n",
       "    <tr>\n",
       "      <th>1478</th>\n",
       "      <td>hatch street upper</td>\n",
       "      <td>2.0</td>\n",
       "      <td>security parking for Minister of Health Mary H...</td>\n",
       "      <td>2010-04-28</td>\n",
       "      <td>2010-04-29</td>\n",
       "      <td>2010-04-19</td>\n",
       "      <td>-9</td>\n",
       "      <td>2.0</td>\n",
       "      <td>100.0</td>\n",
       "    </tr>\n",
       "  </tbody>\n",
       "</table>\n",
       "</div>"
      ],
      "text/plain": [
       "      location_of_spaces  str_class  \\\n",
       "194      townsend street        2.0   \n",
       "376   mayor street lower        5.0   \n",
       "630        palace street        5.0   \n",
       "1478  hatch street upper        2.0   \n",
       "\n",
       "                                                purpose       date  \\\n",
       "194              To allow traffic to flow while loading 2006-06-01   \n",
       "376                                To Facilate Filiming 2006-09-18   \n",
       "630                       Audience Egress from Concerts 2007-05-03   \n",
       "1478  security parking for Minister of Health Mary H... 2010-04-28   \n",
       "\n",
       "     date_suspended date_expired  duration  no_of_spaces  amount_paid  \n",
       "194      2009-06-06   2006-06-09     -1092           2.0        304.0  \n",
       "376      2006-10-03   2006-09-03       -29           4.0        152.0  \n",
       "630      2007-07-05   2007-05-07       -58           4.0        152.0  \n",
       "1478     2010-04-29   2010-04-19        -9           2.0        100.0  "
      ]
     },
     "execution_count": 63,
     "metadata": {},
     "output_type": "execute_result"
    }
   ],
   "source": [
    "# Filter rows where 'duration' is less than 0\n",
    "df.loc[(df['duration'] < 0)]"
   ]
  },
  {
   "cell_type": "markdown",
   "id": "f979a389",
   "metadata": {},
   "source": [
    "Rows with indexes 194, 376, 630, and 1478 contain identical input errors. These values are being corrected with the appropriate entries."
   ]
  },
  {
   "cell_type": "code",
   "execution_count": 64,
   "id": "d3230ea6",
   "metadata": {},
   "outputs": [],
   "source": [
    "df.loc[194, 'duration'] = 4      # the row 194 is 2006.06.09 - 2006.06.06\n",
    "df.loc[376, 'duration'] = 1      # the row 376 is 2006.10.03 - 2006.10.03\n",
    "df.loc[630, 'duration'] = 1      # the row 630 is 2007.05.07 - 2007.05.07\n",
    "df.loc[1478, 'duration'] = 1     # the row 1478 is 2010.04.29 - 2010.04.29"
   ]
  },
  {
   "cell_type": "code",
   "execution_count": 65,
   "id": "c8abed75",
   "metadata": {},
   "outputs": [
    {
     "data": {
      "text/plain": [
       "0"
      ]
     },
     "execution_count": 65,
     "metadata": {},
     "output_type": "execute_result"
    }
   ],
   "source": [
    "# Count the number of missing values in the 'duration' column\n",
    "df['duration'].isnull().sum()"
   ]
  },
  {
   "cell_type": "markdown",
   "id": "873611eb",
   "metadata": {},
   "source": [
    "#### `no_of_spaces`\n",
    "\n",
    "The values and missing entries in the \"no_of_spaces\" column are now under examination. Any discrepancies or missing values will be handled appropriately."
   ]
  },
  {
   "cell_type": "code",
   "execution_count": 66,
   "id": "4ec5116f",
   "metadata": {},
   "outputs": [
    {
     "data": {
      "text/plain": [
       "3"
      ]
     },
     "execution_count": 66,
     "metadata": {},
     "output_type": "execute_result"
    }
   ],
   "source": [
    "# Count the number of missing values in the 'no_of_spaces' column\n",
    "df['no_of_spaces'].isnull().sum()"
   ]
  },
  {
   "cell_type": "markdown",
   "id": "9963b259",
   "metadata": {},
   "source": [
    "Since the missing values in this column cannot be ignored, plotting a boxplot and a distribution plot is the most effective approach to determine the most suitable value for imputation. The decision between using the mean or the median depends on the data distribution and the presence of outliers."
   ]
  },
  {
   "cell_type": "code",
   "execution_count": 67,
   "id": "084b7bcd",
   "metadata": {
    "scrolled": true
   },
   "outputs": [
    {
     "data": {
      "text/plain": [
       "<Axes: xlabel='no_of_spaces', ylabel='Density'>"
      ]
     },
     "execution_count": 67,
     "metadata": {},
     "output_type": "execute_result"
    },
    {
     "data": {
      "image/png": "[encoded data removed]",
      "text/plain": [
       "<Figure size 2000x300 with 1 Axes>"
      ]
     },
     "metadata": {},
     "output_type": "display_data"
    },
    {
     "data": {
      "image/png": "[encoded data removed]",
      "text/plain": [
       "<Figure size 2000x500 with 1 Axes>"
      ]
     },
     "metadata": {},
     "output_type": "display_data"
    }
   ],
   "source": [
    "# Create a box plot for the 'no_of_spaces' column\n",
    "fig, ax = plt.subplots(figsize = (20, 3))\n",
    "sns.boxplot(df.no_of_spaces)\n",
    "\n",
    "# Create a distribution plot for the 'no_of_spaces' column\n",
    "fig, ax = plt.subplots(figsize = (20, 5))\n",
    "sns.distplot(df.no_of_spaces)"
   ]
  },
  {
   "cell_type": "code",
   "execution_count": 68,
   "id": "50efd69a",
   "metadata": {},
   "outputs": [
    {
     "name": "stdout",
     "output_type": "stream",
     "text": [
      "The mean is: 5.638297872340425\n",
      "The median is: 4.0\n"
     ]
    }
   ],
   "source": [
    "# Calculate and print the mean and median values for the 'no_of_spaces' column\n",
    "print('The mean is:', df['no_of_spaces'].mean())\n",
    "print('The median is:', df['no_of_spaces'].median())"
   ]
  },
  {
   "cell_type": "markdown",
   "id": "74ec4fde",
   "metadata": {},
   "source": [
    "Due to the right-skewed distribution of this column, using the mean or mode to replace missing values is not advisable. Instead, the median of the distribution will be used as the replacement value."
   ]
  },
  {
   "cell_type": "code",
   "execution_count": 69,
   "id": "0ce4f4cb",
   "metadata": {},
   "outputs": [
    {
     "data": {
      "text/plain": [
       "0"
      ]
     },
     "execution_count": 69,
     "metadata": {},
     "output_type": "execute_result"
    }
   ],
   "source": [
    "# Fill missing values in the 'no_of_spaces' column with the median value\n",
    "df['no_of_spaces'] = df['no_of_spaces'].fillna(df['no_of_spaces'].median())\n",
    "df['no_of_spaces'].isnull().sum()"
   ]
  },
  {
   "cell_type": "markdown",
   "id": "c454ee53",
   "metadata": {},
   "source": [
    "#### `purpose`\n",
    "\n",
    "Information on the temporary suspension of parking spots is available on the Dublin City Council website. The primary reasons for suspension include filming, delivery (set-down and collection), building work, office relocation, and broadcasting units. The \"purpose\" column should be examined to determine how the values can be organized. [(suspension-paid-parking)](https://www.dublincity.ie/residential/parking-dublin-city-centre/suspension-paid-parking)"
   ]
  },
  {
   "cell_type": "code",
   "execution_count": 70,
   "id": "03c22488",
   "metadata": {
    "scrolled": true
   },
   "outputs": [
    {
     "name": "stdout",
     "output_type": "stream",
     "text": [
      "Filming\n",
      "Outside Broadcast\n",
      "Film Vehicles\n",
      "Roadhog\n",
      "Film Unit\n",
      "FM104 Roadhog\n",
      "Filiming Vehicles\n",
      "To allow traffic to flow while loading\n",
      "Broadcast\n",
      "Outside Broadcast Unit\n",
      "Filming Vehicles\n",
      "To allow traffic to flow freely\n",
      "Parking of Film Vehicles\n",
      "Company Lorry\n",
      "Rugby fanzone\n",
      "Position of Pump and Builders Trucks\n",
      "Film Vehicle\n",
      "Parking of Filming Vehicles\n",
      "Office Removal\n",
      "Office Move\n",
      "Parking of Film Unit\n",
      "Temporary loading bay\n",
      "Film Shoot\n",
      "OBU\n",
      "Moving Office\n",
      "Loading\n",
      "To park trucks to facilitate filming for RTE Series\n",
      "Facilitate Filming\n",
      "Deliveries to site\n",
      "Facilitate filming\n",
      "The Parking Of An Outside Broadcast Unit\n",
      "Access to Site\n",
      "Parking of filming vehicles\n",
      "filming\n",
      "Removal Van\n",
      "Setting up event\n",
      "Allow traffic to flow freely\n",
      "Delivery to a Building Site & Safety\n",
      "The free-flow of traffic\n",
      "Office Relocation\n",
      "Safe loading during de-rig of Dublin Festival Event in the Iveagh Gardens\n",
      "Removal\n",
      "Deliveries for Shop Fit Out\n",
      "Off Loading\n",
      "Moving Premises\n",
      "Film Crew Parking\n",
      "Unloading\n",
      "To Facilate Filiming\n",
      "Programme recording in Belvedere College\n",
      "Station Upgrading\n",
      "Loading/Unloading\n",
      "Outside Braodcast\n",
      "film vehicle\n",
      "Access to site\n",
      "Load in to Donegal Live Event in Iveagh Gardens\n",
      "Filming in locations standby vehicles\n",
      "Loading/unloading to building site\n",
      "Film vehicles\n",
      "Delivery\n",
      "Unit Production Vehilces\n",
      "Moving Offices\n",
      "Delivery of Furniture\n",
      "Parking equipment trucks for filming\n",
      "Outside Braodcast Unit\n",
      "To allow access to Loading Bay\n",
      "temporary loading bay\n",
      "roadhog\n",
      "The Free-Flow Of Traffic Whilst Loading/Unloading\n",
      "To Facilate Film Vehicles\n",
      "parking of filming trucks\n",
      "Parking of trucks to facilitate filming nearby\n",
      "Official Launch\n",
      "Thunderbus\n",
      "Programme recording in Velvedere College\n",
      "Parking of Film Trucks\n",
      "Pedestrianisation of carriageway\n",
      "Recording Television Programme\n",
      "Broadcasting Unit\n",
      "Bus for filming\n",
      "Coach Parking\n",
      "Panda Waste Shredding Truck\n",
      "Parking of Vehicles for Outside Broadcast\n",
      "To facilitate filming for RTE\n",
      "Vehicles for Film Shoot\n",
      "Parking Catering Vehicles\n",
      "Loading and Unloading\n",
      "Official Sponsor for UEFA EL Final\n",
      "Permanent removal of parking space\n",
      "Parking Film Vehicles\n",
      "Temporary Loading Bay\n",
      "To facilate outside broadcast unit\n",
      "Outside broadcast unit\n",
      "Compound Area to store spoil\n",
      "Filming of the Panel for RTE\n",
      "Furniture Delivery Lorry\n",
      "filming vehicles\n",
      "Parking & Clearance of Film Vehicles\n",
      "To service Filmset\n",
      "Painting the front of houses\n",
      "Film Vehicles Parking\n",
      "Film Productions\n",
      "Guinness 250 Event\n",
      "loading/unloading of exhibition\n",
      "Dropping loads of steel prior to closure of Infirmary Road\n",
      "Loading/ Unloading\n",
      "Parking of Cars\n",
      "Parking of Film Unit Trucks\n",
      "Delivery of Office Furniture\n",
      "Filming in Tripod\n",
      "Film Vehicle Parking\n",
      "To Allow traffic to flow freely\n",
      "Filming TV Programme for RTE\n",
      "Film Technical Vehicles\n",
      "Load and unloading of Set\n",
      "Exhibitor Set Up Day\n",
      "Parking of Filiming Vehicles\n",
      "Parking for Filming\n",
      "working on Biosience sight\n",
      "filming of scene for TV commercial\n",
      "Commercial\n",
      "Removal Van - Office Relocation\n",
      "film vehicles\n",
      "Filming Danone Commercial\n",
      "To facilate Filiming\n",
      "Hoggie\n",
      "Recording for RTE\n",
      "Culture Night Production Vehicles\n",
      "Filming in 57 Kenilworth Square South\n",
      "construction of a rugby fan zone\n",
      "To park the festival of Chariots carts\n",
      "Radio (Outside Broadcast)\n",
      "Furniture Removal\n",
      "Arthurs Day production vehicles\n",
      "Equipment vans for Filming\n",
      "Facilitate the build up for Event in Iveagh Gardens\n",
      "Information Mobile Unit\n",
      "Park one single deck bus\n",
      "To facilate filiming\n",
      "Vehicles For Events Works\n",
      "To keep view from window clear for filming\n",
      "Parking Of An Outside Broadcast Unit\n",
      "To park trucks to facilitate filming for RTE production on South Circular Road\n",
      "Unload & Loading Trucks\n",
      "Filiming\n",
      "Pedestrian Walkway\n",
      "Temporary Mobile Library Service\n",
      "To allow traffic to flow while loading bay in use\n",
      "To facilitate building works\n",
      "Road Realignment\n",
      "Loading / Unloading\n",
      "Filming trucks for equipment\n",
      "Allow Traffic to Flow Freely\n",
      "De-rig event\n",
      "Filiming T.V. Commercial\n",
      "Campaign Launch\n",
      "Loading & Unloading Scaffolding\n",
      "Recording of Christmas Service for RTE\n",
      "Filming scene at Stag's Head\n",
      "Parking of Camera Truck\n",
      "Furniture Delivery\n",
      "Broadcasting Rugby Homecoming\n",
      "facilitate filming at D4 hotel\n",
      "Removal truck\n",
      "Parking of Film Standby Trucks\n",
      "Props for photocall in Iveagh Gardens\n",
      "Working on Tritonville Road\n",
      "Filming Equipment\n",
      "Site Work Cabin\n",
      "Deliveries\n",
      "Filming outside no. 13\n",
      "Film Facilities Vehicles\n",
      "Film Shoot Vehciles\n",
      "Recording programme for RTÉ\n",
      "Record Store Day\n",
      "St. Patrick's Festival Launch\n",
      "Removal of Furniture\n",
      "servicing film shoot\n",
      "To park vehicles to facilitte filming\n",
      "Filming Training DVD\n",
      "Audience pick-up/ vehicles from the show will also be parked here during the day\n",
      "Filming in Tribeca Restaurant\n",
      "Loading and Unloading for a conference at  Morrison Hotel\n",
      "parking generator for event in building nearby\n",
      "Working in City Hall\n",
      "News feed for RTE\n",
      "Removal and Relocation of Office\n",
      "Filming of commercial\n",
      "Loading and unloading of Exhibition\n",
      "truck parking\n",
      "Filming in Leinster House\n",
      "To park trucks to facilitate filming for RTE\n",
      "Live TV news report via satellite truck\n",
      "Off loading of furniture\n",
      "Drainage Digging\n",
      "Off loading furniture for offices\n",
      "mobile unit - D.N.W. Information Services\n",
      "Promotion\n",
      "Position of Site Office\n",
      "Delivery of sculptures for exhibition in Iveagh Garden\n",
      "To park tarmac truck\n",
      "Loading - Office Removal\n",
      "Facilitate removal truck\n",
      "To service Christ Church location as an overspill zone for buses , trucks and vans.\n",
      "Furniture Removals\n",
      "Minister/Tanaiste Mary Coughlan\n",
      "Temporary Site Access\n",
      "Parking for caterers for reception in City Hall\n",
      "Domestic\n",
      "Removal and replacement of Pay and Display machines\n",
      "Access to view conditions of roofs\n",
      "Video Illumination of Church as part of Culture Night\n",
      "Compound for rail works\n",
      "Refrigerated Storage\n",
      "Filming in Whelans\n",
      "Parking of Catering/Dining Buses for Filming in Temple Bar\n",
      "98FM Bus for mayo Alive Festival\n",
      "Delivery of belongings to new home\n",
      "Required for Mobile Ticket Office for duration of Dublin Festival Event in the Iveagh Gardens\n",
      "Parking Library bus and associated vehicles as part of the Chinese New Year carnival event\n",
      "Set Area for Film Location @ Christ Church\n",
      "To facilitate filming\n",
      "Moving\n",
      "Photoshoot for Client\n",
      "Deliveries for Shop Fit-Out\n",
      "Dismantling Tower Crane\n",
      "filming inside no. 53 Pembroke Road\n",
      "parking generator for event in building\n",
      "security parking for Minister of Health Mary Harney\n",
      "filming of TV Commercial inside Smock Alley\n",
      "Mobile Unit Information\n",
      "ease of access to Taste of Ireland\n",
      "Launch of Luas B1 Line\n",
      "construction of a temporary loading bay\n",
      "FM104 truck\n",
      "parking of a satellite van to broadcast Live lyric show from indise the Church\n",
      "live broadcast for Bloomberg TV\n",
      "public kiosk\n",
      "parking Library bus and associated vehicles as part of the Chinese New Year carnival event\n",
      "collection of household goods\n",
      "Installing Kitchen\n",
      "House moving\n",
      "moblie information unit\n",
      "filming in the Shelbourne Hotel\n",
      "exhibition truck\n",
      "coach parking\n",
      "delivery of household goods\n",
      "City & Guild Office Move\n",
      "office move\n",
      "Radio outside broadcast\n",
      "promotional activity\n",
      "broadcast on 2FM\n",
      "Film vheicles\n",
      "broadcast on 2Fm\n",
      "Park Filming Trucks\n",
      "A mobile toilet\n",
      "Unloading/Loading\n",
      "Vehicles for filming\n",
      "Metro North Geotechnical Investigations\n",
      "3no Metro North Boreholes\n",
      "delivery and build of marquees for Taste of Dublin\n",
      "filming in Grand Canal Theatre\n",
      "delivery and build of marguees for Taste of Dublin\n",
      "Removals\n",
      "radio broadcast\n",
      "moving house\n",
      "creating 1970's street scene\n",
      "In order to park 4 toilet facility for an event in Fitzwilliam Square\n",
      "mobile unit information\n",
      "Fashion Event\n",
      "Rugby Fan Zone\n",
      "Screen on trailer\n",
      "parking of film equipment truck\n",
      "Construction of Rugby Fan Zone\n",
      "parking of film facilties trucks\n",
      "use of removal van\n",
      "generator parking for extra parking in the academy\n",
      "To facilitate Filming\n",
      "Wedding\n",
      "Religious Gathering\n",
      "ATM Swapout\n",
      "Information Unit\n",
      "Removal Truck\n",
      "3801\n",
      "Filming in the Garden of Remembrance\n",
      "Parking of Film Service Vehicles\n",
      "To work either side of skip\n",
      "To remove Machinery\n",
      "Pedestrian Safety\n",
      "Outside broadcast\n",
      "Outside Broadcast Unit (This permit begins at 10.00am and expires at 16.00pm)\n",
      "Parking truck to facilate filming\n",
      "Roadhog (This permit begins at 10.00am and expires at 16.00pm)\n",
      "Unload area for Marqueees\n",
      "Keep entrance clear\n",
      "Pedestrian Fafety\n",
      "Pedestrian safety\n",
      "Outside Broadcast Unit (This permit expires after 4.00pm)\n",
      "Truck parking to facilitate filming\n",
      "Load and unload vans\n",
      "Blood Donation Clinic\n",
      "Religious Event\n",
      "uplink van for Academy music venue\n",
      "Film Service Vehicles\n",
      "Entrance/Egress for concert\n",
      "A trailer with a screen\n",
      "OBU and 3 jeeps\n",
      "Unloading of a removal Van\n",
      "filming of TV Commercial in Herbert Park\n",
      "Programme recording\n",
      "Moving house\n",
      "OBU & 3 jeeps\n",
      "Construction of a Rugby fan zone\n",
      "Loading of Film Unit\n",
      "Equipment Truck for Filming\n",
      "construction of a rugdy fan zone\n",
      "Creation of a temporary loading bay\n",
      "To temporarily place a metropanel outside Mediaedge offices\n",
      "Rugby Fanzone\n",
      "Office move\n",
      "Painting exterior of building\n",
      "Programme Recording\n",
      "Relocating\n",
      "Painting\n",
      "Site Investigation Works\n",
      "Emergency Roof Repair\n",
      "off loading lorries\n",
      "To load an Exhibition onto a truck\n",
      "Loading of Film Vehicles\n",
      "Placing of hoist\n",
      "Loading and unloading to buiilding site\n",
      "Loading and Unloading to building site\n",
      "Vehicles on standby for filming at 53 Pembroke Rd\n",
      "Facilitate traffic movement\n",
      "Loading to building site\n",
      "The Loading / Unloading Of Furniture\n",
      "Vehicles To Support Filming\n",
      "The Unloading Of A Removals Van\n",
      "An Outside Broadcast Unit\n",
      "nan\n",
      "Parking Of A Cherry-Picker\n",
      "WKD Double Decker Bus\n",
      "CCTV Surveying\n",
      "Unloading Furniture\n",
      "Support Vehicles to facilitate filming\n",
      "Outside Broadcast (98FM)\n",
      "Access to Site - Deliveries\n",
      "(outside Paddy Cullens)\n",
      "Bord Gas Works\n",
      "To Facilate Roadhog\n",
      "Loading & Unloading\n",
      "Promtional Vehicles\n",
      "The Parking Of The 'Roadhog'\n",
      "Information Vehicle\n",
      "Film Set\n",
      "Delivery Of Fixtures & Fittings\n",
      "An Outside Broadcast\n",
      "Outside Broadcast)\n",
      "Parking of Tipper Lorries\n",
      "Film  Vehicles\n",
      "Traffic to flow freely\n",
      "Tree Works\n",
      "Contruction Work (Van Reg. 05KE  4313)\n",
      "Drop Off Point\n",
      "Parking Dressing Room Vehicles\n",
      "Promotional Vehicle\n",
      "Parking of Truck\n",
      " Parking of Filiming Vehicles\n",
      "Roadhog(outside Dandeloin)\n",
      "Permanent Removal of Parking Space\n",
      "Parking During An Exhibition At Ormond Quay\n",
      "To Allow traffic to Flow freely\n",
      "Construction Sub Contractor Vehicles\n",
      "Part of Arts Programme\n",
      "Showcasing of 5 axle HGV\n",
      "To Facilate Parking of Film Vehicles\n",
      "To facilate Parking of film vehicles\n",
      "Relocation of Office\n",
      "Delivery of Materials\n",
      "Positining Crane\n",
      "The Placing Of A Hoist\n",
      "Marketing Purposes / Parking Of The WKD Bus\n",
      "To facilate film Vehicles\n",
      "To Facilatate Filiming\n",
      "Test  Drive Promotion\n",
      "Traffic to flow freely while loading bay in use\n",
      "Filiming Purposes\n",
      "Filming Purposes\n",
      "Outside Broadcast - Filming at Spirit\n",
      "Event Organiser and Pavan Trailer\n",
      "Moving office\n",
      "To allow traffic flow while loading\n",
      "Removal of Household Sods\n",
      "Removal of materials to Recycling\n",
      "Horse Box & Trailer\n",
      "Office Launch\n",
      "Truck Delivering Office Furniture & Fittings\n",
      "Parking of Roadhog\n",
      "Standby Filming Vehicles\n",
      "Ireland  American Fund\n",
      "Recording of TV Series\n",
      "Relocation from Windsor Place to Baggot Street\n",
      "Daffodil Day\n",
      "Parking Catering Vehicle\n",
      "To allow free flow of traffic\n",
      "Television Recording\n",
      "For Loading  Purposes\n",
      "To allow access to loading Bay\n",
      "Furniture removal\n",
      "Road Caster\n",
      "Filiming  purposes\n",
      "Parking of Lighting Generator\n",
      "To Lay Surface - Water Drain\n",
      "To allow traffic to flow\n",
      "Off loading of Kitchen Units to Site\n",
      "Dismantle of Tower Crane\n",
      "To load office furniture\n",
      "Photocall with Minister Dick Roche\n",
      "To Allow Pedestrian Access\n",
      "Office Furniture Removal\n",
      "Concrete Delivery & Concrete pumping\n",
      "Essentials For Market\n",
      "Loading&Unloading\n",
      "Servicing Film Production\n",
      "To allow to flow freely\n",
      "Outside Broadcast Unit,\n",
      "Filming on Dame Street\n",
      "parking of film Vehicles\n",
      "Public Safety at Concert\n",
      "Parking Filming Vehicle\n",
      "Parking Film Vehicle\n",
      "Outside Broadcast  Unit\n",
      "Installation of large units\n",
      "Filming at Bridge\n",
      "Filming in Treasury Building\n",
      "Filming in Ocean Bar\n",
      "Filming in Herbert Park\n",
      "Filming on City Quay/ Sean O' Casey Bridge\n",
      "Parking of film Vehicles\n",
      "Delivery of Container\n",
      "Filming Commerical\n",
      "Parking of Lorries\n",
      "Site Access for Vehicles\n",
      "Promotional Vehicles\n",
      "Collection from KPMG\n",
      "Relocation Re: Metro North Project\n",
      "Unloading of Scaffolding\n",
      "Office Move - Embassy of Sweden\n",
      "Parking of Film Support Vehicles\n",
      "Parking of Film and Equipment Trucks\n",
      "Container to Facilitate Festival\n",
      "Film Vehicle (This permit only covers up until 10am)\n",
      "Showcasing of Concept 5 axle HGV\n",
      "Filiming  Vehicles\n",
      " Traffic to flow Freely\n",
      "Outside Broadcast(truck to power T.V. Studio)\n",
      "Photo Shoot\n",
      "Parking For Relocation\n",
      "Event Production\n",
      "Demolition of Wall\n",
      "Carpet-Fitting\n",
      "Demolition Work\n",
      "T.V. Recording and Freeflow of Traffic\n",
      "Market Traders Parking\n",
      "Market Traders  Parking\n",
      "Mobile Information Unit\n",
      "Mobile Information  Unit\n",
      "Drop off and pick up point\n",
      "Provide access for Film Crew to location (All vehicles must vacate all spaces by 4.30pm)\n",
      "OB units recording programme in Belveder College\n",
      "Health & Safety (To remove glass from 7th floor of Dept. of Health & Children)\n",
      "Household Relocation\n",
      "Facilitate build up of an event being held.\n",
      "Mobile Skills Unit Van (Training Purpose)\n",
      "Parking for ESB Vans during Station Uprating\n",
      "Delivery of Exhibition Installation\n",
      "Allow trucks to park beside oil tanker which is to be drained and cleaned\n",
      "IFTA Awards\n",
      "Coach\n",
      "Dublin City Council Learning Bus\n",
      "Generator truck\n",
      "Office removal\n",
      "Work Vans - deliveries etc.\n",
      "OB recording at Belevedere\n",
      "Parking Hoist - Decorating 84 Merrion Square\n",
      "Emergency (Waterworks)\n",
      "98FM Mobile Radio Studio\n",
      "Construction of an Extension to the Quality Hotel\n",
      "Filming @ Grand Canal Plaza, Hanover Quay\n",
      "To give clear access to Site Entrance\n",
      "Fair City Filming\n",
      "Film Shoot at Dublin City Hall\n",
      "Enable large vehicles to manoeuvre\n",
      "OB Recording\n",
      "Shop Fitting\n",
      "Access to Parade/Concert\n",
      "Access To An ESB Yard\n",
      "Filiming of T.V. Commercial\n",
      "Parking of Roadcaster\n",
      "Parking film unit\n",
      "Filiming T.V Commercial.\n",
      "Park National Surgical Training Unit\n",
      "Furniture Van(House removal)\n",
      "Showcasing of 'Concept' 5 Axle HGV\n",
      "Launch of National Pensions Campaign\n",
      "Official Opening of Offices\n",
      "Roadcaster\n",
      "Festival of Youth Orchestras at Concert Hall\n",
      "Unloading of Furniture\n",
      "Filming at Custom House Quay\n",
      "Filming Vehicle\n",
      "Removal Vehicle\n",
      "Loading of Large Hampers\n",
      "Parking of Van\n",
      "To Allow Traffic to Flow Freely\n",
      "Moving to another office\n",
      "Traffic flow\n",
      "Festival of lights\n",
      "New office to receive furniture\n",
      "Furniture removal to new office on mount st upper\n",
      "Event at Dylan Hotel\n",
      "Short Film\n",
      "Generator on Location for Filiming\n",
      "Pedestrian walkway\n",
      "New Foothpath Paving\n",
      "The Delivery of Furniture\n",
      "Transfer of delegates to Conference in Kilkenny\n",
      "Filiming Trucks(to Erect scaffolding)\n",
      "Filiming Trucks (to Erect Scaffolding)\n",
      "Radio Broadcast\n",
      "Removal Trucks\n",
      "Civil Contractor\n",
      "Filming in Rotunda (Pillar Room)\n",
      "Filming of Documentary\n",
      "Erection of Scaffolding & Removal of Clock\n",
      "Access for Crowd Control/ Portocabin\n",
      "Art Exhibition\n",
      "Filming  Vehicles\n",
      "Corporate Bus Parking\n",
      "Pedestrianisation of Carrigway\n",
      "Removing furniture\n",
      "Service Promotion\n",
      "Audience Egress from Concerts\n",
      "Live Broadcast\n",
      "Outside Broadcasting Unit\n",
      "Rescue Vans\n",
      "Offiice Removal\n",
      "Wedding Event Car\n",
      "RTE Filiming\n",
      "Clear Access to Site\n",
      "Pedestrianisation of carrigway\n",
      "Shopfitters on Site at Sony Centre\n"
     ]
    }
   ],
   "source": [
    "# Iterate over the unique values in the 'purpose' column and print each value\n",
    "unique_values = df['purpose'].value_counts()\n",
    "for index in unique_values.index:\n",
    "    print(index)"
   ]
  },
  {
   "cell_type": "markdown",
   "id": "6ec15f6e",
   "metadata": {},
   "source": [
    "The values are disorganized and difficult to interpret. An examination will determine how many are related to filming."
   ]
  },
  {
   "cell_type": "code",
   "execution_count": 71,
   "id": "7a97c9c3",
   "metadata": {
    "scrolled": false
   },
   "outputs": [
    {
     "data": {
      "text/html": [
       "<div>\n",
       "<style scoped>\n",
       "    .dataframe tbody tr th:only-of-type {\n",
       "        vertical-align: middle;\n",
       "    }\n",
       "\n",
       "    .dataframe tbody tr th {\n",
       "        vertical-align: top;\n",
       "    }\n",
       "\n",
       "    .dataframe thead th {\n",
       "        text-align: right;\n",
       "    }\n",
       "</style>\n",
       "<table border=\"1\" class=\"dataframe\">\n",
       "  <thead>\n",
       "    <tr style=\"text-align: right;\">\n",
       "      <th></th>\n",
       "      <th>location_of_spaces</th>\n",
       "      <th>str_class</th>\n",
       "      <th>purpose</th>\n",
       "      <th>date</th>\n",
       "      <th>date_suspended</th>\n",
       "      <th>date_expired</th>\n",
       "      <th>duration</th>\n",
       "      <th>no_of_spaces</th>\n",
       "      <th>amount_paid</th>\n",
       "    </tr>\n",
       "  </thead>\n",
       "  <tbody>\n",
       "    <tr>\n",
       "      <th>24</th>\n",
       "      <td>nutley avenue</td>\n",
       "      <td>5.0</td>\n",
       "      <td>Parking of Filming Vehicles</td>\n",
       "      <td>2006-01-20</td>\n",
       "      <td>2006-01-24</td>\n",
       "      <td>2006-01-24</td>\n",
       "      <td>1</td>\n",
       "      <td>8.0</td>\n",
       "      <td>201.1</td>\n",
       "    </tr>\n",
       "    <tr>\n",
       "      <th>28</th>\n",
       "      <td>mount street crescent</td>\n",
       "      <td>4.0</td>\n",
       "      <td>Filming</td>\n",
       "      <td>2006-01-25</td>\n",
       "      <td>2006-02-06</td>\n",
       "      <td>2006-02-06</td>\n",
       "      <td>1</td>\n",
       "      <td>7.0</td>\n",
       "      <td>266.0</td>\n",
       "    </tr>\n",
       "    <tr>\n",
       "      <th>29</th>\n",
       "      <td>mount street crescent</td>\n",
       "      <td>4.0</td>\n",
       "      <td>Filming</td>\n",
       "      <td>2006-01-25</td>\n",
       "      <td>2006-02-13</td>\n",
       "      <td>2006-02-13</td>\n",
       "      <td>1</td>\n",
       "      <td>7.0</td>\n",
       "      <td>266.0</td>\n",
       "    </tr>\n",
       "    <tr>\n",
       "      <th>62</th>\n",
       "      <td>strand street</td>\n",
       "      <td>6.0</td>\n",
       "      <td>Filming</td>\n",
       "      <td>2006-02-27</td>\n",
       "      <td>2006-03-01</td>\n",
       "      <td>2006-03-01</td>\n",
       "      <td>1</td>\n",
       "      <td>9.0</td>\n",
       "      <td>342.0</td>\n",
       "    </tr>\n",
       "    <tr>\n",
       "      <th>71</th>\n",
       "      <td>north great george's street</td>\n",
       "      <td>4.0</td>\n",
       "      <td>Filming</td>\n",
       "      <td>2006-03-06</td>\n",
       "      <td>2006-03-08</td>\n",
       "      <td>2006-03-08</td>\n",
       "      <td>1</td>\n",
       "      <td>5.0</td>\n",
       "      <td>190.0</td>\n",
       "    </tr>\n",
       "    <tr>\n",
       "      <th>...</th>\n",
       "      <td>...</td>\n",
       "      <td>...</td>\n",
       "      <td>...</td>\n",
       "      <td>...</td>\n",
       "      <td>...</td>\n",
       "      <td>...</td>\n",
       "      <td>...</td>\n",
       "      <td>...</td>\n",
       "      <td>...</td>\n",
       "    </tr>\n",
       "    <tr>\n",
       "      <th>1704</th>\n",
       "      <td>parnell street</td>\n",
       "      <td>1.0</td>\n",
       "      <td>Film Unit</td>\n",
       "      <td>2011-04-15</td>\n",
       "      <td>2011-04-22</td>\n",
       "      <td>2011-04-22</td>\n",
       "      <td>1</td>\n",
       "      <td>8.0</td>\n",
       "      <td>160.0</td>\n",
       "    </tr>\n",
       "    <tr>\n",
       "      <th>1712</th>\n",
       "      <td>windsor terrace</td>\n",
       "      <td>4.0</td>\n",
       "      <td>Film Unit</td>\n",
       "      <td>2011-05-04</td>\n",
       "      <td>2011-05-07</td>\n",
       "      <td>2011-05-08</td>\n",
       "      <td>2</td>\n",
       "      <td>6.0</td>\n",
       "      <td>196.8</td>\n",
       "    </tr>\n",
       "    <tr>\n",
       "      <th>1714</th>\n",
       "      <td>ailesbury road</td>\n",
       "      <td>2.0</td>\n",
       "      <td>Film Unit</td>\n",
       "      <td>2011-05-11</td>\n",
       "      <td>2011-05-11</td>\n",
       "      <td>2011-05-11</td>\n",
       "      <td>1</td>\n",
       "      <td>4.0</td>\n",
       "      <td>43.2</td>\n",
       "    </tr>\n",
       "    <tr>\n",
       "      <th>1726</th>\n",
       "      <td>oxmantown road</td>\n",
       "      <td>3.0</td>\n",
       "      <td>Filming</td>\n",
       "      <td>2011-06-01</td>\n",
       "      <td>2011-06-09</td>\n",
       "      <td>2011-06-09</td>\n",
       "      <td>1</td>\n",
       "      <td>10.0</td>\n",
       "      <td>108.0</td>\n",
       "    </tr>\n",
       "    <tr>\n",
       "      <th>1732</th>\n",
       "      <td>mill lane</td>\n",
       "      <td>6.0</td>\n",
       "      <td>filming</td>\n",
       "      <td>2011-06-09</td>\n",
       "      <td>2011-06-18</td>\n",
       "      <td>2011-06-18</td>\n",
       "      <td>1</td>\n",
       "      <td>5.0</td>\n",
       "      <td>205.0</td>\n",
       "    </tr>\n",
       "  </tbody>\n",
       "</table>\n",
       "<p>665 rows × 9 columns</p>\n",
       "</div>"
      ],
      "text/plain": [
       "               location_of_spaces  str_class                      purpose  \\\n",
       "24                  nutley avenue        5.0  Parking of Filming Vehicles   \n",
       "28          mount street crescent        4.0                      Filming   \n",
       "29          mount street crescent        4.0                      Filming   \n",
       "62                  strand street        6.0                      Filming   \n",
       "71    north great george's street        4.0                      Filming   \n",
       "...                           ...        ...                          ...   \n",
       "1704               parnell street        1.0                    Film Unit   \n",
       "1712              windsor terrace        4.0                    Film Unit   \n",
       "1714               ailesbury road        2.0                    Film Unit   \n",
       "1726               oxmantown road        3.0                      Filming   \n",
       "1732                    mill lane        6.0                      filming   \n",
       "\n",
       "           date date_suspended date_expired  duration  no_of_spaces  \\\n",
       "24   2006-01-20     2006-01-24   2006-01-24         1           8.0   \n",
       "28   2006-01-25     2006-02-06   2006-02-06         1           7.0   \n",
       "29   2006-01-25     2006-02-13   2006-02-13         1           7.0   \n",
       "62   2006-02-27     2006-03-01   2006-03-01         1           9.0   \n",
       "71   2006-03-06     2006-03-08   2006-03-08         1           5.0   \n",
       "...         ...            ...          ...       ...           ...   \n",
       "1704 2011-04-15     2011-04-22   2011-04-22         1           8.0   \n",
       "1712 2011-05-04     2011-05-07   2011-05-08         2           6.0   \n",
       "1714 2011-05-11     2011-05-11   2011-05-11         1           4.0   \n",
       "1726 2011-06-01     2011-06-09   2011-06-09         1          10.0   \n",
       "1732 2011-06-09     2011-06-18   2011-06-18         1           5.0   \n",
       "\n",
       "      amount_paid  \n",
       "24          201.1  \n",
       "28          266.0  \n",
       "29          266.0  \n",
       "62          342.0  \n",
       "71          190.0  \n",
       "...           ...  \n",
       "1704        160.0  \n",
       "1712        196.8  \n",
       "1714         43.2  \n",
       "1726        108.0  \n",
       "1732        205.0  \n",
       "\n",
       "[665 rows x 9 columns]"
      ]
     },
     "execution_count": 71,
     "metadata": {},
     "output_type": "execute_result"
    }
   ],
   "source": [
    "# Filter rows where the 'purpose' column contains the substring 'film' (case-insensitive)\n",
    "df[df['purpose'].str.contains('film', case=False) == True]"
   ]
  },
  {
   "cell_type": "markdown",
   "id": "12e3c187",
   "metadata": {},
   "source": [
    "Before modifying the values, each cell will be converted to its uppercase equivalent."
   ]
  },
  {
   "cell_type": "code",
   "execution_count": 72,
   "id": "0a553171",
   "metadata": {},
   "outputs": [],
   "source": [
    "# Define a function to convert a value to uppercase\n",
    "def replace_to_upper(val):\n",
    "    return val.upper()\n",
    "\n",
    "df['purpose'] = df['purpose'].apply(replace_to_upper)"
   ]
  },
  {
   "cell_type": "markdown",
   "id": "7efd4fb7",
   "metadata": {},
   "source": [
    "The values will now be substituted with the primary 5 purposes. A custom function is being developed to identify values related to Filming, which will be applied to the column."
   ]
  },
  {
   "cell_type": "code",
   "execution_count": 73,
   "id": "5ee5d989",
   "metadata": {},
   "outputs": [
    {
     "data": {
      "text/plain": [
       "purpose\n",
       "filming                                   733\n",
       "OUTSIDE BROADCAST                          97\n",
       "ROADHOG                                    63\n",
       "FM104 ROADHOG                              42\n",
       "TO ALLOW TRAFFIC TO FLOW WHILE LOADING     35\n",
       "                                         ... \n",
       "RESCUE VANS                                 1\n",
       "OFFIICE REMOVAL                             1\n",
       "WEDDING EVENT CAR                           1\n",
       "CLEAR ACCESS TO SITE                        1\n",
       "SHOPFITTERS ON SITE AT SONY CENTRE          1\n",
       "Name: count, Length: 383, dtype: int64"
      ]
     },
     "execution_count": 73,
     "metadata": {},
     "output_type": "execute_result"
    }
   ],
   "source": [
    "# Define a function to replace values containing 'film' or 'filim' with 'filming'\n",
    "def replace_to_filming(val):\n",
    "    if 'film' in val.lower():\n",
    "        return 'filming'\n",
    "    elif 'filim' in val.lower():\n",
    "        return 'filming'\n",
    "    else:\n",
    "        return val\n",
    "    \n",
    "df['purpose'] = df['purpose'].apply(replace_to_filming)\n",
    "df['purpose'].value_counts()"
   ]
  },
  {
   "cell_type": "code",
   "execution_count": 74,
   "id": "697253a9",
   "metadata": {
    "scrolled": false
   },
   "outputs": [
    {
     "data": {
      "text/plain": [
       "purpose\n",
       "filming                               733\n",
       "OUTSIDE BROADCAST                      97\n",
       "office relocation                      71\n",
       "ROADHOG                                63\n",
       "FM104 ROADHOG                          42\n",
       "                                     ... \n",
       "SERVICE PROMOTION                       1\n",
       "AUDIENCE EGRESS FROM CONCERTS           1\n",
       "LIVE BROADCAST                          1\n",
       "OUTSIDE BROADCASTING UNIT               1\n",
       "SHOPFITTERS ON SITE AT SONY CENTRE      1\n",
       "Name: count, Length: 357, dtype: int64"
      ]
     },
     "execution_count": 74,
     "metadata": {},
     "output_type": "execute_result"
    }
   ],
   "source": [
    "# Define a function to replace values related to office relocation\n",
    "def replace_to_relocation(val):\n",
    "    if 'office' in val.lower():\n",
    "        return 'office relocation'\n",
    "    elif 'ofice' in val.lower():\n",
    "        return 'office relocation'\n",
    "    elif 'offi' in val.lower():\n",
    "        return 'office relocation'\n",
    "    else:\n",
    "        return val\n",
    "    \n",
    "df['purpose'] = df['purpose'].apply(replace_to_relocation)\n",
    "df['purpose'].value_counts()"
   ]
  },
  {
   "cell_type": "markdown",
   "id": "8bae0b74",
   "metadata": {},
   "source": [
    "Creating a custom function that would change the data related to Broadcasting units."
   ]
  },
  {
   "cell_type": "code",
   "execution_count": 75,
   "id": "a9a847ef",
   "metadata": {},
   "outputs": [
    {
     "data": {
      "text/plain": [
       "purpose\n",
       "filming                                       733\n",
       "broadcasting units                            236\n",
       "office relocation                              71\n",
       "ROADHOG                                        63\n",
       "FM104 ROADHOG                                  42\n",
       "                                             ... \n",
       "ERECTION OF SCAFFOLDING & REMOVAL OF CLOCK      1\n",
       "CIVIL CONTRACTOR                                1\n",
       "REMOVAL TRUCKS                                  1\n",
       "THE DELIVERY OF FURNITURE                       1\n",
       "SHOPFITTERS ON SITE AT SONY CENTRE              1\n",
       "Name: count, Length: 314, dtype: int64"
      ]
     },
     "execution_count": 75,
     "metadata": {},
     "output_type": "execute_result"
    }
   ],
   "source": [
    "# List of terms related to broadcasting\n",
    "broadcast = ['broadcast', 'braodcast', 'tv','news', 'recording']\n",
    "\n",
    "# Iterate over each row in the DataFrame\n",
    "for index in range(len(df.index)):\n",
    "    # Get the 'purpose' value for the current row\n",
    "    purpose = df.loc[index, 'purpose']\n",
    "    # Check if the 'purpose' value starts with a numeric character or an uppercase letter\n",
    "    if purpose[0].isnumeric() or purpose[0].isupper():\n",
    "        # Convert the 'purpose' value to lowercase for easier comparison\n",
    "        replacing_val = purpose.lower()\n",
    "        # Iterate over each term in the 'broadcast' list\n",
    "        for num in range(len(broadcast)):\n",
    "            # Check if any term from the 'broadcast' list is contained within the 'purpose' value\n",
    "            if broadcast[num] in replacing_val:\n",
    "                # If a match is found, replace the 'purpose' value with 'broadcasting units'\n",
    "                df.loc[index, 'purpose'] = 'broadcasting units'\n",
    "                \n",
    "df['purpose'].value_counts()"
   ]
  },
  {
   "cell_type": "markdown",
   "id": "1ceb6628",
   "metadata": {},
   "source": [
    "The same method for the values related to the Office relocation."
   ]
  },
  {
   "cell_type": "markdown",
   "id": "c80fc383",
   "metadata": {},
   "source": [
    "For Building work."
   ]
  },
  {
   "cell_type": "code",
   "execution_count": 76,
   "id": "8e04772b",
   "metadata": {},
   "outputs": [
    {
     "data": {
      "text/plain": [
       "purpose\n",
       "filming                                            733\n",
       "broadcasting units                                 236\n",
       "building work                                      120\n",
       "office relocation                                   71\n",
       "ROADHOG                                             63\n",
       "                                                  ... \n",
       "CORPORATE BUS PARKING                                1\n",
       "TRANSFER OF DELEGATES TO CONFERENCE IN KILKENNY      1\n",
       "ART EXHIBITION                                       1\n",
       "ACCESS FOR CROWD CONTROL/ PORTOCABIN                 1\n",
       "98FM BUS FOR MAYO ALIVE FESTIVAL                     1\n",
       "Name: count, Length: 253, dtype: int64"
      ]
     },
     "execution_count": 76,
     "metadata": {},
     "output_type": "execute_result"
    }
   ],
   "source": [
    "# List of terms related to building work\n",
    "building_work = ['site', 'sight', 'buil', 'paving', 'yard', 'construc', 'upgrading', 'pavement', 'pedestr', 'creation',\n",
    "                 'painting', 'demolotion', 'permanent removal', 'realignment', 'repair', 'rail work', 'crane', \n",
    "                 'installation', 'roof', 'remove glass', 'working', 'lay surface', 'contruction', 'drainage', 'demolition',\n",
    "                ]\n",
    "\n",
    "# Iterate over each row in the DataFrame\n",
    "for index in range(len(df.index)):\n",
    "    # Get the 'purpose' value for the current row\n",
    "    purpose = df.loc[index, 'purpose']\n",
    "    # Check if the 'purpose' value starts with a numeric character or an uppercase letter\n",
    "    if purpose[0].isnumeric() or purpose[0].isupper():\n",
    "        # Convert the 'purpose' value to lowercase for easier comparison\n",
    "        replacing_val = purpose.lower()\n",
    "        # Iterate over each term in the 'building_work' list\n",
    "        for num in range(len(building_work)):\n",
    "            # Check if any term from the 'building_work' list is contained within the 'purpose' value\n",
    "            if building_work[num] in replacing_val:\n",
    "                # If a match is found, replace the 'purpose' value with 'building work'\n",
    "                df.loc[index, 'purpose'] = 'building work'\n",
    "\n",
    "df['purpose'].value_counts()"
   ]
  },
  {
   "cell_type": "markdown",
   "id": "48290995",
   "metadata": {},
   "source": [
    "And the last one for Loading and unloading."
   ]
  },
  {
   "cell_type": "code",
   "execution_count": 77,
   "id": "a7b11c01",
   "metadata": {},
   "outputs": [
    {
     "data": {
      "text/plain": [
       "purpose\n",
       "filming                             733\n",
       "broadcasting units                  236\n",
       "loading and unloading               220\n",
       "building work                       120\n",
       "office relocation                    71\n",
       "                                   ... \n",
       "RESCUE VANS                           1\n",
       "AUDIENCE EGRESS FROM CONCERTS         1\n",
       "SERVICE PROMOTION                     1\n",
       "CORPORATE BUS PARKING                 1\n",
       "98FM BUS FOR MAYO ALIVE FESTIVAL      1\n",
       "Name: count, Length: 169, dtype: int64"
      ]
     },
     "execution_count": 77,
     "metadata": {},
     "output_type": "execute_result"
    }
   ],
   "source": [
    "# List of terms related to loading and unloading\n",
    "loading_unloading = ['load', 'deliv', 'lorr', 'furniture', 'storage', 'moving', 'collection','drop off', 'delivery', \n",
    "                     'removals', 'relocating', 'materials' , 'removal']\n",
    "\n",
    "# Iterate over each row in the DataFrame\n",
    "for index in range(len(df.index)):\n",
    "    # Get the 'purpose' value for the current row\n",
    "    purpose = df.loc[index, 'purpose']\n",
    "    # Check if the 'purpose' value starts with a numeric character or an uppercase letter\n",
    "    if purpose[0].isnumeric() or purpose[0].isupper():\n",
    "        # Convert the 'purpose' value to lowercase for easier comparison\n",
    "        replacing_val = purpose.lower()\n",
    "        # Iterate over each term in the 'loading_unloading' list\n",
    "        for num in range(len(loading_unloading)):\n",
    "            # Check if any term from the 'loading_unloading' list is contained within the 'purpose' value\n",
    "            if loading_unloading[num] in replacing_val:\n",
    "                # If a match is found, replace the 'purpose' value with 'loading and unloading'\n",
    "                df.loc[index, 'purpose'] = 'loading and unloading'\n",
    "\n",
    "df['purpose'].value_counts()"
   ]
  },
  {
   "cell_type": "markdown",
   "id": "34fd30e8",
   "metadata": {},
   "source": [
    "The unique values will now be checked to identify what remains."
   ]
  },
  {
   "cell_type": "code",
   "execution_count": 78,
   "id": "69ba500c",
   "metadata": {},
   "outputs": [
    {
     "name": "stdout",
     "output_type": "stream",
     "text": [
      "filming\n",
      "broadcasting units\n",
      "loading and unloading\n",
      "building work\n",
      "office relocation\n",
      "ROADHOG\n",
      "FM104 ROADHOG\n",
      "TO ALLOW TRAFFIC TO FLOW FREELY\n",
      "RUGBY FANZONE\n",
      "ALLOW TRAFFIC TO FLOW FREELY\n",
      "OBU\n",
      "THE FREE-FLOW OF TRAFFIC\n",
      "SETTING UP EVENT\n",
      "UNIT PRODUCTION VEHILCES\n",
      "COACH PARKING\n",
      "PANDA WASTE SHREDDING TRUCK\n",
      "THUNDERBUS\n",
      "PARKING CATERING VEHICLES\n",
      "COMPOUND AREA TO STORE SPOIL\n",
      "EXHIBITOR SET UP DAY\n",
      "PARK ONE SINGLE DECK BUS\n",
      "TEMPORARY MOBILE LIBRARY SERVICE\n",
      "CULTURE NIGHT PRODUCTION VEHICLES\n",
      "HOGGIE\n",
      "VEHICLES FOR EVENTS WORKS\n",
      "MOBILE UNIT INFORMATION\n",
      "PARKING LIBRARY BUS AND ASSOCIATED VEHICLES AS PART OF THE CHINESE NEW YEAR CARNIVAL EVENT\n",
      "COMMERCIAL\n",
      "GUINNESS 250 EVENT\n",
      "TO PARK THE FESTIVAL OF CHARIOTS CARTS\n",
      "ARTHURS DAY PRODUCTION VEHICLES\n",
      "PARKING OF CARS\n",
      "INFORMATION MOBILE UNIT\n",
      "DE-RIG EVENT\n",
      "MINISTER/TANAISTE MARY COUGHLAN\n",
      "PHOTOSHOOT FOR CLIENT\n",
      "INSTALLING KITCHEN\n",
      "AUDIENCE PICK-UP/ VEHICLES FROM THE SHOW WILL ALSO BE PARKED HERE DURING THE DAY\n",
      "TO SERVICE CHRIST CHURCH LOCATION AS AN OVERSPILL ZONE FOR BUSES , TRUCKS AND VANS.\n",
      "PARKING FOR CATERERS FOR RECEPTION IN CITY HALL\n",
      "PARKING OF CAMERA TRUCK\n",
      "ST. PATRICK'S FESTIVAL LAUNCH\n",
      "CAMPAIGN LAUNCH\n",
      "VIDEO ILLUMINATION OF CHURCH AS PART OF CULTURE NIGHT\n",
      "TO PARK TARMAC TRUCK\n",
      "PROMOTION\n",
      "ROADHOG (THIS PERMIT BEGINS AT 10.00AM AND EXPIRES AT 16.00PM)\n",
      "ENTRANCE/EGRESS FOR CONCERT\n",
      "HOUSEHOLD RELOCATION\n",
      "MOBILE SKILLS UNIT VAN (TRAINING PURPOSE)\n",
      "PARKING FOR ESB VANS DURING STATION UPRATING\n",
      "ALLOW TRUCKS TO PARK BESIDE OIL TANKER WHICH IS TO BE DRAINED AND CLEANED\n",
      "RECORD STORE DAY\n",
      "IFTA AWARDS\n",
      "COACH\n",
      "IN ORDER TO PARK 4 TOILET FACILITY FOR AN EVENT IN FITZWILLIAM SQUARE\n",
      "DUBLIN CITY COUNCIL LEARNING BUS\n",
      "GENERATOR TRUCK\n",
      "A TRAILER WITH A SCREEN\n",
      "KEEP ENTRANCE CLEAR\n",
      "MOBILE UNIT - D.N.W. INFORMATION SERVICES\n",
      "TO REMOVE MACHINERY\n",
      "TO WORK EITHER SIDE OF SKIP\n",
      "LAUNCH OF LUAS B1 LINE\n",
      "RUGBY FAN ZONE\n",
      "FASHION EVENT\n",
      "A MOBILE TOILET\n",
      "METRO NORTH GEOTECHNICAL INVESTIGATIONS\n",
      "3NO METRO NORTH BOREHOLES\n",
      "CREATING 1970'S STREET SCENE\n",
      "SCREEN ON TRAILER\n",
      "SECURITY PARKING FOR MINISTER OF HEALTH MARY HARNEY\n",
      "PROPS FOR PHOTOCALL IN IVEAGH GARDENS\n",
      "DOMESTIC\n",
      "PROMOTIONAL ACTIVITY\n",
      "EASE OF ACCESS TO TASTE OF IRELAND\n",
      "FM104 TRUCK\n",
      "PUBLIC KIOSK\n",
      "MOBLIE INFORMATION UNIT\n",
      "EXHIBITION TRUCK\n",
      "GENERATOR PARKING FOR EXTRA PARKING IN THE ACADEMY\n",
      "UPLINK VAN FOR ACADEMY MUSIC VENUE\n",
      "OBU AND 3 JEEPS\n",
      "PARKING HOIST - DECORATING 84 MERRION SQUARE\n",
      "RELIGIOUS EVENT\n",
      "WEDDING\n",
      "BLOOD DONATION CLINIC\n",
      "RELIGIOUS GATHERING\n",
      "TRUCK PARKING\n",
      "ATM SWAPOUT\n",
      "INFORMATION UNIT\n",
      "3801\n",
      "OBU & 3 JEEPS\n",
      "CONTAINER TO FACILITATE FESTIVAL\n",
      "EMERGENCY (WATERWORKS)\n",
      "THE PARKING OF THE 'ROADHOG'\n",
      "TO FACILATE ROADHOG\n",
      "BORD GAS WORKS\n",
      "(OUTSIDE PADDY CULLENS)\n",
      "WKD DOUBLE DECKER BUS\n",
      "PARKING OF A CHERRY-PICKER\n",
      "NAN\n",
      "FACILITATE TRAFFIC MOVEMENT\n",
      "PLACING OF HOIST\n",
      "PARKING DURING AN EXHIBITION AT ORMOND QUAY\n",
      "MARKETING PURPOSES / PARKING OF THE WKD BUS\n",
      "THE PLACING OF A HOIST\n",
      "SHOWCASING OF 5 AXLE HGV\n",
      "PART OF ARTS PROGRAMME\n",
      "ROADHOG(OUTSIDE DANDELOIN)\n",
      "PARKING OF TRUCK\n",
      "PROMTIONAL VEHICLES\n",
      "INFORMATION VEHICLE\n",
      "PARKING DRESSING ROOM VEHICLES\n",
      "TEST  DRIVE PROMOTION\n",
      "ROAD CASTER\n",
      "TO ALLOW FREE FLOW OF TRAFFIC\n",
      "PARKING CATERING VEHICLE\n",
      "DAFFODIL DAY\n",
      "RELOCATION FROM WINDSOR PLACE TO BAGGOT STREET\n",
      "IRELAND  AMERICAN FUND\n",
      "PARKING OF ROADHOG\n",
      "HORSE BOX & TRAILER\n",
      "EVENT ORGANISER AND PAVAN TRAILER\n",
      "PARKING OF LIGHTING GENERATOR\n",
      "PUBLIC SAFETY AT CONCERT\n",
      "TO ALLOW TRAFFIC TO FLOW\n",
      "TO ALLOW TO FLOW FREELY\n",
      "ESSENTIALS FOR MARKET\n",
      "PHOTOCALL WITH MINISTER DICK ROCHE\n",
      "PROMOTIONAL VEHICLE\n",
      "TREE WORKS\n",
      "98FM MOBILE RADIO STUDIO\n",
      "ACCESS FOR CROWD CONTROL/ PORTOCABIN\n",
      "ACCESS TO PARADE/CONCERT\n",
      "MOBILE INFORMATION  UNIT\n",
      "MOBILE INFORMATION UNIT\n",
      "MARKET TRADERS  PARKING\n",
      "MARKET TRADERS PARKING\n",
      "CARPET-FITTING\n",
      "EVENT PRODUCTION\n",
      "PARKING FOR RELOCATION\n",
      "PHOTO SHOOT\n",
      " TRAFFIC TO FLOW FREELY\n",
      "SHOWCASING OF CONCEPT 5 AXLE HGV\n",
      "RELOCATION RE: METRO NORTH PROJECT\n",
      "PROMOTIONAL VEHICLES\n",
      "SHOP FITTING\n",
      "ENABLE LARGE VEHICLES TO MANOEUVRE\n",
      "CIVIL CONTRACTOR\n",
      "ART EXHIBITION\n",
      "TRAFFIC TO FLOW FREELY\n",
      "TRANSFER OF DELEGATES TO CONFERENCE IN KILKENNY\n",
      "EVENT AT DYLAN HOTEL\n",
      "FESTIVAL OF LIGHTS\n",
      "TRAFFIC FLOW\n",
      "PARKING OF VAN\n",
      "PARKING OF ROADCASTER\n",
      "FESTIVAL OF YOUTH ORCHESTRAS AT CONCERT HALL\n",
      "ROADCASTER\n",
      "LAUNCH OF NATIONAL PENSIONS CAMPAIGN\n",
      "SHOWCASING OF 'CONCEPT' 5 AXLE HGV\n",
      "PARK NATIONAL SURGICAL TRAINING UNIT\n",
      "WEDDING EVENT CAR\n",
      "RESCUE VANS\n",
      "AUDIENCE EGRESS FROM CONCERTS\n",
      "SERVICE PROMOTION\n",
      "CORPORATE BUS PARKING\n",
      "98FM BUS FOR MAYO ALIVE FESTIVAL\n"
     ]
    }
   ],
   "source": [
    "# Iterate over the unique values in the 'purpose' column and print each value\n",
    "unique_values = df['purpose'].value_counts()\n",
    "for index in unique_values.index:\n",
    "    print(index)"
   ]
  },
  {
   "cell_type": "markdown",
   "id": "9d35636d",
   "metadata": {},
   "source": [
    "The output from the previous cell indicates that the primary five purpose values have been successfully grouped. However, there are additional values that do not align with any of the primary categories. These will be categorized as \"others,\" which are associated with celebrations, roadhog removal, carnivals, charitable activities, and displays."
   ]
  },
  {
   "cell_type": "code",
   "execution_count": 79,
   "id": "90812f56",
   "metadata": {},
   "outputs": [
    {
     "data": {
      "text/plain": [
       "purpose\n",
       "filming                  733\n",
       "others                   362\n",
       "broadcasting units       236\n",
       "loading and unloading    220\n",
       "building work            120\n",
       "office relocation         71\n",
       "Name: count, dtype: int64"
      ]
     },
     "execution_count": 79,
     "metadata": {},
     "output_type": "execute_result"
    }
   ],
   "source": [
    "# Define a function to categorize values in the 'purpose' column\n",
    "def replace_to_others(val):\n",
    "    if val == 'filming':\n",
    "        return val\n",
    "    elif val == 'broadcasting units':\n",
    "        return val\n",
    "    elif val == 'loading and unloading':\n",
    "        return val\n",
    "    elif val == 'building work':\n",
    "        return val\n",
    "    elif val == 'office relocation':\n",
    "        return val\n",
    "    else:\n",
    "        return 'others'\n",
    "    \n",
    "# Apply the function to the 'purpose' column to categorize values\n",
    "df['purpose'] = df['purpose'].apply(replace_to_others)\n",
    "df['purpose'].value_counts()"
   ]
  },
  {
   "cell_type": "code",
   "execution_count": 80,
   "id": "c920e0ac",
   "metadata": {},
   "outputs": [
    {
     "data": {
      "text/plain": [
       "0"
      ]
     },
     "execution_count": 80,
     "metadata": {},
     "output_type": "execute_result"
    }
   ],
   "source": [
    "# Count the number of missing values in the 'purpose' column\n",
    "df['purpose'].isnull().sum()"
   ]
  },
  {
   "cell_type": "markdown",
   "id": "3e1224ad",
   "metadata": {},
   "source": [
    "#### 'date'\n",
    "\n",
    "In the future, only the years from this column will be used for analysis. The column will be renamed to \"year,\" and the months and days will be removed from the values."
   ]
  },
  {
   "cell_type": "code",
   "execution_count": 81,
   "id": "5d9404ac",
   "metadata": {},
   "outputs": [],
   "source": [
    "# Rename the 'date' column to 'year'\n",
    "df = df.rename(columns={'date' : 'year'})\n",
    "# Extract the year component from the 'year' column\n",
    "df['year'] = df['year'].dt.year"
   ]
  },
  {
   "cell_type": "code",
   "execution_count": 82,
   "id": "48cabf75",
   "metadata": {},
   "outputs": [
    {
     "data": {
      "text/plain": [
       "year\n",
       "2006    516\n",
       "2007    367\n",
       "2008    336\n",
       "2009    224\n",
       "2010    213\n",
       "2011     85\n",
       "2026      1\n",
       "Name: count, dtype: int64"
      ]
     },
     "execution_count": 82,
     "metadata": {},
     "output_type": "execute_result"
    }
   ],
   "source": [
    "# Count the occurrences of each unique year in the 'year' column\n",
    "df['year'].value_counts()"
   ]
  },
  {
   "cell_type": "markdown",
   "id": "f63490e5",
   "metadata": {},
   "source": [
    "It looks like the column contains a faulty value."
   ]
  },
  {
   "cell_type": "code",
   "execution_count": 83,
   "id": "4542a733",
   "metadata": {},
   "outputs": [
    {
     "data": {
      "text/html": [
       "<div>\n",
       "<style scoped>\n",
       "    .dataframe tbody tr th:only-of-type {\n",
       "        vertical-align: middle;\n",
       "    }\n",
       "\n",
       "    .dataframe tbody tr th {\n",
       "        vertical-align: top;\n",
       "    }\n",
       "\n",
       "    .dataframe thead th {\n",
       "        text-align: right;\n",
       "    }\n",
       "</style>\n",
       "<table border=\"1\" class=\"dataframe\">\n",
       "  <thead>\n",
       "    <tr style=\"text-align: right;\">\n",
       "      <th></th>\n",
       "      <th>location_of_spaces</th>\n",
       "      <th>str_class</th>\n",
       "      <th>purpose</th>\n",
       "      <th>year</th>\n",
       "      <th>date_suspended</th>\n",
       "      <th>date_expired</th>\n",
       "      <th>duration</th>\n",
       "      <th>no_of_spaces</th>\n",
       "      <th>amount_paid</th>\n",
       "    </tr>\n",
       "  </thead>\n",
       "  <tbody>\n",
       "    <tr>\n",
       "      <th>203</th>\n",
       "      <td>argyle road</td>\n",
       "      <td>6.0</td>\n",
       "      <td>building work</td>\n",
       "      <td>2026</td>\n",
       "      <td>2026-06-07</td>\n",
       "      <td>2026-07-23</td>\n",
       "      <td>46</td>\n",
       "      <td>1.0</td>\n",
       "      <td>1400.0</td>\n",
       "    </tr>\n",
       "  </tbody>\n",
       "</table>\n",
       "</div>"
      ],
      "text/plain": [
       "    location_of_spaces  str_class        purpose  year date_suspended  \\\n",
       "203        argyle road        6.0  building work  2026     2026-06-07   \n",
       "\n",
       "    date_expired  duration  no_of_spaces  amount_paid  \n",
       "203   2026-07-23        46           1.0       1400.0  "
      ]
     },
     "execution_count": 83,
     "metadata": {},
     "output_type": "execute_result"
    }
   ],
   "source": [
    "# Filter rows where the 'year' column equals 2026\n",
    "df.loc[(df['year'] == 2026)] "
   ]
  },
  {
   "cell_type": "markdown",
   "id": "99ae957d",
   "metadata": {},
   "source": [
    "One more input error. It has to be 2006 because the first 517 rows are values associated with the year 2006."
   ]
  },
  {
   "cell_type": "code",
   "execution_count": 84,
   "id": "a39cf467",
   "metadata": {},
   "outputs": [
    {
     "data": {
      "text/plain": [
       "year\n",
       "2006    517\n",
       "2007    367\n",
       "2008    336\n",
       "2009    224\n",
       "2010    213\n",
       "2011     85\n",
       "Name: count, dtype: int64"
      ]
     },
     "execution_count": 84,
     "metadata": {},
     "output_type": "execute_result"
    }
   ],
   "source": [
    "# Modify values for index 203: set 'year' to 2006 and 'date_suspended' to June 7, 2006\n",
    "df.loc[203, 'year'] = 2006\n",
    "df.loc[203, 'date_suspended'] = pd.to_datetime('2006-06-07')\n",
    "\n",
    "df['year'].value_counts()"
   ]
  },
  {
   "cell_type": "markdown",
   "id": "c34eb40f",
   "metadata": {},
   "source": [
    "Only 85 values are available for the year 2011. The year will be examined to understand why it contains such a small number of entries."
   ]
  },
  {
   "cell_type": "code",
   "execution_count": 85,
   "id": "901ccfa7",
   "metadata": {},
   "outputs": [
    {
     "data": {
      "text/html": [
       "<div>\n",
       "<style scoped>\n",
       "    .dataframe tbody tr th:only-of-type {\n",
       "        vertical-align: middle;\n",
       "    }\n",
       "\n",
       "    .dataframe tbody tr th {\n",
       "        vertical-align: top;\n",
       "    }\n",
       "\n",
       "    .dataframe thead th {\n",
       "        text-align: right;\n",
       "    }\n",
       "</style>\n",
       "<table border=\"1\" class=\"dataframe\">\n",
       "  <thead>\n",
       "    <tr style=\"text-align: right;\">\n",
       "      <th></th>\n",
       "      <th>location_of_spaces</th>\n",
       "      <th>str_class</th>\n",
       "      <th>purpose</th>\n",
       "      <th>year</th>\n",
       "      <th>date_suspended</th>\n",
       "      <th>date_expired</th>\n",
       "      <th>duration</th>\n",
       "      <th>no_of_spaces</th>\n",
       "      <th>amount_paid</th>\n",
       "    </tr>\n",
       "  </thead>\n",
       "  <tbody>\n",
       "    <tr>\n",
       "      <th>1657</th>\n",
       "      <td>temple street</td>\n",
       "      <td>4.0</td>\n",
       "      <td>broadcasting units</td>\n",
       "      <td>2011</td>\n",
       "      <td>2011-01-12</td>\n",
       "      <td>2011-01-12</td>\n",
       "      <td>1</td>\n",
       "      <td>7.0</td>\n",
       "      <td>287.0</td>\n",
       "    </tr>\n",
       "    <tr>\n",
       "      <th>1658</th>\n",
       "      <td>temple street</td>\n",
       "      <td>4.0</td>\n",
       "      <td>broadcasting units</td>\n",
       "      <td>2011</td>\n",
       "      <td>2011-01-19</td>\n",
       "      <td>2011-01-19</td>\n",
       "      <td>1</td>\n",
       "      <td>7.0</td>\n",
       "      <td>287.0</td>\n",
       "    </tr>\n",
       "    <tr>\n",
       "      <th>1659</th>\n",
       "      <td>castle street</td>\n",
       "      <td>3.0</td>\n",
       "      <td>filming</td>\n",
       "      <td>2011</td>\n",
       "      <td>2011-01-11</td>\n",
       "      <td>2011-01-11</td>\n",
       "      <td>1</td>\n",
       "      <td>5.0</td>\n",
       "      <td>100.0</td>\n",
       "    </tr>\n",
       "    <tr>\n",
       "      <th>1660</th>\n",
       "      <td>hatch street</td>\n",
       "      <td>2.0</td>\n",
       "      <td>filming</td>\n",
       "      <td>2011</td>\n",
       "      <td>2011-01-12</td>\n",
       "      <td>2011-01-12</td>\n",
       "      <td>1</td>\n",
       "      <td>5.0</td>\n",
       "      <td>100.0</td>\n",
       "    </tr>\n",
       "    <tr>\n",
       "      <th>1661</th>\n",
       "      <td>clonmel street</td>\n",
       "      <td>5.0</td>\n",
       "      <td>filming</td>\n",
       "      <td>2011</td>\n",
       "      <td>2011-01-11</td>\n",
       "      <td>2011-01-11</td>\n",
       "      <td>1</td>\n",
       "      <td>5.0</td>\n",
       "      <td>100.0</td>\n",
       "    </tr>\n",
       "    <tr>\n",
       "      <th>...</th>\n",
       "      <td>...</td>\n",
       "      <td>...</td>\n",
       "      <td>...</td>\n",
       "      <td>...</td>\n",
       "      <td>...</td>\n",
       "      <td>...</td>\n",
       "      <td>...</td>\n",
       "      <td>...</td>\n",
       "      <td>...</td>\n",
       "    </tr>\n",
       "    <tr>\n",
       "      <th>1737</th>\n",
       "      <td>ballsbridge avenue</td>\n",
       "      <td>6.0</td>\n",
       "      <td>loading and unloading</td>\n",
       "      <td>2011</td>\n",
       "      <td>2012-02-25</td>\n",
       "      <td>2012-02-25</td>\n",
       "      <td>1</td>\n",
       "      <td>2.0</td>\n",
       "      <td>82.0</td>\n",
       "    </tr>\n",
       "    <tr>\n",
       "      <th>1738</th>\n",
       "      <td>merrion road</td>\n",
       "      <td>2.0</td>\n",
       "      <td>others</td>\n",
       "      <td>2011</td>\n",
       "      <td>2012-03-10</td>\n",
       "      <td>2012-03-10</td>\n",
       "      <td>1</td>\n",
       "      <td>6.0</td>\n",
       "      <td>246.0</td>\n",
       "    </tr>\n",
       "    <tr>\n",
       "      <th>1739</th>\n",
       "      <td>ballsbridge avenue</td>\n",
       "      <td>6.0</td>\n",
       "      <td>loading and unloading</td>\n",
       "      <td>2011</td>\n",
       "      <td>2012-03-10</td>\n",
       "      <td>2012-03-10</td>\n",
       "      <td>1</td>\n",
       "      <td>2.0</td>\n",
       "      <td>82.0</td>\n",
       "    </tr>\n",
       "    <tr>\n",
       "      <th>1740</th>\n",
       "      <td>fairview</td>\n",
       "      <td>5.0</td>\n",
       "      <td>others</td>\n",
       "      <td>2011</td>\n",
       "      <td>2011-07-26</td>\n",
       "      <td>2011-07-26</td>\n",
       "      <td>1</td>\n",
       "      <td>6.0</td>\n",
       "      <td>114.0</td>\n",
       "    </tr>\n",
       "    <tr>\n",
       "      <th>1741</th>\n",
       "      <td>marlborough street</td>\n",
       "      <td>4.0</td>\n",
       "      <td>building work</td>\n",
       "      <td>2011</td>\n",
       "      <td>2011-06-28</td>\n",
       "      <td>2011-07-01</td>\n",
       "      <td>4</td>\n",
       "      <td>1.0</td>\n",
       "      <td>200.0</td>\n",
       "    </tr>\n",
       "  </tbody>\n",
       "</table>\n",
       "<p>85 rows × 9 columns</p>\n",
       "</div>"
      ],
      "text/plain": [
       "      location_of_spaces  str_class                purpose  year  \\\n",
       "1657       temple street        4.0     broadcasting units  2011   \n",
       "1658       temple street        4.0     broadcasting units  2011   \n",
       "1659       castle street        3.0                filming  2011   \n",
       "1660        hatch street        2.0                filming  2011   \n",
       "1661      clonmel street        5.0                filming  2011   \n",
       "...                  ...        ...                    ...   ...   \n",
       "1737  ballsbridge avenue        6.0  loading and unloading  2011   \n",
       "1738        merrion road        2.0                 others  2011   \n",
       "1739  ballsbridge avenue        6.0  loading and unloading  2011   \n",
       "1740            fairview        5.0                 others  2011   \n",
       "1741  marlborough street        4.0          building work  2011   \n",
       "\n",
       "     date_suspended date_expired  duration  no_of_spaces  amount_paid  \n",
       "1657     2011-01-12   2011-01-12         1           7.0        287.0  \n",
       "1658     2011-01-19   2011-01-19         1           7.0        287.0  \n",
       "1659     2011-01-11   2011-01-11         1           5.0        100.0  \n",
       "1660     2011-01-12   2011-01-12         1           5.0        100.0  \n",
       "1661     2011-01-11   2011-01-11         1           5.0        100.0  \n",
       "...             ...          ...       ...           ...          ...  \n",
       "1737     2012-02-25   2012-02-25         1           2.0         82.0  \n",
       "1738     2012-03-10   2012-03-10         1           6.0        246.0  \n",
       "1739     2012-03-10   2012-03-10         1           2.0         82.0  \n",
       "1740     2011-07-26   2011-07-26         1           6.0        114.0  \n",
       "1741     2011-06-28   2011-07-01         4           1.0        200.0  \n",
       "\n",
       "[85 rows x 9 columns]"
      ]
     },
     "execution_count": 85,
     "metadata": {},
     "output_type": "execute_result"
    }
   ],
   "source": [
    "# Create a copy of rows where the 'year' column equals 2011\n",
    "rows_of2011 = df.loc[(df['year']) == 2011].copy()\n",
    "\n",
    "rows_of2011"
   ]
  },
  {
   "cell_type": "code",
   "execution_count": 86,
   "id": "76131937",
   "metadata": {},
   "outputs": [
    {
     "data": {
      "text/plain": [
       "date_suspended\n",
       "201104    17\n",
       "201105    14\n",
       "201103    13\n",
       "201106    11\n",
       "201101    10\n",
       "201102     9\n",
       "201108     4\n",
       "201202     4\n",
       "201203     2\n",
       "201107     1\n",
       "Name: count, dtype: int64"
      ]
     },
     "execution_count": 86,
     "metadata": {},
     "output_type": "execute_result"
    }
   ],
   "source": [
    "# Convert each date in the 'date_suspended' column to a numeric representation of year and month combined\n",
    "rows_of2011['date_suspended'] = rows_of2011['date_suspended'].map(lambda x: 100*x.year + x.month)\n",
    "rows_of2011['date_suspended'].value_counts()"
   ]
  },
  {
   "cell_type": "markdown",
   "id": "bd890076",
   "metadata": {},
   "source": [
    "The results from the previous cell show that the entries for the year 2011 are limited to January through August, indicating incomplete data for that year in the primary DataFrame. Similarly, the year 2012 contains only 6 entries. Based on this, rows with data from the years 2011 and 2012 will be removed."
   ]
  },
  {
   "cell_type": "code",
   "execution_count": 87,
   "id": "940cbd23",
   "metadata": {},
   "outputs": [
    {
     "data": {
      "text/plain": [
       "year\n",
       "2006    517\n",
       "2007    367\n",
       "2008    336\n",
       "2009    224\n",
       "2010    213\n",
       "Name: count, dtype: int64"
      ]
     },
     "execution_count": 87,
     "metadata": {},
     "output_type": "execute_result"
    }
   ],
   "source": [
    "# Create a copy of the DataFrame excluding rows where the 'year' column equals 2011\n",
    "df = df.loc[(df['year']) != 2011].copy()\n",
    "df['year'].value_counts()"
   ]
  },
  {
   "cell_type": "code",
   "execution_count": 88,
   "id": "7cd1a8b3",
   "metadata": {},
   "outputs": [],
   "source": [
    "# Convert the 'year' column to integer data type\n",
    "df['year'] = df['year'].astype(int)"
   ]
  },
  {
   "cell_type": "markdown",
   "id": "bddadf20",
   "metadata": {},
   "source": [
    "#### `date_suspended`"
   ]
  },
  {
   "cell_type": "markdown",
   "id": "a4efa7e0",
   "metadata": {},
   "source": [
    "Input errors in the \"date suspended\" column will be checked. Since days and months were already verified during the handling of the \"duration\" column, any errors should only be related to the year. A new DataFrame will be created, and the 'map()' method will be used with 'lambda' to extract only the year value from the data."
   ]
  },
  {
   "cell_type": "code",
   "execution_count": 89,
   "id": "ba2e57d6",
   "metadata": {},
   "outputs": [
    {
     "data": {
      "text/plain": [
       "date_suspended\n",
       "2006    510\n",
       "2007    367\n",
       "2008    344\n",
       "2009    222\n",
       "2010    211\n",
       "2005      1\n",
       "2001      1\n",
       "2011      1\n",
       "Name: count, dtype: int64"
      ]
     },
     "execution_count": 89,
     "metadata": {},
     "output_type": "execute_result"
    }
   ],
   "source": [
    "# Extract the year component from the 'date_suspended' column and count occurrences of each unique year\n",
    "check_date = df.copy()\n",
    "check_date['date_suspended'] = check_date['date_suspended'].map(lambda x: x.year)\n",
    "check_date['date_suspended'].value_counts()"
   ]
  },
  {
   "cell_type": "markdown",
   "id": "cbaff397",
   "metadata": {},
   "source": [
    "Three distinct year values are shown, each with a count of one. These could be errors or valid entries. The entire rows in the main DataFrame will be examined to verify their accuracy. If any incorrect data is found, it will be replaced with the correct value."
   ]
  },
  {
   "cell_type": "code",
   "execution_count": 90,
   "id": "2473535a",
   "metadata": {
    "scrolled": true
   },
   "outputs": [
    {
     "data": {
      "text/html": [
       "<div>\n",
       "<style scoped>\n",
       "    .dataframe tbody tr th:only-of-type {\n",
       "        vertical-align: middle;\n",
       "    }\n",
       "\n",
       "    .dataframe tbody tr th {\n",
       "        vertical-align: top;\n",
       "    }\n",
       "\n",
       "    .dataframe thead th {\n",
       "        text-align: right;\n",
       "    }\n",
       "</style>\n",
       "<table border=\"1\" class=\"dataframe\">\n",
       "  <thead>\n",
       "    <tr style=\"text-align: right;\">\n",
       "      <th></th>\n",
       "      <th>location_of_spaces</th>\n",
       "      <th>str_class</th>\n",
       "      <th>purpose</th>\n",
       "      <th>year</th>\n",
       "      <th>date_suspended</th>\n",
       "      <th>date_expired</th>\n",
       "      <th>duration</th>\n",
       "      <th>no_of_spaces</th>\n",
       "      <th>amount_paid</th>\n",
       "    </tr>\n",
       "  </thead>\n",
       "  <tbody>\n",
       "    <tr>\n",
       "      <th>6</th>\n",
       "      <td>townsend street</td>\n",
       "      <td>2.0</td>\n",
       "      <td>loading and unloading</td>\n",
       "      <td>2006</td>\n",
       "      <td>2005</td>\n",
       "      <td>2006-01-13</td>\n",
       "      <td>5</td>\n",
       "      <td>2.0</td>\n",
       "      <td>456.0</td>\n",
       "    </tr>\n",
       "  </tbody>\n",
       "</table>\n",
       "</div>"
      ],
      "text/plain": [
       "  location_of_spaces  str_class                purpose  year  date_suspended  \\\n",
       "6    townsend street        2.0  loading and unloading  2006            2005   \n",
       "\n",
       "  date_expired  duration  no_of_spaces  amount_paid  \n",
       "6   2006-01-13         5           2.0        456.0  "
      ]
     },
     "execution_count": 90,
     "metadata": {},
     "output_type": "execute_result"
    }
   ],
   "source": [
    "# Filter rows where the 'date_suspended' column equals 2005\n",
    "check_date.loc[(check_date['date_suspended']) == 2005]"
   ]
  },
  {
   "cell_type": "code",
   "execution_count": 91,
   "id": "f3ee016c",
   "metadata": {},
   "outputs": [
    {
     "data": {
      "text/html": [
       "<div>\n",
       "<style scoped>\n",
       "    .dataframe tbody tr th:only-of-type {\n",
       "        vertical-align: middle;\n",
       "    }\n",
       "\n",
       "    .dataframe tbody tr th {\n",
       "        vertical-align: top;\n",
       "    }\n",
       "\n",
       "    .dataframe thead th {\n",
       "        text-align: right;\n",
       "    }\n",
       "</style>\n",
       "<table border=\"1\" class=\"dataframe\">\n",
       "  <thead>\n",
       "    <tr style=\"text-align: right;\">\n",
       "      <th></th>\n",
       "      <th>location_of_spaces</th>\n",
       "      <th>str_class</th>\n",
       "      <th>purpose</th>\n",
       "      <th>year</th>\n",
       "      <th>date_suspended</th>\n",
       "      <th>date_expired</th>\n",
       "      <th>duration</th>\n",
       "      <th>no_of_spaces</th>\n",
       "      <th>amount_paid</th>\n",
       "    </tr>\n",
       "  </thead>\n",
       "  <tbody>\n",
       "    <tr>\n",
       "      <th>1508</th>\n",
       "      <td>creighton street</td>\n",
       "      <td>4.0</td>\n",
       "      <td>filming</td>\n",
       "      <td>2010</td>\n",
       "      <td>2001</td>\n",
       "      <td>2010-07-05</td>\n",
       "      <td>1</td>\n",
       "      <td>6.0</td>\n",
       "      <td>246.0</td>\n",
       "    </tr>\n",
       "  </tbody>\n",
       "</table>\n",
       "</div>"
      ],
      "text/plain": [
       "     location_of_spaces  str_class  purpose  year  date_suspended  \\\n",
       "1508   creighton street        4.0  filming  2010            2001   \n",
       "\n",
       "     date_expired  duration  no_of_spaces  amount_paid  \n",
       "1508   2010-07-05         1           6.0        246.0  "
      ]
     },
     "execution_count": 91,
     "metadata": {},
     "output_type": "execute_result"
    }
   ],
   "source": [
    "# Filter rows where the 'date_suspended' column equals 2001\n",
    "check_date.loc[(check_date['date_suspended']) == 2001]"
   ]
  },
  {
   "cell_type": "code",
   "execution_count": 92,
   "id": "390ba59a",
   "metadata": {},
   "outputs": [
    {
     "data": {
      "text/html": [
       "<div>\n",
       "<style scoped>\n",
       "    .dataframe tbody tr th:only-of-type {\n",
       "        vertical-align: middle;\n",
       "    }\n",
       "\n",
       "    .dataframe tbody tr th {\n",
       "        vertical-align: top;\n",
       "    }\n",
       "\n",
       "    .dataframe thead th {\n",
       "        text-align: right;\n",
       "    }\n",
       "</style>\n",
       "<table border=\"1\" class=\"dataframe\">\n",
       "  <thead>\n",
       "    <tr style=\"text-align: right;\">\n",
       "      <th></th>\n",
       "      <th>location_of_spaces</th>\n",
       "      <th>str_class</th>\n",
       "      <th>purpose</th>\n",
       "      <th>year</th>\n",
       "      <th>date_suspended</th>\n",
       "      <th>date_expired</th>\n",
       "      <th>duration</th>\n",
       "      <th>no_of_spaces</th>\n",
       "      <th>amount_paid</th>\n",
       "    </tr>\n",
       "  </thead>\n",
       "  <tbody>\n",
       "    <tr>\n",
       "      <th>6</th>\n",
       "      <td>townsend street</td>\n",
       "      <td>2.0</td>\n",
       "      <td>loading and unloading</td>\n",
       "      <td>2006</td>\n",
       "      <td>2005-01-09</td>\n",
       "      <td>2006-01-13</td>\n",
       "      <td>5</td>\n",
       "      <td>2.0</td>\n",
       "      <td>456.0</td>\n",
       "    </tr>\n",
       "    <tr>\n",
       "      <th>1508</th>\n",
       "      <td>creighton street</td>\n",
       "      <td>4.0</td>\n",
       "      <td>filming</td>\n",
       "      <td>2010</td>\n",
       "      <td>2001-07-05</td>\n",
       "      <td>2010-07-05</td>\n",
       "      <td>1</td>\n",
       "      <td>6.0</td>\n",
       "      <td>246.0</td>\n",
       "    </tr>\n",
       "  </tbody>\n",
       "</table>\n",
       "</div>"
      ],
      "text/plain": [
       "     location_of_spaces  str_class                purpose  year  \\\n",
       "6       townsend street        2.0  loading and unloading  2006   \n",
       "1508   creighton street        4.0                filming  2010   \n",
       "\n",
       "     date_suspended date_expired  duration  no_of_spaces  amount_paid  \n",
       "6        2005-01-09   2006-01-13         5           2.0        456.0  \n",
       "1508     2001-07-05   2010-07-05         1           6.0        246.0  "
      ]
     },
     "execution_count": 92,
     "metadata": {},
     "output_type": "execute_result"
    }
   ],
   "source": [
    "# Select rows with index 6 and 1508 from the DataFrame\n",
    "df.loc[(6, 1508), :]"
   ]
  },
  {
   "cell_type": "markdown",
   "id": "4a5895c6",
   "metadata": {},
   "source": [
    "The input has been identified as incorrect and will be replaced with the correct value."
   ]
  },
  {
   "cell_type": "code",
   "execution_count": 93,
   "id": "2ece3410",
   "metadata": {},
   "outputs": [],
   "source": [
    "# Assign specific dates to the 'date_suspended' column for rows with index 6 and 1508\n",
    "df.loc[6, 'date_suspended'] = '2006-01-09' \n",
    "df.loc[1508, 'date_suspended'] = '2010-07-05'\n",
    "\n",
    "# Convert the 'date_suspended' column to datetime format\n",
    "df['date_suspended'] = pd.to_datetime(df['date_suspended'])"
   ]
  },
  {
   "cell_type": "markdown",
   "id": "777ccaf4",
   "metadata": {},
   "source": [
    "The values are now correct and complete. The next step is to classify the values by the day of the week. This will enable future analysis of which day the government receives more earnings from the parking bays."
   ]
  },
  {
   "cell_type": "code",
   "execution_count": 94,
   "id": "75530458",
   "metadata": {},
   "outputs": [
    {
     "data": {
      "text/html": [
       "<div>\n",
       "<style scoped>\n",
       "    .dataframe tbody tr th:only-of-type {\n",
       "        vertical-align: middle;\n",
       "    }\n",
       "\n",
       "    .dataframe tbody tr th {\n",
       "        vertical-align: top;\n",
       "    }\n",
       "\n",
       "    .dataframe thead th {\n",
       "        text-align: right;\n",
       "    }\n",
       "</style>\n",
       "<table border=\"1\" class=\"dataframe\">\n",
       "  <thead>\n",
       "    <tr style=\"text-align: right;\">\n",
       "      <th></th>\n",
       "      <th>location_of_spaces</th>\n",
       "      <th>str_class</th>\n",
       "      <th>purpose</th>\n",
       "      <th>year</th>\n",
       "      <th>date_suspended</th>\n",
       "      <th>date_expired</th>\n",
       "      <th>duration</th>\n",
       "      <th>no_of_spaces</th>\n",
       "      <th>amount_paid</th>\n",
       "      <th>day</th>\n",
       "    </tr>\n",
       "  </thead>\n",
       "  <tbody>\n",
       "    <tr>\n",
       "      <th>0</th>\n",
       "      <td>commons street</td>\n",
       "      <td>4.0</td>\n",
       "      <td>others</td>\n",
       "      <td>2006</td>\n",
       "      <td>2006-01-23</td>\n",
       "      <td>2006-01-23</td>\n",
       "      <td>1</td>\n",
       "      <td>5.0</td>\n",
       "      <td>152.0</td>\n",
       "      <td>0</td>\n",
       "    </tr>\n",
       "    <tr>\n",
       "      <th>1</th>\n",
       "      <td>saint stephens green east</td>\n",
       "      <td>1.0</td>\n",
       "      <td>loading and unloading</td>\n",
       "      <td>2006</td>\n",
       "      <td>2006-06-22</td>\n",
       "      <td>2006-06-22</td>\n",
       "      <td>1</td>\n",
       "      <td>3.0</td>\n",
       "      <td>114.0</td>\n",
       "      <td>3</td>\n",
       "    </tr>\n",
       "    <tr>\n",
       "      <th>2</th>\n",
       "      <td>saint stephens green east</td>\n",
       "      <td>1.0</td>\n",
       "      <td>filming</td>\n",
       "      <td>2006</td>\n",
       "      <td>2006-01-09</td>\n",
       "      <td>2006-01-09</td>\n",
       "      <td>1</td>\n",
       "      <td>4.0</td>\n",
       "      <td>152.0</td>\n",
       "      <td>0</td>\n",
       "    </tr>\n",
       "    <tr>\n",
       "      <th>3</th>\n",
       "      <td>saint stephens green east</td>\n",
       "      <td>1.0</td>\n",
       "      <td>others</td>\n",
       "      <td>2006</td>\n",
       "      <td>2006-01-09</td>\n",
       "      <td>2006-01-09</td>\n",
       "      <td>1</td>\n",
       "      <td>4.0</td>\n",
       "      <td>152.0</td>\n",
       "      <td>0</td>\n",
       "    </tr>\n",
       "    <tr>\n",
       "      <th>4</th>\n",
       "      <td>molesworth street</td>\n",
       "      <td>4.0</td>\n",
       "      <td>filming</td>\n",
       "      <td>2006</td>\n",
       "      <td>2006-01-09</td>\n",
       "      <td>2006-01-09</td>\n",
       "      <td>1</td>\n",
       "      <td>12.0</td>\n",
       "      <td>152.0</td>\n",
       "      <td>0</td>\n",
       "    </tr>\n",
       "  </tbody>\n",
       "</table>\n",
       "</div>"
      ],
      "text/plain": [
       "          location_of_spaces  str_class                purpose  year  \\\n",
       "0             commons street        4.0                 others  2006   \n",
       "1  saint stephens green east        1.0  loading and unloading  2006   \n",
       "2  saint stephens green east        1.0                filming  2006   \n",
       "3  saint stephens green east        1.0                 others  2006   \n",
       "4          molesworth street        4.0                filming  2006   \n",
       "\n",
       "  date_suspended date_expired  duration  no_of_spaces  amount_paid  day  \n",
       "0     2006-01-23   2006-01-23         1           5.0        152.0    0  \n",
       "1     2006-06-22   2006-06-22         1           3.0        114.0    3  \n",
       "2     2006-01-09   2006-01-09         1           4.0        152.0    0  \n",
       "3     2006-01-09   2006-01-09         1           4.0        152.0    0  \n",
       "4     2006-01-09   2006-01-09         1          12.0        152.0    0  "
      ]
     },
     "execution_count": 94,
     "metadata": {},
     "output_type": "execute_result"
    }
   ],
   "source": [
    "# Create a new column 'day' and map the weekday of 'date_suspended' to each row\n",
    "df['day'] = df['date_suspended']\n",
    "df['day'] = df['date_suspended'].map(lambda x: x.weekday())\n",
    "df.head()"
   ]
  },
  {
   "cell_type": "markdown",
   "id": "fbb1e79a",
   "metadata": {},
   "source": [
    "### 2.5.  Final adjustments to the columns."
   ]
  },
  {
   "cell_type": "markdown",
   "id": "e7a7b1c0",
   "metadata": {},
   "source": [
    "The values in the columns are now organized and prepared for analysis. However, before proceeding, columns that will not be used in future analyses will be removed. The \"date_expired\" column is being dropped as a new \"duration\" column has already been added. The duration allows for the calculation of the expiration date if needed. The \"location_of_spaces\" column is also being removed since its values were already used to extract data for the \"str_class\" column, and more generalized information will be utilized moving forward. Apologies if this choice is incorrect."
   ]
  },
  {
   "cell_type": "code",
   "execution_count": 95,
   "id": "9a0c15c3",
   "metadata": {},
   "outputs": [
    {
     "data": {
      "text/html": [
       "<div>\n",
       "<style scoped>\n",
       "    .dataframe tbody tr th:only-of-type {\n",
       "        vertical-align: middle;\n",
       "    }\n",
       "\n",
       "    .dataframe tbody tr th {\n",
       "        vertical-align: top;\n",
       "    }\n",
       "\n",
       "    .dataframe thead th {\n",
       "        text-align: right;\n",
       "    }\n",
       "</style>\n",
       "<table border=\"1\" class=\"dataframe\">\n",
       "  <thead>\n",
       "    <tr style=\"text-align: right;\">\n",
       "      <th></th>\n",
       "      <th>location_of_spaces</th>\n",
       "      <th>str_class</th>\n",
       "      <th>purpose</th>\n",
       "      <th>year</th>\n",
       "      <th>date_suspended</th>\n",
       "      <th>date_expired</th>\n",
       "      <th>duration</th>\n",
       "      <th>no_of_spaces</th>\n",
       "      <th>amount_paid</th>\n",
       "      <th>day</th>\n",
       "    </tr>\n",
       "  </thead>\n",
       "  <tbody>\n",
       "    <tr>\n",
       "      <th>0</th>\n",
       "      <td>commons street</td>\n",
       "      <td>4.0</td>\n",
       "      <td>others</td>\n",
       "      <td>2006</td>\n",
       "      <td>2006-01-23</td>\n",
       "      <td>2006-01-23</td>\n",
       "      <td>1</td>\n",
       "      <td>5.0</td>\n",
       "      <td>152.0</td>\n",
       "      <td>0</td>\n",
       "    </tr>\n",
       "    <tr>\n",
       "      <th>1</th>\n",
       "      <td>saint stephens green east</td>\n",
       "      <td>1.0</td>\n",
       "      <td>loading and unloading</td>\n",
       "      <td>2006</td>\n",
       "      <td>2006-06-22</td>\n",
       "      <td>2006-06-22</td>\n",
       "      <td>1</td>\n",
       "      <td>3.0</td>\n",
       "      <td>114.0</td>\n",
       "      <td>3</td>\n",
       "    </tr>\n",
       "    <tr>\n",
       "      <th>2</th>\n",
       "      <td>saint stephens green east</td>\n",
       "      <td>1.0</td>\n",
       "      <td>filming</td>\n",
       "      <td>2006</td>\n",
       "      <td>2006-01-09</td>\n",
       "      <td>2006-01-09</td>\n",
       "      <td>1</td>\n",
       "      <td>4.0</td>\n",
       "      <td>152.0</td>\n",
       "      <td>0</td>\n",
       "    </tr>\n",
       "    <tr>\n",
       "      <th>3</th>\n",
       "      <td>saint stephens green east</td>\n",
       "      <td>1.0</td>\n",
       "      <td>others</td>\n",
       "      <td>2006</td>\n",
       "      <td>2006-01-09</td>\n",
       "      <td>2006-01-09</td>\n",
       "      <td>1</td>\n",
       "      <td>4.0</td>\n",
       "      <td>152.0</td>\n",
       "      <td>0</td>\n",
       "    </tr>\n",
       "    <tr>\n",
       "      <th>4</th>\n",
       "      <td>molesworth street</td>\n",
       "      <td>4.0</td>\n",
       "      <td>filming</td>\n",
       "      <td>2006</td>\n",
       "      <td>2006-01-09</td>\n",
       "      <td>2006-01-09</td>\n",
       "      <td>1</td>\n",
       "      <td>12.0</td>\n",
       "      <td>152.0</td>\n",
       "      <td>0</td>\n",
       "    </tr>\n",
       "  </tbody>\n",
       "</table>\n",
       "</div>"
      ],
      "text/plain": [
       "          location_of_spaces  str_class                purpose  year  \\\n",
       "0             commons street        4.0                 others  2006   \n",
       "1  saint stephens green east        1.0  loading and unloading  2006   \n",
       "2  saint stephens green east        1.0                filming  2006   \n",
       "3  saint stephens green east        1.0                 others  2006   \n",
       "4          molesworth street        4.0                filming  2006   \n",
       "\n",
       "  date_suspended date_expired  duration  no_of_spaces  amount_paid  day  \n",
       "0     2006-01-23   2006-01-23         1           5.0        152.0    0  \n",
       "1     2006-06-22   2006-06-22         1           3.0        114.0    3  \n",
       "2     2006-01-09   2006-01-09         1           4.0        152.0    0  \n",
       "3     2006-01-09   2006-01-09         1           4.0        152.0    0  \n",
       "4     2006-01-09   2006-01-09         1          12.0        152.0    0  "
      ]
     },
     "execution_count": 95,
     "metadata": {},
     "output_type": "execute_result"
    }
   ],
   "source": [
    "df.head()"
   ]
  },
  {
   "cell_type": "code",
   "execution_count": 96,
   "id": "f0828f1d",
   "metadata": {},
   "outputs": [],
   "source": [
    "# Reset index of the DataFrame and select specific columns\n",
    "df = df.reset_index()\n",
    "df = df.loc[:, ['date_suspended', 'year', 'day', 'purpose', 'str_class', 'no_of_spaces', 'duration', 'amount_paid']].copy()"
   ]
  },
  {
   "cell_type": "code",
   "execution_count": 97,
   "id": "44a97d94",
   "metadata": {},
   "outputs": [
    {
     "name": "stdout",
     "output_type": "stream",
     "text": [
      "<class 'pandas.core.frame.DataFrame'>\n",
      "RangeIndex: 1657 entries, 0 to 1656\n",
      "Data columns (total 8 columns):\n",
      " #   Column          Non-Null Count  Dtype         \n",
      "---  ------          --------------  -----         \n",
      " 0   date_suspended  1657 non-null   datetime64[ns]\n",
      " 1   year            1657 non-null   int32         \n",
      " 2   day             1657 non-null   int64         \n",
      " 3   purpose         1657 non-null   object        \n",
      " 4   str_class       1657 non-null   float64       \n",
      " 5   no_of_spaces    1657 non-null   float64       \n",
      " 6   duration        1657 non-null   int64         \n",
      " 7   amount_paid     1657 non-null   float64       \n",
      "dtypes: datetime64[ns](1), float64(3), int32(1), int64(2), object(1)\n",
      "memory usage: 97.2+ KB\n"
     ]
    }
   ],
   "source": [
    "# Display a concise summary of DataFrame information\n",
    "df.info()"
   ]
  },
  {
   "cell_type": "code",
   "execution_count": 98,
   "id": "3852367f",
   "metadata": {},
   "outputs": [],
   "source": [
    "# Convert 'no_of_spaces', 'duration', and 'str_class' columns to integer type\n",
    "df['no_of_spaces'] = df['no_of_spaces'].astype(int)\n",
    "df['duration'] = df['duration'].astype(int)\n",
    "df['str_class'] = df['str_class'].astype(int)\n",
    "\n",
    "# Convert 'year' column to object type\n",
    "df['year'] = df['year'].astype(object)"
   ]
  },
  {
   "cell_type": "code",
   "execution_count": 99,
   "id": "663821ef",
   "metadata": {},
   "outputs": [
    {
     "name": "stdout",
     "output_type": "stream",
     "text": [
      "<class 'pandas.core.frame.DataFrame'>\n",
      "RangeIndex: 1657 entries, 0 to 1656\n",
      "Data columns (total 8 columns):\n",
      " #   Column          Non-Null Count  Dtype         \n",
      "---  ------          --------------  -----         \n",
      " 0   date_suspended  1657 non-null   datetime64[ns]\n",
      " 1   year            1657 non-null   object        \n",
      " 2   day             1657 non-null   int64         \n",
      " 3   purpose         1657 non-null   object        \n",
      " 4   str_class       1657 non-null   int32         \n",
      " 5   no_of_spaces    1657 non-null   int32         \n",
      " 6   duration        1657 non-null   int32         \n",
      " 7   amount_paid     1657 non-null   float64       \n",
      "dtypes: datetime64[ns](1), float64(1), int32(3), int64(1), object(2)\n",
      "memory usage: 84.3+ KB\n"
     ]
    }
   ],
   "source": [
    "# Display a concise summary of DataFrame information\n",
    "df.info()"
   ]
  },
  {
   "cell_type": "code",
   "execution_count": 100,
   "id": "5d12a312",
   "metadata": {},
   "outputs": [
    {
     "data": {
      "text/plain": [
       "(1657, 8)"
      ]
     },
     "execution_count": 100,
     "metadata": {},
     "output_type": "execute_result"
    }
   ],
   "source": [
    "# Get the dimensions of the DataFrame (number of rows, number of columns)\n",
    "df.shape"
   ]
  },
  {
   "cell_type": "markdown",
   "id": "80acd60d",
   "metadata": {},
   "source": [
    "##   3.   STATISTICAL ANALYSIS"
   ]
  },
  {
   "cell_type": "markdown",
   "id": "2ca9a874",
   "metadata": {},
   "source": [
    "### 3.1. Descriptive statistics \n",
    "\n",
    "Descriptive statistics are used to describe, summarize, and present the key features of a dataset. These statistics help in better understanding the data. In this section, only the available data from the sample will be represented, without involving theories, inferences, probabilities, or conclusions. Descriptive statistics are divided into four main categories, and for this assignment, three of them will be applied: measures of frequency, central tendency, and dispersion or variation."
   ]
  },
  {
   "cell_type": "markdown",
   "id": "34f612b7",
   "metadata": {},
   "source": [
    "### *Measures of frequency* \n",
    "\n",
    "Let's begin descriptive statistics with the frequency measure. The frequency of an occurrence in statistics is the number of times the observation occurred during an experiment or research. These frequencies are often shown graphically or in a table. "
   ]
  },
  {
   "cell_type": "code",
   "execution_count": 101,
   "id": "16f70559",
   "metadata": {},
   "outputs": [
    {
     "data": {
      "text/html": [
       "<div>\n",
       "<style scoped>\n",
       "    .dataframe tbody tr th:only-of-type {\n",
       "        vertical-align: middle;\n",
       "    }\n",
       "\n",
       "    .dataframe tbody tr th {\n",
       "        vertical-align: top;\n",
       "    }\n",
       "\n",
       "    .dataframe thead th {\n",
       "        text-align: right;\n",
       "    }\n",
       "</style>\n",
       "<table border=\"1\" class=\"dataframe\">\n",
       "  <thead>\n",
       "    <tr style=\"text-align: right;\">\n",
       "      <th></th>\n",
       "      <th>date_suspended</th>\n",
       "      <th>year</th>\n",
       "      <th>day</th>\n",
       "      <th>purpose</th>\n",
       "      <th>str_class</th>\n",
       "      <th>no_of_spaces</th>\n",
       "      <th>duration</th>\n",
       "      <th>amount_paid</th>\n",
       "    </tr>\n",
       "  </thead>\n",
       "  <tbody>\n",
       "    <tr>\n",
       "      <th>0</th>\n",
       "      <td>2006-01-23</td>\n",
       "      <td>2006</td>\n",
       "      <td>0</td>\n",
       "      <td>others</td>\n",
       "      <td>4</td>\n",
       "      <td>5</td>\n",
       "      <td>1</td>\n",
       "      <td>152.0</td>\n",
       "    </tr>\n",
       "    <tr>\n",
       "      <th>1</th>\n",
       "      <td>2006-06-22</td>\n",
       "      <td>2006</td>\n",
       "      <td>3</td>\n",
       "      <td>loading and unloading</td>\n",
       "      <td>1</td>\n",
       "      <td>3</td>\n",
       "      <td>1</td>\n",
       "      <td>114.0</td>\n",
       "    </tr>\n",
       "    <tr>\n",
       "      <th>2</th>\n",
       "      <td>2006-01-09</td>\n",
       "      <td>2006</td>\n",
       "      <td>0</td>\n",
       "      <td>filming</td>\n",
       "      <td>1</td>\n",
       "      <td>4</td>\n",
       "      <td>1</td>\n",
       "      <td>152.0</td>\n",
       "    </tr>\n",
       "    <tr>\n",
       "      <th>3</th>\n",
       "      <td>2006-01-09</td>\n",
       "      <td>2006</td>\n",
       "      <td>0</td>\n",
       "      <td>others</td>\n",
       "      <td>1</td>\n",
       "      <td>4</td>\n",
       "      <td>1</td>\n",
       "      <td>152.0</td>\n",
       "    </tr>\n",
       "    <tr>\n",
       "      <th>4</th>\n",
       "      <td>2006-01-09</td>\n",
       "      <td>2006</td>\n",
       "      <td>0</td>\n",
       "      <td>filming</td>\n",
       "      <td>4</td>\n",
       "      <td>12</td>\n",
       "      <td>1</td>\n",
       "      <td>152.0</td>\n",
       "    </tr>\n",
       "  </tbody>\n",
       "</table>\n",
       "</div>"
      ],
      "text/plain": [
       "  date_suspended  year  day                purpose  str_class  no_of_spaces  \\\n",
       "0     2006-01-23  2006    0                 others          4             5   \n",
       "1     2006-06-22  2006    3  loading and unloading          1             3   \n",
       "2     2006-01-09  2006    0                filming          1             4   \n",
       "3     2006-01-09  2006    0                 others          1             4   \n",
       "4     2006-01-09  2006    0                filming          4            12   \n",
       "\n",
       "   duration  amount_paid  \n",
       "0         1        152.0  \n",
       "1         1        114.0  \n",
       "2         1        152.0  \n",
       "3         1        152.0  \n",
       "4         1        152.0  "
      ]
     },
     "execution_count": 101,
     "metadata": {},
     "output_type": "execute_result"
    }
   ],
   "source": [
    "# Check the Data Frame\n",
    "df.head()"
   ]
  },
  {
   "cell_type": "markdown",
   "id": "267cac1f",
   "metadata": {},
   "source": [
    "I'll use frequency distribution for my dataset's nominal and ordinal columns."
   ]
  },
  {
   "cell_type": "code",
   "execution_count": 102,
   "id": "8e5b2fb8",
   "metadata": {},
   "outputs": [
    {
     "data": {
      "text/html": [
       "<div>\n",
       "<style scoped>\n",
       "    .dataframe tbody tr th:only-of-type {\n",
       "        vertical-align: middle;\n",
       "    }\n",
       "\n",
       "    .dataframe tbody tr th {\n",
       "        vertical-align: top;\n",
       "    }\n",
       "\n",
       "    .dataframe thead th {\n",
       "        text-align: right;\n",
       "    }\n",
       "</style>\n",
       "<table border=\"1\" class=\"dataframe\">\n",
       "  <thead>\n",
       "    <tr style=\"text-align: right;\">\n",
       "      <th></th>\n",
       "      <th>count</th>\n",
       "    </tr>\n",
       "    <tr>\n",
       "      <th>purpose</th>\n",
       "      <th></th>\n",
       "    </tr>\n",
       "  </thead>\n",
       "  <tbody>\n",
       "    <tr>\n",
       "      <th>filming</th>\n",
       "      <td>709</td>\n",
       "    </tr>\n",
       "    <tr>\n",
       "      <th>others</th>\n",
       "      <td>338</td>\n",
       "    </tr>\n",
       "    <tr>\n",
       "      <th>broadcasting units</th>\n",
       "      <td>224</td>\n",
       "    </tr>\n",
       "    <tr>\n",
       "      <th>loading and unloading</th>\n",
       "      <td>206</td>\n",
       "    </tr>\n",
       "    <tr>\n",
       "      <th>building work</th>\n",
       "      <td>114</td>\n",
       "    </tr>\n",
       "    <tr>\n",
       "      <th>office relocation</th>\n",
       "      <td>66</td>\n",
       "    </tr>\n",
       "  </tbody>\n",
       "</table>\n",
       "</div>"
      ],
      "text/plain": [
       "                       count\n",
       "purpose                     \n",
       "filming                  709\n",
       "others                   338\n",
       "broadcasting units       224\n",
       "loading and unloading    206\n",
       "building work            114\n",
       "office relocation         66"
      ]
     },
     "execution_count": 102,
     "metadata": {},
     "output_type": "execute_result"
    }
   ],
   "source": [
    "#Count unique values in the 'purpose' column and display as a DataFrame\n",
    "df['purpose'].value_counts().to_frame()"
   ]
  },
  {
   "cell_type": "code",
   "execution_count": 103,
   "id": "98aa1093",
   "metadata": {
    "scrolled": false
   },
   "outputs": [
    {
     "data": {
      "text/html": [
       "<div>\n",
       "<style scoped>\n",
       "    .dataframe tbody tr th:only-of-type {\n",
       "        vertical-align: middle;\n",
       "    }\n",
       "\n",
       "    .dataframe tbody tr th {\n",
       "        vertical-align: top;\n",
       "    }\n",
       "\n",
       "    .dataframe thead th {\n",
       "        text-align: right;\n",
       "    }\n",
       "</style>\n",
       "<table border=\"1\" class=\"dataframe\">\n",
       "  <thead>\n",
       "    <tr style=\"text-align: right;\">\n",
       "      <th></th>\n",
       "      <th>proportion</th>\n",
       "    </tr>\n",
       "    <tr>\n",
       "      <th>purpose</th>\n",
       "      <th></th>\n",
       "    </tr>\n",
       "  </thead>\n",
       "  <tbody>\n",
       "    <tr>\n",
       "      <th>filming</th>\n",
       "      <td>0.427882</td>\n",
       "    </tr>\n",
       "    <tr>\n",
       "      <th>others</th>\n",
       "      <td>0.203983</td>\n",
       "    </tr>\n",
       "    <tr>\n",
       "      <th>broadcasting units</th>\n",
       "      <td>0.135184</td>\n",
       "    </tr>\n",
       "    <tr>\n",
       "      <th>loading and unloading</th>\n",
       "      <td>0.124321</td>\n",
       "    </tr>\n",
       "    <tr>\n",
       "      <th>building work</th>\n",
       "      <td>0.068799</td>\n",
       "    </tr>\n",
       "    <tr>\n",
       "      <th>office relocation</th>\n",
       "      <td>0.039831</td>\n",
       "    </tr>\n",
       "  </tbody>\n",
       "</table>\n",
       "</div>"
      ],
      "text/plain": [
       "                       proportion\n",
       "purpose                          \n",
       "filming                  0.427882\n",
       "others                   0.203983\n",
       "broadcasting units       0.135184\n",
       "loading and unloading    0.124321\n",
       "building work            0.068799\n",
       "office relocation        0.039831"
      ]
     },
     "execution_count": 103,
     "metadata": {},
     "output_type": "execute_result"
    }
   ],
   "source": [
    "# Count the normalized frequency of unique values in the 'purpose' column and display as a DataFrame\n",
    "df['purpose'].value_counts(normalize=True).to_frame()"
   ]
  },
  {
   "cell_type": "markdown",
   "id": "7edbbbdc",
   "metadata": {},
   "source": [
    "By grouping the data based on the reason for the suspension, it becomes clear that the majority of suspensions were due to filming. Between 2006 and 2010, there were 709 suspensions for filming, making up almost 43% of all suspensions during that period. Office relocation is the least common cause, accounting for only 4% of all parking suspensions."
   ]
  },
  {
   "cell_type": "code",
   "execution_count": 104,
   "id": "8419c364",
   "metadata": {},
   "outputs": [
    {
     "data": {
      "image/png": "[encoded data removed]",
      "text/plain": [
       "<Figure size 1000x600 with 1 Axes>"
      ]
     },
     "metadata": {},
     "output_type": "display_data"
    }
   ],
   "source": [
    "# Create a countplot to show the distribution of 'year' with 'purpose' as the hue, categorized by purpose\n",
    "sns.set(rc = {'figure.figsize':(10,6)})\n",
    "sns.countplot(x='year', hue = 'purpose', data=df);"
   ]
  },
  {
   "cell_type": "markdown",
   "id": "fb5052dd",
   "metadata": {},
   "source": [
    "The bar graph above demonstrates that, between 2006 and 2010, the most common reason for suspensions was filming. Whereas, the number of office relocation is the lowest each year. Additionally, the counts for the rest of the purposes vary uniquely annually."
   ]
  },
  {
   "cell_type": "code",
   "execution_count": 105,
   "id": "5010cbba",
   "metadata": {},
   "outputs": [
    {
     "data": {
      "text/html": [
       "<div>\n",
       "<style scoped>\n",
       "    .dataframe tbody tr th:only-of-type {\n",
       "        vertical-align: middle;\n",
       "    }\n",
       "\n",
       "    .dataframe tbody tr th {\n",
       "        vertical-align: top;\n",
       "    }\n",
       "\n",
       "    .dataframe thead th {\n",
       "        text-align: right;\n",
       "    }\n",
       "</style>\n",
       "<table border=\"1\" class=\"dataframe\">\n",
       "  <thead>\n",
       "    <tr style=\"text-align: right;\">\n",
       "      <th></th>\n",
       "      <th>no_of_spaces</th>\n",
       "      <th>amount_paid</th>\n",
       "    </tr>\n",
       "    <tr>\n",
       "      <th>purpose</th>\n",
       "      <th></th>\n",
       "      <th></th>\n",
       "    </tr>\n",
       "  </thead>\n",
       "  <tbody>\n",
       "    <tr>\n",
       "      <th>broadcasting units</th>\n",
       "      <td>966</td>\n",
       "      <td>43082.30</td>\n",
       "    </tr>\n",
       "    <tr>\n",
       "      <th>building work</th>\n",
       "      <td>438</td>\n",
       "      <td>147565.80</td>\n",
       "    </tr>\n",
       "    <tr>\n",
       "      <th>filming</th>\n",
       "      <td>5628</td>\n",
       "      <td>248253.74</td>\n",
       "    </tr>\n",
       "    <tr>\n",
       "      <th>loading and unloading</th>\n",
       "      <td>614</td>\n",
       "      <td>80736.60</td>\n",
       "    </tr>\n",
       "    <tr>\n",
       "      <th>office relocation</th>\n",
       "      <td>240</td>\n",
       "      <td>14661.40</td>\n",
       "    </tr>\n",
       "    <tr>\n",
       "      <th>others</th>\n",
       "      <td>1475</td>\n",
       "      <td>114423.32</td>\n",
       "    </tr>\n",
       "  </tbody>\n",
       "</table>\n",
       "</div>"
      ],
      "text/plain": [
       "                       no_of_spaces  amount_paid\n",
       "purpose                                         \n",
       "broadcasting units              966     43082.30\n",
       "building work                   438    147565.80\n",
       "filming                        5628    248253.74\n",
       "loading and unloading           614     80736.60\n",
       "office relocation               240     14661.40\n",
       "others                         1475    114423.32"
      ]
     },
     "execution_count": 105,
     "metadata": {},
     "output_type": "execute_result"
    }
   ],
   "source": [
    "# Group the data by 'purpose' and calculate the sum of 'no_of_spaces' and 'amount_paid' for each group\n",
    "df.groupby(['purpose'])[['no_of_spaces', 'amount_paid']].sum()"
   ]
  },
  {
   "cell_type": "markdown",
   "id": "3beb0625",
   "metadata": {},
   "source": [
    "The table shows that the filming has the highest numbers in both categories when we count the number of spaces and the number of earnings for each purpose. Once again, office relocation has the lowest counts for both. One interesting observation is that while building work suspension uses relatively few parking spaces, the amount of money the government makes from it is far more than the average for other uses."
   ]
  },
  {
   "cell_type": "code",
   "execution_count": 106,
   "id": "06771631",
   "metadata": {
    "scrolled": false
   },
   "outputs": [
    {
     "data": {
      "image/png": "[encoded data removed]",
      "text/plain": [
       "<Figure size 1000x600 with 1 Axes>"
      ]
     },
     "metadata": {},
     "output_type": "display_data"
    },
    {
     "data": {
      "image/png": "[encoded data removed]",
      "text/plain": [
       "<Figure size 1000x600 with 1 Axes>"
      ]
     },
     "metadata": {},
     "output_type": "display_data"
    }
   ],
   "source": [
    "# Group the data by 'str_class' and 'purpose', then plot the stacked bar chart to show the number of suspensions by street class and purpose\n",
    "df.groupby(['str_class', 'purpose']).size().unstack().plot(kind='bar', stacked=True, \n",
    "                                                           title='Purpose of Suspensions by Street Classes, 2006-2010')\n",
    "\n",
    "# Group the data by 'day' and 'purpose', then plot the stacked bar chart to show the number of suspensions by day of the week and purpose\n",
    "df.groupby(['day', 'purpose']).size().unstack().plot(kind='bar', stacked=True, \n",
    "                                                           title='Purpose of Suspensions by Days of the Week, 2006-2010');"
   ]
  },
  {
   "cell_type": "markdown",
   "id": "b2be6946",
   "metadata": {},
   "source": [
    "The stacked graph \"Purpose of Suspensions by Street Classes\" shows that the 4th street class is where most suspensions occurred, and it is also where filming happens most frequently overall. Although the 7th street class had the lowest total count of suspensions, it had the highest number of filming suspensions. An interesting observation from this graph is that the 1st street class is the only place where the count of filming suspensions surpassed the number of broadcasting and other types of suspensions.\n",
    "\n",
    "The second graph illustrates the number of suspensions by day of the week. It shows that the government receives the highest number of suspension requests during weekdays, with Sunday having the lowest. On weekdays, filming suspensions lead by number, but the trend changes on weekends. On Sunday, the highest number of suspensions is for other purposes, and on Saturday, broadcasting and other purposes account for a higher number of parking suspensions."
   ]
  },
  {
   "cell_type": "markdown",
   "id": "958f59d1",
   "metadata": {},
   "source": [
    "### *Measures of central tendency*"
   ]
  },
  {
   "cell_type": "markdown",
   "id": "acfce84a",
   "metadata": {},
   "source": [
    "A measure of central tendency is a summary measure that represents the middle or center of a data set, condensing it into a single value. The three main measures of central tendency are the mode, the median, and the mean. Each measure provides a different perspective on what constitutes the typical or central value in a distribution.\n",
    "\n",
    "In this section of the assignment, the goal is to analyze the central values of the continuous variables \"number of spaces,\" \"duration,\" and \"amount paid.\" The means, medians, and modes for these columns will be calculated."
   ]
  },
  {
   "cell_type": "markdown",
   "id": "bb23f64d",
   "metadata": {},
   "source": [
    "`mean`"
   ]
  },
  {
   "cell_type": "code",
   "execution_count": 107,
   "id": "927d17a9",
   "metadata": {},
   "outputs": [
    {
     "data": {
      "text/plain": [
       "no_of_spaces      5.649366\n",
       "duration          3.118286\n",
       "amount_paid     391.504623\n",
       "dtype: float64"
      ]
     },
     "execution_count": 107,
     "metadata": {},
     "output_type": "execute_result"
    }
   ],
   "source": [
    "# Calculate the mean of the columns 'no_of_spaces', 'duration', and 'amount_paid'\n",
    "df[['no_of_spaces', 'duration', 'amount_paid']].mean()"
   ]
  },
  {
   "cell_type": "markdown",
   "id": "6898fb11",
   "metadata": {},
   "source": [
    "`median`"
   ]
  },
  {
   "cell_type": "code",
   "execution_count": 108,
   "id": "a5b25b10",
   "metadata": {},
   "outputs": [
    {
     "data": {
      "text/plain": [
       "no_of_spaces      4.0\n",
       "duration          1.0\n",
       "amount_paid     190.0\n",
       "dtype: float64"
      ]
     },
     "execution_count": 108,
     "metadata": {},
     "output_type": "execute_result"
    }
   ],
   "source": [
    "# Calculate the median of the columns 'no_of_spaces', 'duration', and 'amount_paid'\n",
    "df[['no_of_spaces', 'duration', 'amount_paid']].median()"
   ]
  },
  {
   "cell_type": "markdown",
   "id": "3f2482c7",
   "metadata": {},
   "source": [
    "`mode`"
   ]
  },
  {
   "cell_type": "code",
   "execution_count": 109,
   "id": "0fe2a402",
   "metadata": {
    "scrolled": true
   },
   "outputs": [
    {
     "data": {
      "text/html": [
       "<div>\n",
       "<style scoped>\n",
       "    .dataframe tbody tr th:only-of-type {\n",
       "        vertical-align: middle;\n",
       "    }\n",
       "\n",
       "    .dataframe tbody tr th {\n",
       "        vertical-align: top;\n",
       "    }\n",
       "\n",
       "    .dataframe thead th {\n",
       "        text-align: right;\n",
       "    }\n",
       "</style>\n",
       "<table border=\"1\" class=\"dataframe\">\n",
       "  <thead>\n",
       "    <tr style=\"text-align: right;\">\n",
       "      <th></th>\n",
       "      <th>no_of_spaces</th>\n",
       "      <th>duration</th>\n",
       "      <th>amount_paid</th>\n",
       "    </tr>\n",
       "  </thead>\n",
       "  <tbody>\n",
       "    <tr>\n",
       "      <th>0</th>\n",
       "      <td>4</td>\n",
       "      <td>1</td>\n",
       "      <td>152.0</td>\n",
       "    </tr>\n",
       "  </tbody>\n",
       "</table>\n",
       "</div>"
      ],
      "text/plain": [
       "   no_of_spaces  duration  amount_paid\n",
       "0             4         1        152.0"
      ]
     },
     "execution_count": 109,
     "metadata": {},
     "output_type": "execute_result"
    }
   ],
   "source": [
    "# Calculate the mode of the columns 'no_of_spaces', 'duration', and 'amount_paid'\n",
    "df[['no_of_spaces', 'duration', 'amount_paid']].mode()"
   ]
  },
  {
   "cell_type": "markdown",
   "id": "87bd73dc",
   "metadata": {},
   "source": [
    "All three columns exhibit a right-skewed distribution, as indicated by the computed data. Given that the mean is greater than both the median and the mode for each of these columns, this observation is confirmed. As an example, a boxplot and a bar graph of the central values will be created for one of the columns."
   ]
  },
  {
   "cell_type": "code",
   "execution_count": 110,
   "id": "21ec5030",
   "metadata": {},
   "outputs": [
    {
     "data": {
      "image/png": "[encoded data removed]",
      "text/plain": [
       "<Figure size 1000x600 with 2 Axes>"
      ]
     },
     "metadata": {},
     "output_type": "display_data"
    }
   ],
   "source": [
    "# Plotting boxplot and histogram for 'no_of_spaces' with mean, median, and mode lines\n",
    "\n",
    "f, (ax_box, ax_hist) = plt.subplots(2, sharex=True, gridspec_kw= {\"height_ratios\": (100, 100)})\n",
    "\n",
    "mean=df['no_of_spaces'].mean()\n",
    "median=df['no_of_spaces'].median()\n",
    "mode=df['no_of_spaces'].mode().values[0]\n",
    "\n",
    "sns.boxplot(data=df, x=\"no_of_spaces\", ax=ax_box)\n",
    "ax_box.axvline(mean, color='r', linestyle='--')\n",
    "ax_box.axvline(median, color='g', linestyle='-')\n",
    "ax_box.axvline(mode, color='b', linestyle='-')\n",
    "\n",
    "sns.histplot(data=df, x=\"no_of_spaces\", ax=ax_hist, kde=True)\n",
    "ax_hist.axvline(mean, color='r', linestyle='--', label=\"Mean\")\n",
    "ax_hist.axvline(median, color='g', linestyle='-', label=\"Median\")\n",
    "ax_hist.axvline(mode, color='b', linestyle='-', label=\"Mode\")\n",
    "\n",
    "ax_hist.legend()\n",
    "\n",
    "ax_box.set(xlabel='')\n",
    "plt.show()"
   ]
  },
  {
   "cell_type": "markdown",
   "id": "935e9803",
   "metadata": {},
   "source": [
    "### *Measures of dispersion* \n",
    "\n",
    "Every dataset contains some level of variability within its range. Variability is defined as the extent to which data points differ from each other and the center of the distribution. This is also referred to as the spread, scatter, or dispersion of data. Dispersion describes how much the values deviate from the average value. Measures of dispersion are used to assess the variability of data. Like central tendency, variability is crucial for summarizing the characteristics of a dataset, as it aids in presenting the data's facts and figures. The dispersion measures will be calculated and summarized."
   ]
  },
  {
   "cell_type": "markdown",
   "id": "3f33e7f3",
   "metadata": {},
   "source": [
    "`Range`\n",
    "\n",
    "The spread of data between the lowest and highest values in a distribution is referred to as the range. The range for columns with continuous data will now be determined."
   ]
  },
  {
   "cell_type": "code",
   "execution_count": 111,
   "id": "a3d2b500",
   "metadata": {},
   "outputs": [
    {
     "name": "stdout",
     "output_type": "stream",
     "text": [
      "Range of the column no_of_spaces is: 71\n",
      "Range of the column duration is: 485\n",
      "Range of the column amount_paid is: 17185.0\n"
     ]
    }
   ],
   "source": [
    "# Calculating and printing the range for each column in 'no_of_spaces', 'duration', and 'amount_paid'\n",
    "columns = ['no_of_spaces', 'duration', 'amount_paid']\n",
    "\n",
    "for x in columns:\n",
    "    minimum = df[x].min()\n",
    "    maximum = df[x].max()\n",
    "    column_range = maximum - minimum\n",
    "    print('Range of the column', x, 'is:', column_range)"
   ]
  },
  {
   "cell_type": "markdown",
   "id": "2aa531b1",
   "metadata": {},
   "source": [
    "The range is quite a helpful indication of how spread out the data is, but it has some severe limitations. It's because sometimes data can have outliers that are widely off the other data points. In these cases, the range might not give a true indication of the spread of data for the column \"duration\". Due to its outliers, the column \"duration\" has a very high range value."
   ]
  },
  {
   "cell_type": "markdown",
   "id": "354413a6",
   "metadata": {},
   "source": [
    "`IQR`\n",
    "\n",
    "The interquartile range (IQR) represents the spread of the middle 50% of a data set. It offers insight into the distribution of values and the extent of clustering. The IQR will be calculated for the columns with continuous values, and the results will be displayed below."
   ]
  },
  {
   "cell_type": "code",
   "execution_count": 112,
   "id": "04018d23",
   "metadata": {},
   "outputs": [
    {
     "name": "stdout",
     "output_type": "stream",
     "text": [
      "Interquartile range for the column no_of_spaces is: 3.0\n",
      "Interquartile range for the column duration is: 1.0\n",
      "Interquartile range for the column amount_paid is: 232.6\n"
     ]
    }
   ],
   "source": [
    "# Calculating and printing the interquartile range (IQR) for each column in 'no_of_spaces', 'duration', and 'amount_paid'\n",
    "columns = ['no_of_spaces', 'duration', 'amount_paid']\n",
    "\n",
    "for x in columns:\n",
    "    q75, q25 = np.percentile(df[x], [75 ,25])\n",
    "    iqr = q75 - q25\n",
    "    print('Interquartile range for the column', x, 'is:', iqr)"
   ]
  },
  {
   "cell_type": "markdown",
   "id": "a39a9197",
   "metadata": {},
   "source": [
    "The high value for the column 'amount_paid' indicates that the central portion of my data is spread out further. Conversely, smaller values for \"no_of_spaces\" and \"duration\" show that the middle values cluster more tightly."
   ]
  },
  {
   "cell_type": "markdown",
   "id": "632ab947",
   "metadata": {},
   "source": [
    "**Variance**\n",
    "\n",
    "The term variance refers to a statistical measurement of the spread between numbers in a data set. More specifically, variance measures how far each number in the collection is far from the mean (average) and, thus, from every other number in the set. I will calculate the variance for the columns with continuous values and print the results below."
   ]
  },
  {
   "cell_type": "code",
   "execution_count": 113,
   "id": "b4a7bec1",
   "metadata": {},
   "outputs": [
    {
     "name": "stdout",
     "output_type": "stream",
     "text": [
      "The variance for the column no_of_spaces is: 27.375170190000507\n",
      "The variance for the column duration is: 209.55725599782858\n",
      "The variance for the column amount_paid is: 761917.9930479446\n"
     ]
    }
   ],
   "source": [
    "# Calculating and printing the variance for each column in 'no_of_spaces', 'duration', and 'amount_paid'\n",
    "columns = ['no_of_spaces', 'duration', 'amount_paid']\n",
    "\n",
    "for x in columns:\n",
    "    variance = df[x].var()\n",
    "    print('The variance for the column', x, 'is:', variance)"
   ]
  },
  {
   "cell_type": "markdown",
   "id": "49d0f4f9",
   "metadata": {},
   "source": [
    "The more spread the data, the larger the variance is in relation to the mean. In comparison to the variation of the column \"amount paid\", the variance of the columns \"duration\" and \"no_of_spaces\" is relatively low. It indicates that the \"amount_paid\" column has a widespread."
   ]
  },
  {
   "cell_type": "markdown",
   "id": "c5564901",
   "metadata": {},
   "source": [
    "**Standard deviation**\n",
    "\n",
    "The standard deviation is the average amount of variability in my data set. I will calculate the standard deviation for the columns with continuous values and print the results below."
   ]
  },
  {
   "cell_type": "code",
   "execution_count": 114,
   "id": "f6be3ace",
   "metadata": {},
   "outputs": [
    {
     "name": "stdout",
     "output_type": "stream",
     "text": [
      "The standart deviation for the column no_of_spaces is: 5.232128648074367\n",
      "The standart deviation for the column duration is: 14.4760925666365\n",
      "The standart deviation for the column amount_paid is: 872.8791400004611\n"
     ]
    }
   ],
   "source": [
    "# Calculating and printing the standard deviation for each column in 'no_of_spaces', 'duration', and 'amount_paid'\n",
    "columns = ['no_of_spaces', 'duration', 'amount_paid']\n",
    "\n",
    "for x in columns:\n",
    "    st_deviation  = df[x].std()\n",
    "    print('The standart deviation for the column', x, 'is:', st_deviation)"
   ]
  },
  {
   "cell_type": "markdown",
   "id": "b327aaf0",
   "metadata": {},
   "source": [
    "Simply, I could just use the method \"describe()\" instead of computing everything separately. This method calculates:\n",
    "\n",
    "    The count of values\n",
    "    The number of unique values\n",
    "    The top (most frequent) value\n",
    "    The frequency of your top value\n",
    "    The mean, standard deviation, min and max values\n",
    "    The percentiles of your data: 25%, 50%, 75% by default"
   ]
  },
  {
   "cell_type": "code",
   "execution_count": 115,
   "id": "a18bb889",
   "metadata": {},
   "outputs": [
    {
     "data": {
      "text/html": [
       "<div>\n",
       "<style scoped>\n",
       "    .dataframe tbody tr th:only-of-type {\n",
       "        vertical-align: middle;\n",
       "    }\n",
       "\n",
       "    .dataframe tbody tr th {\n",
       "        vertical-align: top;\n",
       "    }\n",
       "\n",
       "    .dataframe thead th {\n",
       "        text-align: right;\n",
       "    }\n",
       "</style>\n",
       "<table border=\"1\" class=\"dataframe\">\n",
       "  <thead>\n",
       "    <tr style=\"text-align: right;\">\n",
       "      <th></th>\n",
       "      <th>date_suspended</th>\n",
       "      <th>day</th>\n",
       "      <th>str_class</th>\n",
       "      <th>no_of_spaces</th>\n",
       "      <th>duration</th>\n",
       "      <th>amount_paid</th>\n",
       "    </tr>\n",
       "  </thead>\n",
       "  <tbody>\n",
       "    <tr>\n",
       "      <th>count</th>\n",
       "      <td>1657</td>\n",
       "      <td>1657.000000</td>\n",
       "      <td>1657.000000</td>\n",
       "      <td>1657.000000</td>\n",
       "      <td>1657.000000</td>\n",
       "      <td>1657.000000</td>\n",
       "    </tr>\n",
       "    <tr>\n",
       "      <th>mean</th>\n",
       "      <td>2008-01-25 21:00:06.517803264</td>\n",
       "      <td>2.412191</td>\n",
       "      <td>3.512975</td>\n",
       "      <td>5.649366</td>\n",
       "      <td>3.118286</td>\n",
       "      <td>391.504623</td>\n",
       "    </tr>\n",
       "    <tr>\n",
       "      <th>min</th>\n",
       "      <td>2006-01-09 00:00:00</td>\n",
       "      <td>0.000000</td>\n",
       "      <td>1.000000</td>\n",
       "      <td>1.000000</td>\n",
       "      <td>1.000000</td>\n",
       "      <td>16.000000</td>\n",
       "    </tr>\n",
       "    <tr>\n",
       "      <th>25%</th>\n",
       "      <td>2006-10-25 00:00:00</td>\n",
       "      <td>1.000000</td>\n",
       "      <td>2.000000</td>\n",
       "      <td>3.000000</td>\n",
       "      <td>1.000000</td>\n",
       "      <td>121.600000</td>\n",
       "    </tr>\n",
       "    <tr>\n",
       "      <th>50%</th>\n",
       "      <td>2007-10-30 00:00:00</td>\n",
       "      <td>2.000000</td>\n",
       "      <td>4.000000</td>\n",
       "      <td>4.000000</td>\n",
       "      <td>1.000000</td>\n",
       "      <td>190.000000</td>\n",
       "    </tr>\n",
       "    <tr>\n",
       "      <th>75%</th>\n",
       "      <td>2009-01-28 00:00:00</td>\n",
       "      <td>4.000000</td>\n",
       "      <td>4.000000</td>\n",
       "      <td>6.000000</td>\n",
       "      <td>2.000000</td>\n",
       "      <td>354.200000</td>\n",
       "    </tr>\n",
       "    <tr>\n",
       "      <th>max</th>\n",
       "      <td>2011-01-05 00:00:00</td>\n",
       "      <td>6.000000</td>\n",
       "      <td>7.000000</td>\n",
       "      <td>72.000000</td>\n",
       "      <td>486.000000</td>\n",
       "      <td>17201.000000</td>\n",
       "    </tr>\n",
       "    <tr>\n",
       "      <th>std</th>\n",
       "      <td>NaN</td>\n",
       "      <td>1.771942</td>\n",
       "      <td>1.722256</td>\n",
       "      <td>5.232129</td>\n",
       "      <td>14.476093</td>\n",
       "      <td>872.879140</td>\n",
       "    </tr>\n",
       "  </tbody>\n",
       "</table>\n",
       "</div>"
      ],
      "text/plain": [
       "                      date_suspended          day    str_class  no_of_spaces  \\\n",
       "count                           1657  1657.000000  1657.000000   1657.000000   \n",
       "mean   2008-01-25 21:00:06.517803264     2.412191     3.512975      5.649366   \n",
       "min              2006-01-09 00:00:00     0.000000     1.000000      1.000000   \n",
       "25%              2006-10-25 00:00:00     1.000000     2.000000      3.000000   \n",
       "50%              2007-10-30 00:00:00     2.000000     4.000000      4.000000   \n",
       "75%              2009-01-28 00:00:00     4.000000     4.000000      6.000000   \n",
       "max              2011-01-05 00:00:00     6.000000     7.000000     72.000000   \n",
       "std                              NaN     1.771942     1.722256      5.232129   \n",
       "\n",
       "          duration   amount_paid  \n",
       "count  1657.000000   1657.000000  \n",
       "mean      3.118286    391.504623  \n",
       "min       1.000000     16.000000  \n",
       "25%       1.000000    121.600000  \n",
       "50%       1.000000    190.000000  \n",
       "75%       2.000000    354.200000  \n",
       "max     486.000000  17201.000000  \n",
       "std      14.476093    872.879140  "
      ]
     },
     "execution_count": 115,
     "metadata": {},
     "output_type": "execute_result"
    }
   ],
   "source": [
    "# Generating descriptive statistics (count, mean, std, min, 25%, 50%, 75%, max) for all numerical columns in the DataFrame\n",
    "df.describe()"
   ]
  },
  {
   "cell_type": "markdown",
   "id": "ec35c132",
   "metadata": {},
   "source": [
    "The output from the \"explain()\" method reveals that the columns \"no of spaces,\" \"duration,\" and \"amount paid,\" which contain continuous data, exhibit a right-skewed distribution. This is reflected in the median and mean values of these columns. Despite the low IQR values for \"duration\" and \"amount paid,\" the significant range between their minimum and maximum values indicates the presence of outliers. Additionally, the \"amount paid\" column shows a relatively high standard deviation, suggesting that the values are widely spread across the distribution."
   ]
  },
  {
   "cell_type": "code",
   "execution_count": 116,
   "id": "be433c97",
   "metadata": {},
   "outputs": [
    {
     "data": {
      "text/plain": [
       "<seaborn.axisgrid.PairGrid at 0x228bcc61450>"
      ]
     },
     "execution_count": 116,
     "metadata": {},
     "output_type": "execute_result"
    },
    {
     "data": {
      "image/png": "[encoded data removed]",
      "text/plain": [
       "<Figure size 1500x1500 with 42 Axes>"
      ]
     },
     "metadata": {},
     "output_type": "display_data"
    }
   ],
   "source": [
    "# Plotting pairwise relationships and distribution for numerical columns in the DataFrame\n",
    "sns.pairplot(df)"
   ]
  },
  {
   "cell_type": "markdown",
   "id": "48082534",
   "metadata": {},
   "source": [
    "The 'pairplot()' method from the 'seaborn' library allows for plotting histograms of the data and correlation scatter plots. No significant patterns are observed in the plots. However, the correlation between the \"amount_paid\" and \"duration\" columns may be worth further investigation. This can be examined more closely using a correlation heatmap."
   ]
  },
  {
   "cell_type": "code",
   "execution_count": 117,
   "id": "24f08e43",
   "metadata": {},
   "outputs": [
    {
     "data": {
      "text/html": [
       "<div>\n",
       "<style scoped>\n",
       "    .dataframe tbody tr th:only-of-type {\n",
       "        vertical-align: middle;\n",
       "    }\n",
       "\n",
       "    .dataframe tbody tr th {\n",
       "        vertical-align: top;\n",
       "    }\n",
       "\n",
       "    .dataframe thead th {\n",
       "        text-align: right;\n",
       "    }\n",
       "</style>\n",
       "<table border=\"1\" class=\"dataframe\">\n",
       "  <thead>\n",
       "    <tr style=\"text-align: right;\">\n",
       "      <th></th>\n",
       "      <th>day</th>\n",
       "      <th>str_class</th>\n",
       "      <th>no_of_spaces</th>\n",
       "      <th>duration</th>\n",
       "      <th>amount_paid</th>\n",
       "    </tr>\n",
       "  </thead>\n",
       "  <tbody>\n",
       "    <tr>\n",
       "      <th>day</th>\n",
       "      <td>1.000000</td>\n",
       "      <td>-0.072296</td>\n",
       "      <td>0.036311</td>\n",
       "      <td>-0.024314</td>\n",
       "      <td>0.001768</td>\n",
       "    </tr>\n",
       "    <tr>\n",
       "      <th>str_class</th>\n",
       "      <td>-0.072296</td>\n",
       "      <td>1.000000</td>\n",
       "      <td>0.060516</td>\n",
       "      <td>0.012558</td>\n",
       "      <td>0.028085</td>\n",
       "    </tr>\n",
       "    <tr>\n",
       "      <th>no_of_spaces</th>\n",
       "      <td>0.036311</td>\n",
       "      <td>0.060516</td>\n",
       "      <td>1.000000</td>\n",
       "      <td>-0.049402</td>\n",
       "      <td>0.253263</td>\n",
       "    </tr>\n",
       "    <tr>\n",
       "      <th>duration</th>\n",
       "      <td>-0.024314</td>\n",
       "      <td>0.012558</td>\n",
       "      <td>-0.049402</td>\n",
       "      <td>1.000000</td>\n",
       "      <td>0.659387</td>\n",
       "    </tr>\n",
       "    <tr>\n",
       "      <th>amount_paid</th>\n",
       "      <td>0.001768</td>\n",
       "      <td>0.028085</td>\n",
       "      <td>0.253263</td>\n",
       "      <td>0.659387</td>\n",
       "      <td>1.000000</td>\n",
       "    </tr>\n",
       "  </tbody>\n",
       "</table>\n",
       "</div>"
      ],
      "text/plain": [
       "                   day  str_class  no_of_spaces  duration  amount_paid\n",
       "day           1.000000  -0.072296      0.036311 -0.024314     0.001768\n",
       "str_class    -0.072296   1.000000      0.060516  0.012558     0.028085\n",
       "no_of_spaces  0.036311   0.060516      1.000000 -0.049402     0.253263\n",
       "duration     -0.024314   0.012558     -0.049402  1.000000     0.659387\n",
       "amount_paid   0.001768   0.028085      0.253263  0.659387     1.000000"
      ]
     },
     "execution_count": 117,
     "metadata": {},
     "output_type": "execute_result"
    }
   ],
   "source": [
    "# Plotting pairwise relationships and distribution for numerical columns in the DataFrame\n",
    "df.select_dtypes(include='number').corr()"
   ]
  },
  {
   "cell_type": "code",
   "execution_count": 118,
   "id": "3f43d97d",
   "metadata": {},
   "outputs": [
    {
     "data": {
      "image/png": "[encoded data removed]",
      "text/plain": [
       "<Figure size 1000x400 with 2 Axes>"
      ]
     },
     "metadata": {},
     "output_type": "display_data"
    }
   ],
   "source": [
    "# Plotting a heatmap to visualize the correlation between numerical columns in the DataFrame\n",
    "plt.figure(figsize=(10, 4))\n",
    "heatmap = sns.heatmap(df.select_dtypes(include='number').corr(), vmin=-1, vmax=1, annot=True, cmap='crest')\n",
    "heatmap.set_title('Correlation Heatmap for Parking Suspensions, 2006-2010', fontdict={'fontsize':15}, pad=12);"
   ]
  },
  {
   "cell_type": "markdown",
   "id": "f3ff15c4",
   "metadata": {},
   "source": [
    "As previously mentioned, the \"duration\" and \"amount_paid\" columns have a correlation value of 0.66, indicating a moderate positive linear relationship. The other columns show almost no correlation with each other."
   ]
  },
  {
   "cell_type": "markdown",
   "id": "b453d6d9",
   "metadata": {},
   "source": [
    "### 3.2. Poisson distribution"
   ]
  },
  {
   "cell_type": "markdown",
   "id": "208cc06d",
   "metadata": {},
   "source": [
    "In this section, the Poisson distribution will be applied to explain certain data from the dataset. By using the Poisson distribution, the probability of an event occurring within a given time frame can be calculated."
   ]
  },
  {
   "cell_type": "code",
   "execution_count": 119,
   "id": "8b219838",
   "metadata": {
    "scrolled": true
   },
   "outputs": [
    {
     "data": {
      "text/html": [
       "<div>\n",
       "<style scoped>\n",
       "    .dataframe tbody tr th:only-of-type {\n",
       "        vertical-align: middle;\n",
       "    }\n",
       "\n",
       "    .dataframe tbody tr th {\n",
       "        vertical-align: top;\n",
       "    }\n",
       "\n",
       "    .dataframe thead th {\n",
       "        text-align: right;\n",
       "    }\n",
       "</style>\n",
       "<table border=\"1\" class=\"dataframe\">\n",
       "  <thead>\n",
       "    <tr style=\"text-align: right;\">\n",
       "      <th></th>\n",
       "      <th>date_suspended</th>\n",
       "      <th>year</th>\n",
       "      <th>day</th>\n",
       "      <th>purpose</th>\n",
       "      <th>str_class</th>\n",
       "      <th>no_of_spaces</th>\n",
       "      <th>duration</th>\n",
       "      <th>amount_paid</th>\n",
       "    </tr>\n",
       "  </thead>\n",
       "  <tbody>\n",
       "    <tr>\n",
       "      <th>0</th>\n",
       "      <td>2006-01-09</td>\n",
       "      <td>2006</td>\n",
       "      <td>0</td>\n",
       "      <td>filming</td>\n",
       "      <td>1</td>\n",
       "      <td>4</td>\n",
       "      <td>1</td>\n",
       "      <td>152.0</td>\n",
       "    </tr>\n",
       "    <tr>\n",
       "      <th>1</th>\n",
       "      <td>2006-01-09</td>\n",
       "      <td>2006</td>\n",
       "      <td>0</td>\n",
       "      <td>filming</td>\n",
       "      <td>4</td>\n",
       "      <td>12</td>\n",
       "      <td>1</td>\n",
       "      <td>152.0</td>\n",
       "    </tr>\n",
       "  </tbody>\n",
       "</table>\n",
       "</div>"
      ],
      "text/plain": [
       "  date_suspended  year  day  purpose  str_class  no_of_spaces  duration  \\\n",
       "0     2006-01-09  2006    0  filming          1             4         1   \n",
       "1     2006-01-09  2006    0  filming          4            12         1   \n",
       "\n",
       "   amount_paid  \n",
       "0        152.0  \n",
       "1        152.0  "
      ]
     },
     "execution_count": 119,
     "metadata": {},
     "output_type": "execute_result"
    }
   ],
   "source": [
    "# Filtering the dataset for \"filming\" purpose and resetting the index for further analysis with Poisson distribution\n",
    "for_poisson = df.loc[(df['purpose'] == 'filming')].reset_index().iloc[:, 1:].copy()\n",
    "for_poisson.head(2)"
   ]
  },
  {
   "cell_type": "markdown",
   "id": "6b16c8c2",
   "metadata": {},
   "source": [
    "A new DataFrame was created to preserve the integrity of the original one.\n",
    "\n",
    "The descriptive analysis revealed that filming suspensions are the most frequent compared to other reasons. Given its high frequency, the Poisson distribution can be applied to analyze it and estimate the likely number of filming suspension events in the upcoming year or month.\n",
    "\n",
    "Since suspensions occur sporadically, only the year and month values from the \"date_suspended\" column are retained. This simplifies the process of calculating the lambda value for the suspensions, as using daily data would complicate the analysis. The best approach is to focus on monthly occurrences for this calculation."
   ]
  },
  {
   "cell_type": "code",
   "execution_count": 120,
   "id": "67acd063",
   "metadata": {
    "scrolled": true
   },
   "outputs": [
    {
     "data": {
      "text/html": [
       "<div>\n",
       "<style scoped>\n",
       "    .dataframe tbody tr th:only-of-type {\n",
       "        vertical-align: middle;\n",
       "    }\n",
       "\n",
       "    .dataframe tbody tr th {\n",
       "        vertical-align: top;\n",
       "    }\n",
       "\n",
       "    .dataframe thead th {\n",
       "        text-align: right;\n",
       "    }\n",
       "</style>\n",
       "<table border=\"1\" class=\"dataframe\">\n",
       "  <thead>\n",
       "    <tr style=\"text-align: right;\">\n",
       "      <th>purpose</th>\n",
       "      <th>filming</th>\n",
       "    </tr>\n",
       "    <tr>\n",
       "      <th>date_suspended</th>\n",
       "      <th></th>\n",
       "    </tr>\n",
       "  </thead>\n",
       "  <tbody>\n",
       "    <tr>\n",
       "      <th>2006-01</th>\n",
       "      <td>4</td>\n",
       "    </tr>\n",
       "    <tr>\n",
       "      <th>2006-02</th>\n",
       "      <td>2</td>\n",
       "    </tr>\n",
       "    <tr>\n",
       "      <th>2006-03</th>\n",
       "      <td>27</td>\n",
       "    </tr>\n",
       "    <tr>\n",
       "      <th>2006-04</th>\n",
       "      <td>11</td>\n",
       "    </tr>\n",
       "    <tr>\n",
       "      <th>2006-05</th>\n",
       "      <td>15</td>\n",
       "    </tr>\n",
       "    <tr>\n",
       "      <th>2006-06</th>\n",
       "      <td>10</td>\n",
       "    </tr>\n",
       "    <tr>\n",
       "      <th>2006-07</th>\n",
       "      <td>16</td>\n",
       "    </tr>\n",
       "    <tr>\n",
       "      <th>2006-08</th>\n",
       "      <td>15</td>\n",
       "    </tr>\n",
       "    <tr>\n",
       "      <th>2006-09</th>\n",
       "      <td>18</td>\n",
       "    </tr>\n",
       "    <tr>\n",
       "      <th>2006-10</th>\n",
       "      <td>28</td>\n",
       "    </tr>\n",
       "    <tr>\n",
       "      <th>2006-11</th>\n",
       "      <td>12</td>\n",
       "    </tr>\n",
       "    <tr>\n",
       "      <th>2006-12</th>\n",
       "      <td>8</td>\n",
       "    </tr>\n",
       "    <tr>\n",
       "      <th>2007-01</th>\n",
       "      <td>16</td>\n",
       "    </tr>\n",
       "    <tr>\n",
       "      <th>2007-02</th>\n",
       "      <td>4</td>\n",
       "    </tr>\n",
       "    <tr>\n",
       "      <th>2007-03</th>\n",
       "      <td>21</td>\n",
       "    </tr>\n",
       "    <tr>\n",
       "      <th>2007-04</th>\n",
       "      <td>7</td>\n",
       "    </tr>\n",
       "    <tr>\n",
       "      <th>2007-05</th>\n",
       "      <td>28</td>\n",
       "    </tr>\n",
       "    <tr>\n",
       "      <th>2007-06</th>\n",
       "      <td>32</td>\n",
       "    </tr>\n",
       "    <tr>\n",
       "      <th>2007-07</th>\n",
       "      <td>15</td>\n",
       "    </tr>\n",
       "    <tr>\n",
       "      <th>2007-08</th>\n",
       "      <td>10</td>\n",
       "    </tr>\n",
       "    <tr>\n",
       "      <th>2007-09</th>\n",
       "      <td>11</td>\n",
       "    </tr>\n",
       "    <tr>\n",
       "      <th>2007-10</th>\n",
       "      <td>30</td>\n",
       "    </tr>\n",
       "    <tr>\n",
       "      <th>2007-11</th>\n",
       "      <td>9</td>\n",
       "    </tr>\n",
       "    <tr>\n",
       "      <th>2007-12</th>\n",
       "      <td>13</td>\n",
       "    </tr>\n",
       "    <tr>\n",
       "      <th>2008-01</th>\n",
       "      <td>6</td>\n",
       "    </tr>\n",
       "    <tr>\n",
       "      <th>2008-02</th>\n",
       "      <td>5</td>\n",
       "    </tr>\n",
       "    <tr>\n",
       "      <th>2008-03</th>\n",
       "      <td>5</td>\n",
       "    </tr>\n",
       "    <tr>\n",
       "      <th>2008-04</th>\n",
       "      <td>7</td>\n",
       "    </tr>\n",
       "    <tr>\n",
       "      <th>2008-05</th>\n",
       "      <td>29</td>\n",
       "    </tr>\n",
       "    <tr>\n",
       "      <th>2008-06</th>\n",
       "      <td>16</td>\n",
       "    </tr>\n",
       "    <tr>\n",
       "      <th>2008-07</th>\n",
       "      <td>4</td>\n",
       "    </tr>\n",
       "    <tr>\n",
       "      <th>2008-08</th>\n",
       "      <td>14</td>\n",
       "    </tr>\n",
       "    <tr>\n",
       "      <th>2008-09</th>\n",
       "      <td>10</td>\n",
       "    </tr>\n",
       "    <tr>\n",
       "      <th>2008-10</th>\n",
       "      <td>13</td>\n",
       "    </tr>\n",
       "    <tr>\n",
       "      <th>2008-11</th>\n",
       "      <td>5</td>\n",
       "    </tr>\n",
       "    <tr>\n",
       "      <th>2008-12</th>\n",
       "      <td>17</td>\n",
       "    </tr>\n",
       "    <tr>\n",
       "      <th>2009-01</th>\n",
       "      <td>12</td>\n",
       "    </tr>\n",
       "    <tr>\n",
       "      <th>2009-02</th>\n",
       "      <td>11</td>\n",
       "    </tr>\n",
       "    <tr>\n",
       "      <th>2009-03</th>\n",
       "      <td>7</td>\n",
       "    </tr>\n",
       "    <tr>\n",
       "      <th>2009-04</th>\n",
       "      <td>14</td>\n",
       "    </tr>\n",
       "    <tr>\n",
       "      <th>2009-05</th>\n",
       "      <td>12</td>\n",
       "    </tr>\n",
       "    <tr>\n",
       "      <th>2009-06</th>\n",
       "      <td>5</td>\n",
       "    </tr>\n",
       "    <tr>\n",
       "      <th>2009-07</th>\n",
       "      <td>4</td>\n",
       "    </tr>\n",
       "    <tr>\n",
       "      <th>2009-08</th>\n",
       "      <td>3</td>\n",
       "    </tr>\n",
       "    <tr>\n",
       "      <th>2009-09</th>\n",
       "      <td>5</td>\n",
       "    </tr>\n",
       "    <tr>\n",
       "      <th>2009-10</th>\n",
       "      <td>8</td>\n",
       "    </tr>\n",
       "    <tr>\n",
       "      <th>2009-11</th>\n",
       "      <td>8</td>\n",
       "    </tr>\n",
       "    <tr>\n",
       "      <th>2009-12</th>\n",
       "      <td>8</td>\n",
       "    </tr>\n",
       "    <tr>\n",
       "      <th>2010-01</th>\n",
       "      <td>2</td>\n",
       "    </tr>\n",
       "    <tr>\n",
       "      <th>2010-02</th>\n",
       "      <td>3</td>\n",
       "    </tr>\n",
       "    <tr>\n",
       "      <th>2010-04</th>\n",
       "      <td>7</td>\n",
       "    </tr>\n",
       "    <tr>\n",
       "      <th>2010-05</th>\n",
       "      <td>8</td>\n",
       "    </tr>\n",
       "    <tr>\n",
       "      <th>2010-06</th>\n",
       "      <td>3</td>\n",
       "    </tr>\n",
       "    <tr>\n",
       "      <th>2010-07</th>\n",
       "      <td>7</td>\n",
       "    </tr>\n",
       "    <tr>\n",
       "      <th>2010-08</th>\n",
       "      <td>18</td>\n",
       "    </tr>\n",
       "    <tr>\n",
       "      <th>2010-09</th>\n",
       "      <td>20</td>\n",
       "    </tr>\n",
       "    <tr>\n",
       "      <th>2010-10</th>\n",
       "      <td>33</td>\n",
       "    </tr>\n",
       "    <tr>\n",
       "      <th>2010-11</th>\n",
       "      <td>14</td>\n",
       "    </tr>\n",
       "    <tr>\n",
       "      <th>2010-12</th>\n",
       "      <td>4</td>\n",
       "    </tr>\n",
       "  </tbody>\n",
       "</table>\n",
       "</div>"
      ],
      "text/plain": [
       "purpose         filming\n",
       "date_suspended         \n",
       "2006-01               4\n",
       "2006-02               2\n",
       "2006-03              27\n",
       "2006-04              11\n",
       "2006-05              15\n",
       "2006-06              10\n",
       "2006-07              16\n",
       "2006-08              15\n",
       "2006-09              18\n",
       "2006-10              28\n",
       "2006-11              12\n",
       "2006-12               8\n",
       "2007-01              16\n",
       "2007-02               4\n",
       "2007-03              21\n",
       "2007-04               7\n",
       "2007-05              28\n",
       "2007-06              32\n",
       "2007-07              15\n",
       "2007-08              10\n",
       "2007-09              11\n",
       "2007-10              30\n",
       "2007-11               9\n",
       "2007-12              13\n",
       "2008-01               6\n",
       "2008-02               5\n",
       "2008-03               5\n",
       "2008-04               7\n",
       "2008-05              29\n",
       "2008-06              16\n",
       "2008-07               4\n",
       "2008-08              14\n",
       "2008-09              10\n",
       "2008-10              13\n",
       "2008-11               5\n",
       "2008-12              17\n",
       "2009-01              12\n",
       "2009-02              11\n",
       "2009-03               7\n",
       "2009-04              14\n",
       "2009-05              12\n",
       "2009-06               5\n",
       "2009-07               4\n",
       "2009-08               3\n",
       "2009-09               5\n",
       "2009-10               8\n",
       "2009-11               8\n",
       "2009-12               8\n",
       "2010-01               2\n",
       "2010-02               3\n",
       "2010-04               7\n",
       "2010-05               8\n",
       "2010-06               3\n",
       "2010-07               7\n",
       "2010-08              18\n",
       "2010-09              20\n",
       "2010-10              33\n",
       "2010-11              14\n",
       "2010-12               4"
      ]
     },
     "execution_count": 120,
     "metadata": {},
     "output_type": "execute_result"
    }
   ],
   "source": [
    "# Convert 'date_suspended' to YEAR-MONTH format and apply to the DataFrame\n",
    "for_poisson['date_suspended'] = for_poisson['date_suspended'].apply(lambda x: x.strftime('%Y-%m')) \n",
    "\n",
    "# Calculate the number of occurrences for each month and display the result\n",
    "value_count = for_poisson.groupby(['date_suspended'])['purpose'].value_counts().unstack().astype(int)\n",
    "value_count"
   ]
  },
  {
   "cell_type": "markdown",
   "id": "51eb29a4",
   "metadata": {},
   "source": [
    "The next move is finding the sum of the values and the mean."
   ]
  },
  {
   "cell_type": "code",
   "execution_count": 121,
   "id": "664bfc47",
   "metadata": {},
   "outputs": [
    {
     "name": "stdout",
     "output_type": "stream",
     "text": [
      "The total of the occurrence values for the filming purposes: 709\n",
      "This is the occurrence of 59 months.\n",
      "The mean (lambda) value of the occurrence: 12.016949152542374\n"
     ]
    }
   ],
   "source": [
    "the_sum = value_count.values.sum()       #total number of counts\n",
    "total_month = len(value_count)           #number of the monhts\n",
    "mean_lambda = the_sum/total_month        #mean or lambda for poisson distribution\n",
    "print('The total of the occurrence values for the filming purposes:', the_sum)\n",
    "print('This is the occurrence of', len(value_count), 'months.')\n",
    "print('The mean (lambda) value of the occurrence:', mean_lambda)"
   ]
  },
  {
   "cell_type": "markdown",
   "id": "e81c0105",
   "metadata": {},
   "source": [
    "The Poisson distribution probability can now be calculated using lambda."
   ]
  },
  {
   "cell_type": "code",
   "execution_count": 122,
   "id": "41acc2f6",
   "metadata": {},
   "outputs": [
    {
     "name": "stdout",
     "output_type": "stream",
     "text": [
      "The probability that no more than 15 suspensions will occur in the upcoming month is 84.0 %.\n"
     ]
    }
   ],
   "source": [
    "# Calculating the Poisson distribution probability for no more than 15 suspensions in the upcoming month\n",
    "prediction = poisson.cdf(k=15, mu=12.016949152542374) * 100\n",
    "print('The probability that no more than 15 suspensions will occur in the upcoming month is', prediction.round(), '%.')"
   ]
  },
  {
   "cell_type": "code",
   "execution_count": 123,
   "id": "55a0d37d",
   "metadata": {},
   "outputs": [
    {
     "data": {
      "text/plain": [
       "<Axes: xlabel='filming', ylabel='Density'>"
      ]
     },
     "execution_count": 123,
     "metadata": {},
     "output_type": "execute_result"
    },
    {
     "data": {
      "image/png": "[encoded data removed]",
      "text/plain": [
       "<Figure size 1800x400 with 1 Axes>"
      ]
     },
     "metadata": {},
     "output_type": "display_data"
    },
    {
     "data": {
      "image/png": "[encoded data removed]",
      "text/plain": [
       "<Figure size 1800x400 with 1 Axes>"
      ]
     },
     "metadata": {},
     "output_type": "display_data"
    }
   ],
   "source": [
    "# Generate and visualize Poisson-distributed data and another distribution\n",
    "random.seed(14)\n",
    "x= poisson.rvs(mu=12.016949152542374, size=59)\n",
    "\n",
    "fig, ax = plt.subplots(figsize = (18, 4))\n",
    "sns.distplot(x)\n",
    "\n",
    "fig, ax = plt.subplots(figsize = (18, 4))\n",
    "sns.distplot(value_count.filming)"
   ]
  },
  {
   "cell_type": "markdown",
   "id": "1a624c31",
   "metadata": {},
   "source": [
    "A bar plot of randomly seeded numbers and a plot of the original numbers from the 'purpose' column have been compared. While there are some similarities between the two, a probability distribution fitting test needs to be conducted to verify the fit."
   ]
  },
  {
   "cell_type": "markdown",
   "id": "9d537959",
   "metadata": {},
   "source": [
    "## 4 MACHINE LEARNING\n",
    "\n",
    "With detailed information about the columns obtained from statistical analysis, the next step involves conducting machine learning experiments using regression and classification models."
   ]
  },
  {
   "cell_type": "markdown",
   "id": "cbcee7c1",
   "metadata": {},
   "source": [
    "### 4.1 Regression Models\n",
    "\n",
    "In the context of regression modeling, the column of primary interest from a sales perspective is the cost associated with the parking bays. Therefore, the 'amount_paid' column is selected as the target variable. Commonly used regression models will be applied to evaluate their performance and determine which model is most effective for this task."
   ]
  },
  {
   "cell_type": "code",
   "execution_count": 124,
   "id": "2a1c4be7",
   "metadata": {},
   "outputs": [],
   "source": [
    "# Split features and target\n",
    "X = df.drop('amount_paid', axis=1)\n",
    "y = df['amount_paid']\n",
    "\n",
    "# Train-test split\n",
    "X_train, X_test, y_train, y_test = train_test_split(X, y, test_size=0.2, random_state=630)\n",
    "\n",
    "# Define preprocessing\n",
    "numeric_features = ['year', 'day', 'str_class', 'no_of_spaces', 'duration']\n",
    "categorical_features = ['purpose']\n",
    "\n",
    "preprocessor = ColumnTransformer(transformers=[\n",
    "    ('num', StandardScaler(), numeric_features),\n",
    "    ('cat', OneHotEncoder(drop='first'), categorical_features)\n",
    "])\n",
    "\n",
    "# Define models and hyperparameters\n",
    "models = {\n",
    "    'Linear Regression': (LinearRegression(), {}),\n",
    "    'Ridge Regression': (Ridge(), {'model__alpha': [0.1, 1.0, 10.0]}),\n",
    "    'Lasso Regression': (Lasso(), {'model__alpha': [0.01, 0.1, 1.0]}),\n",
    "    'Random Forest': (RandomForestRegressor(random_state=42), {\n",
    "        'model__n_estimators': [50, 100],\n",
    "        'model__max_depth': [None, 5]\n",
    "    }),\n",
    "    'Gradient Boosting': (GradientBoostingRegressor(random_state=42), {\n",
    "        'model__n_estimators': [50, 100],\n",
    "        'model__learning_rate': [0.05, 0.1],\n",
    "        'model__max_depth': [3, 5]\n",
    "    })\n",
    "}\n",
    "\n",
    "# Train and evaluate models\n",
    "results = {}\n",
    "\n",
    "for name, (model, params) in models.items():\n",
    "    pipe = Pipeline(steps=[\n",
    "        ('preprocessor', preprocessor),\n",
    "        ('model', model)\n",
    "    ])\n",
    "    \n",
    "    grid = GridSearchCV(pipe, param_grid=params, cv=5, scoring='r2', n_jobs=-1)\n",
    "    grid.fit(X_train, y_train)\n",
    "    \n",
    "    y_pred = grid.predict(X_test)\n",
    "    \n",
    "    mae = mean_absolute_error(y_test, y_pred)\n",
    "    mse = mean_squared_error(y_test, y_pred)\n",
    "    rmse = np.sqrt(mse)\n",
    "    r2 = r2_score(y_test, y_pred)\n",
    "    \n",
    "    results[name] = {\n",
    "        'Best Params': grid.best_params_,\n",
    "        'MAE': mae,\n",
    "        'MSE': mse,\n",
    "        'RMSE': rmse,\n",
    "        'R2': r2\n",
    "    }"
   ]
  },
  {
   "cell_type": "markdown",
   "id": "3c24b15a",
   "metadata": {},
   "source": [
    "A machine learning pipeline was created to predict the *amount_paid* based on various features in the dataset. The process involved the following steps:\n",
    "* *Data Splitting*: The target variable (amount_paid) was separated from the features (X), and the data was divided into training and testing sets.\n",
    "* *Preprocessing*: Data preprocessing was carried out using StandardScaler for numerical features and OneHotEncoder for categorical features to prepare the dataset for modeling.\n",
    "* *Model Definition*: Several regression models, including Linear Regression, Ridge, Lasso, Random Forest, and Gradient Boosting, were defined, with hyperparameters specified for tuning.\n",
    "* *Model Training and Evaluation*: GridSearchCV was used to optimize the hyperparameters of each model, which were trained on the training set and evaluated on the test set using performance metrics such as MAE, MSE, RMSE, and R².\n",
    "\n",
    "The objective was to compare the performance of different regression models and identify the best one for predicting the amount_paid based on the evaluation metrics.\n",
    "\n",
    "Now, let's examine the results to determine which model performed the best for the project dataset."
   ]
  },
  {
   "cell_type": "code",
   "execution_count": 125,
   "id": "327266ca",
   "metadata": {},
   "outputs": [
    {
     "data": {
      "text/html": [
       "<div>\n",
       "<style scoped>\n",
       "    .dataframe tbody tr th:only-of-type {\n",
       "        vertical-align: middle;\n",
       "    }\n",
       "\n",
       "    .dataframe tbody tr th {\n",
       "        vertical-align: top;\n",
       "    }\n",
       "\n",
       "    .dataframe thead th {\n",
       "        text-align: right;\n",
       "    }\n",
       "</style>\n",
       "<table border=\"1\" class=\"dataframe\">\n",
       "  <thead>\n",
       "    <tr style=\"text-align: right;\">\n",
       "      <th></th>\n",
       "      <th>Model</th>\n",
       "      <th>MAE</th>\n",
       "      <th>MSE</th>\n",
       "      <th>RMSE</th>\n",
       "      <th>R2</th>\n",
       "    </tr>\n",
       "  </thead>\n",
       "  <tbody>\n",
       "    <tr>\n",
       "      <th>0</th>\n",
       "      <td>Linear Regression</td>\n",
       "      <td>266.199299</td>\n",
       "      <td>3145708.523025</td>\n",
       "      <td>1773.614536</td>\n",
       "      <td>-4.521969</td>\n",
       "    </tr>\n",
       "    <tr>\n",
       "      <th>1</th>\n",
       "      <td>Ridge Regression</td>\n",
       "      <td>263.693337</td>\n",
       "      <td>3066889.723322</td>\n",
       "      <td>1751.253758</td>\n",
       "      <td>-4.383611</td>\n",
       "    </tr>\n",
       "    <tr>\n",
       "      <th>2</th>\n",
       "      <td>Lasso Regression</td>\n",
       "      <td>263.723802</td>\n",
       "      <td>3115906.969809</td>\n",
       "      <td>1765.193182</td>\n",
       "      <td>-4.469655</td>\n",
       "    </tr>\n",
       "    <tr>\n",
       "      <th>3</th>\n",
       "      <td>Random Forest</td>\n",
       "      <td>108.179398</td>\n",
       "      <td>104639.938365</td>\n",
       "      <td>323.480971</td>\n",
       "      <td>0.816315</td>\n",
       "    </tr>\n",
       "    <tr>\n",
       "      <th>4</th>\n",
       "      <td>Gradient Boosting</td>\n",
       "      <td>128.329384</td>\n",
       "      <td>161335.474009</td>\n",
       "      <td>401.665874</td>\n",
       "      <td>0.716792</td>\n",
       "    </tr>\n",
       "  </tbody>\n",
       "</table>\n",
       "</div>"
      ],
      "text/plain": [
       "               Model         MAE             MSE         RMSE        R2\n",
       "0  Linear Regression  266.199299  3145708.523025  1773.614536 -4.521969\n",
       "1   Ridge Regression  263.693337  3066889.723322  1751.253758 -4.383611\n",
       "2   Lasso Regression  263.723802  3115906.969809  1765.193182 -4.469655\n",
       "3      Random Forest  108.179398   104639.938365   323.480971  0.816315\n",
       "4  Gradient Boosting  128.329384   161335.474009   401.665874  0.716792"
      ]
     },
     "metadata": {},
     "output_type": "display_data"
    },
    {
     "data": {
      "image/png": "[encoded data removed]",
      "text/plain": [
       "<Figure size 1800x500 with 3 Axes>"
      ]
     },
     "metadata": {},
     "output_type": "display_data"
    }
   ],
   "source": [
    "# Convert results to DataFrame\n",
    "results_df = pd.DataFrame(results).T.reset_index().rename(columns={'index': 'Model'})\n",
    "\n",
    "# Plot evaluation metrics (3 plots only)\n",
    "fig, axes = plt.subplots(1, 3, figsize=(18, 5))  # Single row with 3 plots\n",
    "metrics = ['MAE', 'RMSE', 'R2']\n",
    "colors = ['#3498db', '#2ecc71', '#e74c3c']\n",
    "\n",
    "for i, metric in enumerate(metrics):\n",
    "    results_df.sort_values(by=metric, ascending=(metric != 'R2')).plot(\n",
    "        x='Model', y=metric, kind='barh', ax=axes[i], legend=False, color=colors[i])\n",
    "    axes[i].set_title(f'{metric} Comparison')\n",
    "    axes[i].set_xlabel(metric)\n",
    "    axes[i].set_ylabel('Model')\n",
    "    axes[i].grid(True)\n",
    "\n",
    "# Display results table\n",
    "display(results_df.drop(columns='Best Params'))\n",
    "plt.tight_layout()\n",
    "plt.show()"
   ]
  },
  {
   "cell_type": "markdown",
   "id": "0f8df066",
   "metadata": {},
   "source": [
    "Model Performance Overview:\n",
    "\n",
    "1. ***Linear, Ridge, and Lasso Regression***\n",
    "* R²: -4.52 (Linear), -4.38 (Ridge), -4.47 (Lasso)\n",
    "\n",
    "    These models perform poorly, with negative R² values indicating they do not explain the variance in the target variable at all.\n",
    "\n",
    "* MAE: ~263\n",
    "* MSE: ~3.1M\n",
    "* RMSE: ~1,751\n",
    "\n",
    "    Errors are quite high, showing that these linear models do not capture the underlying patterns in the data effectively. Ridge and Lasso offer only slight improvements over Linear Regression due to regularization.\n",
    "\n",
    "2. ***Random Forest Regressor***\n",
    "* R²: 0.8163\n",
    "\n",
    "    A significant improvement, as it explains 82% of the variance in the target variable.\n",
    "\n",
    "* MAE: 108.18\n",
    "* MSE: 104,639.94\n",
    "* RMSE: 323.48\n",
    "\n",
    "    This model has much lower errors compared to the linear models, demonstrating that it captures the non-linear relationships in the data more effectively.\n",
    "\n",
    "3. ***Gradient Boosting Regressor***\n",
    "* R²: 0.7168\n",
    "* MAE: 128.33\n",
    "* MSE: 161,335.47\n",
    "* RMSE: 401.67\n",
    "\n",
    "    While it performs slightly worse than Random Forest, it still shows good predictive power. "
   ]
  },
  {
   "cell_type": "markdown",
   "id": "e0c5c410",
   "metadata": {},
   "source": []
  }
 ],
 "metadata": {
  "kernelspec": {
   "display_name": "base",
   "language": "python",
   "name": "python3"
  },
  "language_info": {
   "codemirror_mode": {
    "name": "ipython",
    "version": 3
   },
   "file_extension": ".py",
   "mimetype": "text/x-python",
   "name": "python",
   "nbconvert_exporter": "python",
   "pygments_lexer": "ipython3",
   "version": "3.11.4"
  }
 },
 "nbformat": 4,
 "nbformat_minor": 5
}
